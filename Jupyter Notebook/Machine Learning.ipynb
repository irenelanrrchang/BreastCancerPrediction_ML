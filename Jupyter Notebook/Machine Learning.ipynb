{
 "cells": [
  {
   "cell_type": "code",
   "execution_count": 1,
   "metadata": {
    "collapsed": true
   },
   "outputs": [],
   "source": [
    "import numpy as np\n",
    "import pandas as pd\n",
    "import os\n",
    "import matplotlib.pyplot as plt\n",
    "from sklearn.datasets import load_iris\n",
    "from sklearn.model_selection import train_test_split\n",
    "from sklearn.neighbors import KNeighborsClassifier"
   ]
  },
  {
   "cell_type": "code",
   "execution_count": 2,
   "metadata": {},
   "outputs": [
    {
     "data": {
      "text/html": [
       "<div>\n",
       "<style>\n",
       "    .dataframe thead tr:only-child th {\n",
       "        text-align: right;\n",
       "    }\n",
       "\n",
       "    .dataframe thead th {\n",
       "        text-align: left;\n",
       "    }\n",
       "\n",
       "    .dataframe tbody tr th {\n",
       "        vertical-align: top;\n",
       "    }\n",
       "</style>\n",
       "<table border=\"1\" class=\"dataframe\">\n",
       "  <thead>\n",
       "    <tr style=\"text-align: right;\">\n",
       "      <th></th>\n",
       "      <th>id</th>\n",
       "      <th>diagnosis</th>\n",
       "      <th>radius_mean</th>\n",
       "      <th>texture_mean</th>\n",
       "      <th>perimeter_mean</th>\n",
       "      <th>area_mean</th>\n",
       "      <th>smoothness_mean</th>\n",
       "      <th>compactness_mean</th>\n",
       "      <th>concavity_mean</th>\n",
       "      <th>concave points_mean</th>\n",
       "      <th>...</th>\n",
       "      <th>texture_worst</th>\n",
       "      <th>perimeter_worst</th>\n",
       "      <th>area_worst</th>\n",
       "      <th>smoothness_worst</th>\n",
       "      <th>compactness_worst</th>\n",
       "      <th>concavity_worst</th>\n",
       "      <th>concave points_worst</th>\n",
       "      <th>symmetry_worst</th>\n",
       "      <th>fractal_dimension_worst</th>\n",
       "      <th>Unnamed: 32</th>\n",
       "    </tr>\n",
       "  </thead>\n",
       "  <tbody>\n",
       "    <tr>\n",
       "      <th>0</th>\n",
       "      <td>842302</td>\n",
       "      <td>M</td>\n",
       "      <td>17.99</td>\n",
       "      <td>10.38</td>\n",
       "      <td>122.80</td>\n",
       "      <td>1001.0</td>\n",
       "      <td>0.11840</td>\n",
       "      <td>0.27760</td>\n",
       "      <td>0.3001</td>\n",
       "      <td>0.14710</td>\n",
       "      <td>...</td>\n",
       "      <td>17.33</td>\n",
       "      <td>184.60</td>\n",
       "      <td>2019.0</td>\n",
       "      <td>0.1622</td>\n",
       "      <td>0.6656</td>\n",
       "      <td>0.7119</td>\n",
       "      <td>0.2654</td>\n",
       "      <td>0.4601</td>\n",
       "      <td>0.11890</td>\n",
       "      <td>NaN</td>\n",
       "    </tr>\n",
       "    <tr>\n",
       "      <th>1</th>\n",
       "      <td>842517</td>\n",
       "      <td>M</td>\n",
       "      <td>20.57</td>\n",
       "      <td>17.77</td>\n",
       "      <td>132.90</td>\n",
       "      <td>1326.0</td>\n",
       "      <td>0.08474</td>\n",
       "      <td>0.07864</td>\n",
       "      <td>0.0869</td>\n",
       "      <td>0.07017</td>\n",
       "      <td>...</td>\n",
       "      <td>23.41</td>\n",
       "      <td>158.80</td>\n",
       "      <td>1956.0</td>\n",
       "      <td>0.1238</td>\n",
       "      <td>0.1866</td>\n",
       "      <td>0.2416</td>\n",
       "      <td>0.1860</td>\n",
       "      <td>0.2750</td>\n",
       "      <td>0.08902</td>\n",
       "      <td>NaN</td>\n",
       "    </tr>\n",
       "    <tr>\n",
       "      <th>2</th>\n",
       "      <td>84300903</td>\n",
       "      <td>M</td>\n",
       "      <td>19.69</td>\n",
       "      <td>21.25</td>\n",
       "      <td>130.00</td>\n",
       "      <td>1203.0</td>\n",
       "      <td>0.10960</td>\n",
       "      <td>0.15990</td>\n",
       "      <td>0.1974</td>\n",
       "      <td>0.12790</td>\n",
       "      <td>...</td>\n",
       "      <td>25.53</td>\n",
       "      <td>152.50</td>\n",
       "      <td>1709.0</td>\n",
       "      <td>0.1444</td>\n",
       "      <td>0.4245</td>\n",
       "      <td>0.4504</td>\n",
       "      <td>0.2430</td>\n",
       "      <td>0.3613</td>\n",
       "      <td>0.08758</td>\n",
       "      <td>NaN</td>\n",
       "    </tr>\n",
       "    <tr>\n",
       "      <th>3</th>\n",
       "      <td>84348301</td>\n",
       "      <td>M</td>\n",
       "      <td>11.42</td>\n",
       "      <td>20.38</td>\n",
       "      <td>77.58</td>\n",
       "      <td>386.1</td>\n",
       "      <td>0.14250</td>\n",
       "      <td>0.28390</td>\n",
       "      <td>0.2414</td>\n",
       "      <td>0.10520</td>\n",
       "      <td>...</td>\n",
       "      <td>26.50</td>\n",
       "      <td>98.87</td>\n",
       "      <td>567.7</td>\n",
       "      <td>0.2098</td>\n",
       "      <td>0.8663</td>\n",
       "      <td>0.6869</td>\n",
       "      <td>0.2575</td>\n",
       "      <td>0.6638</td>\n",
       "      <td>0.17300</td>\n",
       "      <td>NaN</td>\n",
       "    </tr>\n",
       "    <tr>\n",
       "      <th>4</th>\n",
       "      <td>84358402</td>\n",
       "      <td>M</td>\n",
       "      <td>20.29</td>\n",
       "      <td>14.34</td>\n",
       "      <td>135.10</td>\n",
       "      <td>1297.0</td>\n",
       "      <td>0.10030</td>\n",
       "      <td>0.13280</td>\n",
       "      <td>0.1980</td>\n",
       "      <td>0.10430</td>\n",
       "      <td>...</td>\n",
       "      <td>16.67</td>\n",
       "      <td>152.20</td>\n",
       "      <td>1575.0</td>\n",
       "      <td>0.1374</td>\n",
       "      <td>0.2050</td>\n",
       "      <td>0.4000</td>\n",
       "      <td>0.1625</td>\n",
       "      <td>0.2364</td>\n",
       "      <td>0.07678</td>\n",
       "      <td>NaN</td>\n",
       "    </tr>\n",
       "  </tbody>\n",
       "</table>\n",
       "<p>5 rows × 33 columns</p>\n",
       "</div>"
      ],
      "text/plain": [
       "         id diagnosis  radius_mean  texture_mean  perimeter_mean  area_mean  \\\n",
       "0    842302         M        17.99         10.38          122.80     1001.0   \n",
       "1    842517         M        20.57         17.77          132.90     1326.0   \n",
       "2  84300903         M        19.69         21.25          130.00     1203.0   \n",
       "3  84348301         M        11.42         20.38           77.58      386.1   \n",
       "4  84358402         M        20.29         14.34          135.10     1297.0   \n",
       "\n",
       "   smoothness_mean  compactness_mean  concavity_mean  concave points_mean  \\\n",
       "0          0.11840           0.27760          0.3001              0.14710   \n",
       "1          0.08474           0.07864          0.0869              0.07017   \n",
       "2          0.10960           0.15990          0.1974              0.12790   \n",
       "3          0.14250           0.28390          0.2414              0.10520   \n",
       "4          0.10030           0.13280          0.1980              0.10430   \n",
       "\n",
       "      ...       texture_worst  perimeter_worst  area_worst  smoothness_worst  \\\n",
       "0     ...               17.33           184.60      2019.0            0.1622   \n",
       "1     ...               23.41           158.80      1956.0            0.1238   \n",
       "2     ...               25.53           152.50      1709.0            0.1444   \n",
       "3     ...               26.50            98.87       567.7            0.2098   \n",
       "4     ...               16.67           152.20      1575.0            0.1374   \n",
       "\n",
       "   compactness_worst  concavity_worst  concave points_worst  symmetry_worst  \\\n",
       "0             0.6656           0.7119                0.2654          0.4601   \n",
       "1             0.1866           0.2416                0.1860          0.2750   \n",
       "2             0.4245           0.4504                0.2430          0.3613   \n",
       "3             0.8663           0.6869                0.2575          0.6638   \n",
       "4             0.2050           0.4000                0.1625          0.2364   \n",
       "\n",
       "   fractal_dimension_worst  Unnamed: 32  \n",
       "0                  0.11890          NaN  \n",
       "1                  0.08902          NaN  \n",
       "2                  0.08758          NaN  \n",
       "3                  0.17300          NaN  \n",
       "4                  0.07678          NaN  \n",
       "\n",
       "[5 rows x 33 columns]"
      ]
     },
     "execution_count": 2,
     "metadata": {},
     "output_type": "execute_result"
    }
   ],
   "source": [
    "# Read and check the data\n",
    "cancer = pd.read_csv('../Resources/data.csv')\n",
    "cancer.head()"
   ]
  },
  {
   "cell_type": "code",
   "execution_count": 3,
   "metadata": {
    "scrolled": true
   },
   "outputs": [
    {
     "data": {
      "text/html": [
       "<div>\n",
       "<style>\n",
       "    .dataframe thead tr:only-child th {\n",
       "        text-align: right;\n",
       "    }\n",
       "\n",
       "    .dataframe thead th {\n",
       "        text-align: left;\n",
       "    }\n",
       "\n",
       "    .dataframe tbody tr th {\n",
       "        vertical-align: top;\n",
       "    }\n",
       "</style>\n",
       "<table border=\"1\" class=\"dataframe\">\n",
       "  <thead>\n",
       "    <tr style=\"text-align: right;\">\n",
       "      <th></th>\n",
       "      <th>diagnosis</th>\n",
       "      <th>radius_mean</th>\n",
       "      <th>texture_mean</th>\n",
       "      <th>perimeter_mean</th>\n",
       "      <th>area_mean</th>\n",
       "      <th>smoothness_mean</th>\n",
       "      <th>compactness_mean</th>\n",
       "      <th>concavity_mean</th>\n",
       "      <th>concave points_mean</th>\n",
       "      <th>symmetry_mean</th>\n",
       "      <th>...</th>\n",
       "      <th>radius_worst</th>\n",
       "      <th>texture_worst</th>\n",
       "      <th>perimeter_worst</th>\n",
       "      <th>area_worst</th>\n",
       "      <th>smoothness_worst</th>\n",
       "      <th>compactness_worst</th>\n",
       "      <th>concavity_worst</th>\n",
       "      <th>concave points_worst</th>\n",
       "      <th>symmetry_worst</th>\n",
       "      <th>fractal_dimension_worst</th>\n",
       "    </tr>\n",
       "  </thead>\n",
       "  <tbody>\n",
       "    <tr>\n",
       "      <th>0</th>\n",
       "      <td>M</td>\n",
       "      <td>17.99</td>\n",
       "      <td>10.38</td>\n",
       "      <td>122.80</td>\n",
       "      <td>1001.0</td>\n",
       "      <td>0.11840</td>\n",
       "      <td>0.27760</td>\n",
       "      <td>0.3001</td>\n",
       "      <td>0.14710</td>\n",
       "      <td>0.2419</td>\n",
       "      <td>...</td>\n",
       "      <td>25.38</td>\n",
       "      <td>17.33</td>\n",
       "      <td>184.60</td>\n",
       "      <td>2019.0</td>\n",
       "      <td>0.1622</td>\n",
       "      <td>0.6656</td>\n",
       "      <td>0.7119</td>\n",
       "      <td>0.2654</td>\n",
       "      <td>0.4601</td>\n",
       "      <td>0.11890</td>\n",
       "    </tr>\n",
       "    <tr>\n",
       "      <th>1</th>\n",
       "      <td>M</td>\n",
       "      <td>20.57</td>\n",
       "      <td>17.77</td>\n",
       "      <td>132.90</td>\n",
       "      <td>1326.0</td>\n",
       "      <td>0.08474</td>\n",
       "      <td>0.07864</td>\n",
       "      <td>0.0869</td>\n",
       "      <td>0.07017</td>\n",
       "      <td>0.1812</td>\n",
       "      <td>...</td>\n",
       "      <td>24.99</td>\n",
       "      <td>23.41</td>\n",
       "      <td>158.80</td>\n",
       "      <td>1956.0</td>\n",
       "      <td>0.1238</td>\n",
       "      <td>0.1866</td>\n",
       "      <td>0.2416</td>\n",
       "      <td>0.1860</td>\n",
       "      <td>0.2750</td>\n",
       "      <td>0.08902</td>\n",
       "    </tr>\n",
       "    <tr>\n",
       "      <th>2</th>\n",
       "      <td>M</td>\n",
       "      <td>19.69</td>\n",
       "      <td>21.25</td>\n",
       "      <td>130.00</td>\n",
       "      <td>1203.0</td>\n",
       "      <td>0.10960</td>\n",
       "      <td>0.15990</td>\n",
       "      <td>0.1974</td>\n",
       "      <td>0.12790</td>\n",
       "      <td>0.2069</td>\n",
       "      <td>...</td>\n",
       "      <td>23.57</td>\n",
       "      <td>25.53</td>\n",
       "      <td>152.50</td>\n",
       "      <td>1709.0</td>\n",
       "      <td>0.1444</td>\n",
       "      <td>0.4245</td>\n",
       "      <td>0.4504</td>\n",
       "      <td>0.2430</td>\n",
       "      <td>0.3613</td>\n",
       "      <td>0.08758</td>\n",
       "    </tr>\n",
       "    <tr>\n",
       "      <th>3</th>\n",
       "      <td>M</td>\n",
       "      <td>11.42</td>\n",
       "      <td>20.38</td>\n",
       "      <td>77.58</td>\n",
       "      <td>386.1</td>\n",
       "      <td>0.14250</td>\n",
       "      <td>0.28390</td>\n",
       "      <td>0.2414</td>\n",
       "      <td>0.10520</td>\n",
       "      <td>0.2597</td>\n",
       "      <td>...</td>\n",
       "      <td>14.91</td>\n",
       "      <td>26.50</td>\n",
       "      <td>98.87</td>\n",
       "      <td>567.7</td>\n",
       "      <td>0.2098</td>\n",
       "      <td>0.8663</td>\n",
       "      <td>0.6869</td>\n",
       "      <td>0.2575</td>\n",
       "      <td>0.6638</td>\n",
       "      <td>0.17300</td>\n",
       "    </tr>\n",
       "    <tr>\n",
       "      <th>4</th>\n",
       "      <td>M</td>\n",
       "      <td>20.29</td>\n",
       "      <td>14.34</td>\n",
       "      <td>135.10</td>\n",
       "      <td>1297.0</td>\n",
       "      <td>0.10030</td>\n",
       "      <td>0.13280</td>\n",
       "      <td>0.1980</td>\n",
       "      <td>0.10430</td>\n",
       "      <td>0.1809</td>\n",
       "      <td>...</td>\n",
       "      <td>22.54</td>\n",
       "      <td>16.67</td>\n",
       "      <td>152.20</td>\n",
       "      <td>1575.0</td>\n",
       "      <td>0.1374</td>\n",
       "      <td>0.2050</td>\n",
       "      <td>0.4000</td>\n",
       "      <td>0.1625</td>\n",
       "      <td>0.2364</td>\n",
       "      <td>0.07678</td>\n",
       "    </tr>\n",
       "  </tbody>\n",
       "</table>\n",
       "<p>5 rows × 31 columns</p>\n",
       "</div>"
      ],
      "text/plain": [
       "  diagnosis  radius_mean  texture_mean  perimeter_mean  area_mean  \\\n",
       "0         M        17.99         10.38          122.80     1001.0   \n",
       "1         M        20.57         17.77          132.90     1326.0   \n",
       "2         M        19.69         21.25          130.00     1203.0   \n",
       "3         M        11.42         20.38           77.58      386.1   \n",
       "4         M        20.29         14.34          135.10     1297.0   \n",
       "\n",
       "   smoothness_mean  compactness_mean  concavity_mean  concave points_mean  \\\n",
       "0          0.11840           0.27760          0.3001              0.14710   \n",
       "1          0.08474           0.07864          0.0869              0.07017   \n",
       "2          0.10960           0.15990          0.1974              0.12790   \n",
       "3          0.14250           0.28390          0.2414              0.10520   \n",
       "4          0.10030           0.13280          0.1980              0.10430   \n",
       "\n",
       "   symmetry_mean           ...             radius_worst  texture_worst  \\\n",
       "0         0.2419           ...                    25.38          17.33   \n",
       "1         0.1812           ...                    24.99          23.41   \n",
       "2         0.2069           ...                    23.57          25.53   \n",
       "3         0.2597           ...                    14.91          26.50   \n",
       "4         0.1809           ...                    22.54          16.67   \n",
       "\n",
       "   perimeter_worst  area_worst  smoothness_worst  compactness_worst  \\\n",
       "0           184.60      2019.0            0.1622             0.6656   \n",
       "1           158.80      1956.0            0.1238             0.1866   \n",
       "2           152.50      1709.0            0.1444             0.4245   \n",
       "3            98.87       567.7            0.2098             0.8663   \n",
       "4           152.20      1575.0            0.1374             0.2050   \n",
       "\n",
       "   concavity_worst  concave points_worst  symmetry_worst  \\\n",
       "0           0.7119                0.2654          0.4601   \n",
       "1           0.2416                0.1860          0.2750   \n",
       "2           0.4504                0.2430          0.3613   \n",
       "3           0.6869                0.2575          0.6638   \n",
       "4           0.4000                0.1625          0.2364   \n",
       "\n",
       "   fractal_dimension_worst  \n",
       "0                  0.11890  \n",
       "1                  0.08902  \n",
       "2                  0.08758  \n",
       "3                  0.17300  \n",
       "4                  0.07678  \n",
       "\n",
       "[5 rows x 31 columns]"
      ]
     },
     "execution_count": 3,
     "metadata": {},
     "output_type": "execute_result"
    }
   ],
   "source": [
    "# Clean data\n",
    "cancer = cancer.iloc[:,:-1]\n",
    "cancer = cancer.drop(cancer.columns[[0]], axis=1) \n",
    "cancer.head()"
   ]
  },
  {
   "cell_type": "markdown",
   "metadata": {},
   "source": [
    "# K Nearest Neighbors methodology"
   ]
  },
  {
   "cell_type": "code",
   "execution_count": 4,
   "metadata": {},
   "outputs": [
    {
     "name": "stderr",
     "output_type": "stream",
     "text": [
      "Using TensorFlow backend.\n"
     ]
    },
    {
     "data": {
      "text/html": [
       "<div>\n",
       "<style>\n",
       "    .dataframe thead tr:only-child th {\n",
       "        text-align: right;\n",
       "    }\n",
       "\n",
       "    .dataframe thead th {\n",
       "        text-align: left;\n",
       "    }\n",
       "\n",
       "    .dataframe tbody tr th {\n",
       "        vertical-align: top;\n",
       "    }\n",
       "</style>\n",
       "<table border=\"1\" class=\"dataframe\">\n",
       "  <thead>\n",
       "    <tr style=\"text-align: right;\">\n",
       "      <th></th>\n",
       "      <th>radius_mean</th>\n",
       "      <th>texture_mean</th>\n",
       "      <th>perimeter_mean</th>\n",
       "      <th>area_mean</th>\n",
       "      <th>smoothness_mean</th>\n",
       "      <th>compactness_mean</th>\n",
       "      <th>concavity_mean</th>\n",
       "      <th>concave points_mean</th>\n",
       "      <th>symmetry_mean</th>\n",
       "      <th>fractal_dimension_mean</th>\n",
       "      <th>...</th>\n",
       "      <th>radius_worst</th>\n",
       "      <th>texture_worst</th>\n",
       "      <th>perimeter_worst</th>\n",
       "      <th>area_worst</th>\n",
       "      <th>smoothness_worst</th>\n",
       "      <th>compactness_worst</th>\n",
       "      <th>concavity_worst</th>\n",
       "      <th>concave points_worst</th>\n",
       "      <th>symmetry_worst</th>\n",
       "      <th>fractal_dimension_worst</th>\n",
       "    </tr>\n",
       "  </thead>\n",
       "  <tbody>\n",
       "    <tr>\n",
       "      <th>0</th>\n",
       "      <td>17.99</td>\n",
       "      <td>10.38</td>\n",
       "      <td>122.80</td>\n",
       "      <td>1001.0</td>\n",
       "      <td>0.11840</td>\n",
       "      <td>0.27760</td>\n",
       "      <td>0.3001</td>\n",
       "      <td>0.14710</td>\n",
       "      <td>0.2419</td>\n",
       "      <td>0.07871</td>\n",
       "      <td>...</td>\n",
       "      <td>25.38</td>\n",
       "      <td>17.33</td>\n",
       "      <td>184.60</td>\n",
       "      <td>2019.0</td>\n",
       "      <td>0.1622</td>\n",
       "      <td>0.6656</td>\n",
       "      <td>0.7119</td>\n",
       "      <td>0.2654</td>\n",
       "      <td>0.4601</td>\n",
       "      <td>0.11890</td>\n",
       "    </tr>\n",
       "    <tr>\n",
       "      <th>1</th>\n",
       "      <td>20.57</td>\n",
       "      <td>17.77</td>\n",
       "      <td>132.90</td>\n",
       "      <td>1326.0</td>\n",
       "      <td>0.08474</td>\n",
       "      <td>0.07864</td>\n",
       "      <td>0.0869</td>\n",
       "      <td>0.07017</td>\n",
       "      <td>0.1812</td>\n",
       "      <td>0.05667</td>\n",
       "      <td>...</td>\n",
       "      <td>24.99</td>\n",
       "      <td>23.41</td>\n",
       "      <td>158.80</td>\n",
       "      <td>1956.0</td>\n",
       "      <td>0.1238</td>\n",
       "      <td>0.1866</td>\n",
       "      <td>0.2416</td>\n",
       "      <td>0.1860</td>\n",
       "      <td>0.2750</td>\n",
       "      <td>0.08902</td>\n",
       "    </tr>\n",
       "    <tr>\n",
       "      <th>2</th>\n",
       "      <td>19.69</td>\n",
       "      <td>21.25</td>\n",
       "      <td>130.00</td>\n",
       "      <td>1203.0</td>\n",
       "      <td>0.10960</td>\n",
       "      <td>0.15990</td>\n",
       "      <td>0.1974</td>\n",
       "      <td>0.12790</td>\n",
       "      <td>0.2069</td>\n",
       "      <td>0.05999</td>\n",
       "      <td>...</td>\n",
       "      <td>23.57</td>\n",
       "      <td>25.53</td>\n",
       "      <td>152.50</td>\n",
       "      <td>1709.0</td>\n",
       "      <td>0.1444</td>\n",
       "      <td>0.4245</td>\n",
       "      <td>0.4504</td>\n",
       "      <td>0.2430</td>\n",
       "      <td>0.3613</td>\n",
       "      <td>0.08758</td>\n",
       "    </tr>\n",
       "    <tr>\n",
       "      <th>3</th>\n",
       "      <td>11.42</td>\n",
       "      <td>20.38</td>\n",
       "      <td>77.58</td>\n",
       "      <td>386.1</td>\n",
       "      <td>0.14250</td>\n",
       "      <td>0.28390</td>\n",
       "      <td>0.2414</td>\n",
       "      <td>0.10520</td>\n",
       "      <td>0.2597</td>\n",
       "      <td>0.09744</td>\n",
       "      <td>...</td>\n",
       "      <td>14.91</td>\n",
       "      <td>26.50</td>\n",
       "      <td>98.87</td>\n",
       "      <td>567.7</td>\n",
       "      <td>0.2098</td>\n",
       "      <td>0.8663</td>\n",
       "      <td>0.6869</td>\n",
       "      <td>0.2575</td>\n",
       "      <td>0.6638</td>\n",
       "      <td>0.17300</td>\n",
       "    </tr>\n",
       "    <tr>\n",
       "      <th>4</th>\n",
       "      <td>20.29</td>\n",
       "      <td>14.34</td>\n",
       "      <td>135.10</td>\n",
       "      <td>1297.0</td>\n",
       "      <td>0.10030</td>\n",
       "      <td>0.13280</td>\n",
       "      <td>0.1980</td>\n",
       "      <td>0.10430</td>\n",
       "      <td>0.1809</td>\n",
       "      <td>0.05883</td>\n",
       "      <td>...</td>\n",
       "      <td>22.54</td>\n",
       "      <td>16.67</td>\n",
       "      <td>152.20</td>\n",
       "      <td>1575.0</td>\n",
       "      <td>0.1374</td>\n",
       "      <td>0.2050</td>\n",
       "      <td>0.4000</td>\n",
       "      <td>0.1625</td>\n",
       "      <td>0.2364</td>\n",
       "      <td>0.07678</td>\n",
       "    </tr>\n",
       "  </tbody>\n",
       "</table>\n",
       "<p>5 rows × 30 columns</p>\n",
       "</div>"
      ],
      "text/plain": [
       "   radius_mean  texture_mean  perimeter_mean  area_mean  smoothness_mean  \\\n",
       "0        17.99         10.38          122.80     1001.0          0.11840   \n",
       "1        20.57         17.77          132.90     1326.0          0.08474   \n",
       "2        19.69         21.25          130.00     1203.0          0.10960   \n",
       "3        11.42         20.38           77.58      386.1          0.14250   \n",
       "4        20.29         14.34          135.10     1297.0          0.10030   \n",
       "\n",
       "   compactness_mean  concavity_mean  concave points_mean  symmetry_mean  \\\n",
       "0           0.27760          0.3001              0.14710         0.2419   \n",
       "1           0.07864          0.0869              0.07017         0.1812   \n",
       "2           0.15990          0.1974              0.12790         0.2069   \n",
       "3           0.28390          0.2414              0.10520         0.2597   \n",
       "4           0.13280          0.1980              0.10430         0.1809   \n",
       "\n",
       "   fractal_dimension_mean           ...             radius_worst  \\\n",
       "0                 0.07871           ...                    25.38   \n",
       "1                 0.05667           ...                    24.99   \n",
       "2                 0.05999           ...                    23.57   \n",
       "3                 0.09744           ...                    14.91   \n",
       "4                 0.05883           ...                    22.54   \n",
       "\n",
       "   texture_worst  perimeter_worst  area_worst  smoothness_worst  \\\n",
       "0          17.33           184.60      2019.0            0.1622   \n",
       "1          23.41           158.80      1956.0            0.1238   \n",
       "2          25.53           152.50      1709.0            0.1444   \n",
       "3          26.50            98.87       567.7            0.2098   \n",
       "4          16.67           152.20      1575.0            0.1374   \n",
       "\n",
       "   compactness_worst  concavity_worst  concave points_worst  symmetry_worst  \\\n",
       "0             0.6656           0.7119                0.2654          0.4601   \n",
       "1             0.1866           0.2416                0.1860          0.2750   \n",
       "2             0.4245           0.4504                0.2430          0.3613   \n",
       "3             0.8663           0.6869                0.2575          0.6638   \n",
       "4             0.2050           0.4000                0.1625          0.2364   \n",
       "\n",
       "   fractal_dimension_worst  \n",
       "0                  0.11890  \n",
       "1                  0.08902  \n",
       "2                  0.08758  \n",
       "3                  0.17300  \n",
       "4                  0.07678  \n",
       "\n",
       "[5 rows x 30 columns]"
      ]
     },
     "execution_count": 4,
     "metadata": {},
     "output_type": "execute_result"
    }
   ],
   "source": [
    "# Ref: 21-2-6\n",
    "# Data Pre Processing\n",
    "from sklearn.model_selection import train_test_split\n",
    "from sklearn.preprocessing import LabelEncoder, StandardScaler\n",
    "from keras.utils import to_categorical\n",
    "target = cancer[\"diagnosis\"]\n",
    "data = cancer.drop(\"diagnosis\", axis=1)\n",
    "feature_names = data.columns\n",
    "data.head()"
   ]
  },
  {
   "cell_type": "code",
   "execution_count": 5,
   "metadata": {
    "collapsed": true
   },
   "outputs": [],
   "source": [
    "from sklearn.model_selection import train_test_split\n",
    "X_train, X_test, y_train, y_test = train_test_split(data, target, random_state=42)"
   ]
  },
  {
   "cell_type": "code",
   "execution_count": 6,
   "metadata": {},
   "outputs": [
    {
     "name": "stdout",
     "output_type": "stream",
     "text": [
      "k: 1, Train/Test Score: 1.000/0.930\n",
      "k: 3, Train/Test Score: 0.951/0.930\n",
      "k: 5, Train/Test Score: 0.934/0.965\n",
      "k: 7, Train/Test Score: 0.937/0.958\n",
      "k: 9, Train/Test Score: 0.934/0.958\n",
      "k: 11, Train/Test Score: 0.934/0.979\n",
      "k: 13, Train/Test Score: 0.925/0.972\n",
      "k: 15, Train/Test Score: 0.923/0.965\n",
      "k: 17, Train/Test Score: 0.925/0.965\n",
      "k: 19, Train/Test Score: 0.920/0.965\n",
      "k: 21, Train/Test Score: 0.918/0.965\n",
      "k: 23, Train/Test Score: 0.918/0.965\n",
      "k: 25, Train/Test Score: 0.915/0.951\n",
      "k: 27, Train/Test Score: 0.918/0.951\n",
      "k: 29, Train/Test Score: 0.915/0.951\n",
      "k: 31, Train/Test Score: 0.915/0.951\n",
      "k: 33, Train/Test Score: 0.913/0.944\n",
      "k: 35, Train/Test Score: 0.915/0.944\n",
      "k: 37, Train/Test Score: 0.918/0.944\n",
      "k: 39, Train/Test Score: 0.913/0.951\n",
      "k: 41, Train/Test Score: 0.911/0.951\n",
      "k: 43, Train/Test Score: 0.911/0.944\n",
      "k: 45, Train/Test Score: 0.911/0.951\n",
      "k: 47, Train/Test Score: 0.911/0.951\n",
      "k: 49, Train/Test Score: 0.904/0.944\n"
     ]
    },
    {
     "data": {
      "image/png": "[encoded data removed]",
      "text/plain": [
       "<matplotlib.figure.Figure at 0x119e76fd0>"
      ]
     },
     "metadata": {},
     "output_type": "display_data"
    }
   ],
   "source": [
    "# Loop through different k values to see which has the highest accuracy\n",
    "# Note: We only use odd numbers because we don't want any ties\n",
    "train_scores = []\n",
    "test_scores = []\n",
    "for k in range(1, 50, 2):\n",
    "    knn = KNeighborsClassifier(n_neighbors=k)\n",
    "    knn.fit(X_train, y_train)\n",
    "    train_score = knn.score(X_train, y_train)\n",
    "    test_score = knn.score(X_test, y_test)\n",
    "    train_scores.append(train_score)\n",
    "    test_scores.append(test_score)\n",
    "    print(f\"k: {k}, Train/Test Score: {train_score:.3f}/{test_score:.3f}\")\n",
    "    \n",
    "    \n",
    "plt.plot(range(1, 50, 2), train_scores, marker='o')\n",
    "plt.plot(range(1, 50, 2), test_scores, marker=\"x\")\n",
    "plt.xlabel(\"k neighbors\")\n",
    "plt.ylabel(\"Testing accuracy Score\")\n",
    "plt.show()"
   ]
  },
  {
   "cell_type": "code",
   "execution_count": 7,
   "metadata": {},
   "outputs": [
    {
     "name": "stdout",
     "output_type": "stream",
     "text": [
      "k=7 Test Acc: 0.958\n"
     ]
    }
   ],
   "source": [
    "# Note that k: 11 seems to be the best choice for this dataset\n",
    "knn = KNeighborsClassifier(n_neighbors=7)\n",
    "knn.fit(X_train, y_train)\n",
    "print('k=7 Test Acc: %.3f' % knn.score(X_test, y_test))"
   ]
  },
  {
   "cell_type": "markdown",
   "metadata": {},
   "source": [
    "# Deep Learning Methodology_#Relu"
   ]
  },
  {
   "cell_type": "code",
   "execution_count": 8,
   "metadata": {},
   "outputs": [
    {
     "name": "stdout",
     "output_type": "stream",
     "text": [
      "(569, 30) (569,)\n"
     ]
    }
   ],
   "source": [
    "X = cancer.drop(\"diagnosis\", axis=1)\n",
    "y = cancer[\"diagnosis\"]\n",
    "print(X.shape, y.shape)"
   ]
  },
  {
   "cell_type": "code",
   "execution_count": 9,
   "metadata": {
    "collapsed": true
   },
   "outputs": [],
   "source": [
    "# Create a Deep Learning Model\n",
    "from keras.models import Sequential\n",
    "from keras.layers import Dense"
   ]
  },
  {
   "cell_type": "code",
   "execution_count": 10,
   "metadata": {
    "collapsed": true
   },
   "outputs": [],
   "source": [
    "# Data Pre-processing\n",
    "from sklearn.model_selection import train_test_split\n",
    "from sklearn.preprocessing import LabelEncoder, StandardScaler\n",
    "from keras.utils import to_categorical\n",
    "\n",
    "X_train, X_test, y_train, y_test = train_test_split(\n",
    "    X, y, random_state=1, stratify=y)\n",
    "X_scaler = StandardScaler().fit(X_train)\n",
    "X_train_scaled = X_scaler.transform(X_train)\n",
    "X_test_scaled = X_scaler.transform(X_test)\n",
    "\n",
    "\n",
    "# Step 1: Label-encode data set\n",
    "label_encoder = LabelEncoder()\n",
    "label_encoder.fit(y_train)\n",
    "encoded_y_train = label_encoder.transform(y_train)\n",
    "encoded_y_test = label_encoder.transform(y_test)\n",
    "\n",
    "# Step 2: Convert encoded labels to one-hot-encoding\n",
    "y_train_categorical = to_categorical(encoded_y_train)\n",
    "y_test_categorical = to_categorical(encoded_y_test)"
   ]
  },
  {
   "cell_type": "code",
   "execution_count": 11,
   "metadata": {
    "collapsed": true
   },
   "outputs": [],
   "source": [
    "# Create model and add layers\n",
    "model = Sequential()\n",
    "model.add(Dense(units=50, activation='relu', input_dim=30))\n",
    "model.add(Dense(units=50, activation='relu'))\n",
    "model.add(Dense(units=2, activation='softmax'))"
   ]
  },
  {
   "cell_type": "code",
   "execution_count": 12,
   "metadata": {},
   "outputs": [
    {
     "name": "stdout",
     "output_type": "stream",
     "text": [
      "Epoch 1/60\n",
      " - 0s - loss: 0.4388 - acc: 0.8568\n",
      "Epoch 2/60\n",
      " - 0s - loss: 0.2052 - acc: 0.9484\n",
      "Epoch 3/60\n",
      " - 0s - loss: 0.1297 - acc: 0.9601\n",
      "Epoch 4/60\n",
      " - 0s - loss: 0.0958 - acc: 0.9812\n",
      "Epoch 5/60\n",
      " - 0s - loss: 0.0765 - acc: 0.9836\n",
      "Epoch 6/60\n",
      " - 0s - loss: 0.0642 - acc: 0.9883\n",
      "Epoch 7/60\n",
      " - 0s - loss: 0.0558 - acc: 0.9883\n",
      "Epoch 8/60\n",
      " - 0s - loss: 0.0497 - acc: 0.9906\n",
      "Epoch 9/60\n",
      " - 0s - loss: 0.0449 - acc: 0.9930\n",
      "Epoch 10/60\n",
      " - 0s - loss: 0.0403 - acc: 0.9930\n",
      "Epoch 11/60\n",
      " - 0s - loss: 0.0372 - acc: 0.9930\n",
      "Epoch 12/60\n",
      " - 0s - loss: 0.0335 - acc: 0.9930\n",
      "Epoch 13/60\n",
      " - 0s - loss: 0.0302 - acc: 0.9930\n",
      "Epoch 14/60\n",
      " - 0s - loss: 0.0287 - acc: 0.9930\n",
      "Epoch 15/60\n",
      " - 0s - loss: 0.0255 - acc: 0.9930\n",
      "Epoch 16/60\n",
      " - 0s - loss: 0.0232 - acc: 0.9930\n",
      "Epoch 17/60\n",
      " - 0s - loss: 0.0209 - acc: 0.9930\n",
      "Epoch 18/60\n",
      " - 0s - loss: 0.0187 - acc: 0.9953\n",
      "Epoch 19/60\n",
      " - 0s - loss: 0.0172 - acc: 0.9953\n",
      "Epoch 20/60\n",
      " - 0s - loss: 0.0152 - acc: 0.9977\n",
      "Epoch 21/60\n",
      " - 0s - loss: 0.0137 - acc: 0.9977\n",
      "Epoch 22/60\n",
      " - 0s - loss: 0.0128 - acc: 0.9977\n",
      "Epoch 23/60\n",
      " - 0s - loss: 0.0116 - acc: 0.9977\n",
      "Epoch 24/60\n",
      " - 0s - loss: 0.0104 - acc: 0.9977\n",
      "Epoch 25/60\n",
      " - 0s - loss: 0.0099 - acc: 0.9977\n",
      "Epoch 26/60\n",
      " - 0s - loss: 0.0084 - acc: 0.9977\n",
      "Epoch 27/60\n",
      " - 0s - loss: 0.0079 - acc: 0.9977\n",
      "Epoch 28/60\n",
      " - 0s - loss: 0.0071 - acc: 1.0000\n",
      "Epoch 29/60\n",
      " - 0s - loss: 0.0065 - acc: 1.0000\n",
      "Epoch 30/60\n",
      " - 0s - loss: 0.0063 - acc: 1.0000\n",
      "Epoch 31/60\n",
      " - 0s - loss: 0.0059 - acc: 1.0000\n",
      "Epoch 32/60\n",
      " - 0s - loss: 0.0051 - acc: 1.0000\n",
      "Epoch 33/60\n",
      " - 0s - loss: 0.0047 - acc: 1.0000\n",
      "Epoch 34/60\n",
      " - 0s - loss: 0.0045 - acc: 1.0000\n",
      "Epoch 35/60\n",
      " - 0s - loss: 0.0041 - acc: 1.0000\n",
      "Epoch 36/60\n",
      " - 0s - loss: 0.0038 - acc: 1.0000\n",
      "Epoch 37/60\n",
      " - 0s - loss: 0.0036 - acc: 1.0000\n",
      "Epoch 38/60\n",
      " - 0s - loss: 0.0033 - acc: 1.0000\n",
      "Epoch 39/60\n",
      " - 0s - loss: 0.0032 - acc: 1.0000\n",
      "Epoch 40/60\n",
      " - 0s - loss: 0.0029 - acc: 1.0000\n",
      "Epoch 41/60\n",
      " - 0s - loss: 0.0027 - acc: 1.0000\n",
      "Epoch 42/60\n",
      " - 0s - loss: 0.0026 - acc: 1.0000\n",
      "Epoch 43/60\n",
      " - 0s - loss: 0.0024 - acc: 1.0000\n",
      "Epoch 44/60\n",
      " - 0s - loss: 0.0023 - acc: 1.0000\n",
      "Epoch 45/60\n",
      " - 0s - loss: 0.0021 - acc: 1.0000\n",
      "Epoch 46/60\n",
      " - 0s - loss: 0.0021 - acc: 1.0000\n",
      "Epoch 47/60\n",
      " - 0s - loss: 0.0019 - acc: 1.0000\n",
      "Epoch 48/60\n",
      " - 0s - loss: 0.0018 - acc: 1.0000\n",
      "Epoch 49/60\n",
      " - 0s - loss: 0.0018 - acc: 1.0000\n",
      "Epoch 50/60\n",
      " - 0s - loss: 0.0016 - acc: 1.0000\n",
      "Epoch 51/60\n",
      " - 0s - loss: 0.0016 - acc: 1.0000\n",
      "Epoch 52/60\n",
      " - 0s - loss: 0.0014 - acc: 1.0000\n",
      "Epoch 53/60\n",
      " - 0s - loss: 0.0014 - acc: 1.0000\n",
      "Epoch 54/60\n",
      " - 0s - loss: 0.0013 - acc: 1.0000\n",
      "Epoch 55/60\n",
      " - 0s - loss: 0.0013 - acc: 1.0000\n",
      "Epoch 56/60\n",
      " - 0s - loss: 0.0012 - acc: 1.0000\n",
      "Epoch 57/60\n",
      " - 0s - loss: 0.0012 - acc: 1.0000\n",
      "Epoch 58/60\n",
      " - 0s - loss: 0.0012 - acc: 1.0000\n",
      "Epoch 59/60\n",
      " - 0s - loss: 0.0011 - acc: 1.0000\n",
      "Epoch 60/60\n",
      " - 0s - loss: 0.0010 - acc: 1.0000\n"
     ]
    }
   ],
   "source": [
    "# Compile and fit the model\n",
    "model.compile(optimizer='adam',\n",
    "              loss='categorical_crossentropy',\n",
    "              metrics=['accuracy'])\n",
    "clf_4 = model.fit(\n",
    "    X_train_scaled,\n",
    "    y_train_categorical,\n",
    "    epochs=60,\n",
    "    shuffle=True,\n",
    "    verbose=2\n",
    ")"
   ]
  },
  {
   "cell_type": "code",
   "execution_count": 13,
   "metadata": {},
   "outputs": [
    {
     "name": "stdout",
     "output_type": "stream",
     "text": [
      "Normal Neural Network - Loss: 0.1354801860441232, Accuracy: 0.972027972027972\n"
     ]
    }
   ],
   "source": [
    "# Quantify our Trained Model\n",
    "model_loss, model_accuracy = model.evaluate(\n",
    "    X_test_scaled, y_test_categorical, verbose=2)\n",
    "print(\n",
    "    f\"Normal Neural Network - Loss: {model_loss}, Accuracy: {model_accuracy}\")"
   ]
  },
  {
   "cell_type": "markdown",
   "metadata": {},
   "source": [
    "# Deep Learning Methodology_#Sigmoid\n"
   ]
  },
  {
   "cell_type": "code",
   "execution_count": 14,
   "metadata": {
    "collapsed": true
   },
   "outputs": [],
   "source": [
    "# Create model and add layers\n",
    "model = Sequential()\n",
    "model.add(Dense(units=50, activation='sigmoid', input_dim=30))\n",
    "model.add(Dense(units=50, activation='sigmoid'))\n",
    "model.add(Dense(units=2, activation='softmax'))"
   ]
  },
  {
   "cell_type": "code",
   "execution_count": 15,
   "metadata": {},
   "outputs": [
    {
     "name": "stdout",
     "output_type": "stream",
     "text": [
      "Epoch 1/60\n",
      "426/426 [==============================] - 0s 683us/step - loss: 0.8231 - acc: 0.4202\n",
      "Epoch 2/60\n",
      "426/426 [==============================] - 0s 54us/step - loss: 0.5553 - acc: 0.7465\n",
      "Epoch 3/60\n",
      "426/426 [==============================] - 0s 65us/step - loss: 0.4928 - acc: 0.7277\n",
      "Epoch 4/60\n",
      "426/426 [==============================] - 0s 58us/step - loss: 0.4155 - acc: 0.8732\n",
      "Epoch 5/60\n",
      "426/426 [==============================] - 0s 56us/step - loss: 0.3463 - acc: 0.9390\n",
      "Epoch 6/60\n",
      "426/426 [==============================] - 0s 53us/step - loss: 0.2874 - acc: 0.9366\n",
      "Epoch 7/60\n",
      "426/426 [==============================] - 0s 63us/step - loss: 0.2395 - acc: 0.9437\n",
      "Epoch 8/60\n",
      "426/426 [==============================] - 0s 55us/step - loss: 0.2032 - acc: 0.9507\n",
      "Epoch 9/60\n",
      "426/426 [==============================] - 0s 64us/step - loss: 0.1758 - acc: 0.9507\n",
      "Epoch 10/60\n",
      "426/426 [==============================] - 0s 80us/step - loss: 0.1547 - acc: 0.9554\n",
      "Epoch 11/60\n",
      "426/426 [==============================] - 0s 75us/step - loss: 0.1376 - acc: 0.9671\n",
      "Epoch 12/60\n",
      "426/426 [==============================] - 0s 72us/step - loss: 0.1244 - acc: 0.9695\n",
      "Epoch 13/60\n",
      "426/426 [==============================] - 0s 76us/step - loss: 0.1137 - acc: 0.9765\n",
      "Epoch 14/60\n",
      "426/426 [==============================] - 0s 61us/step - loss: 0.1041 - acc: 0.9836\n",
      "Epoch 15/60\n",
      "426/426 [==============================] - 0s 69us/step - loss: 0.0967 - acc: 0.9836\n",
      "Epoch 16/60\n",
      "426/426 [==============================] - 0s 75us/step - loss: 0.0904 - acc: 0.9836\n",
      "Epoch 17/60\n",
      "426/426 [==============================] - 0s 59us/step - loss: 0.0858 - acc: 0.9836\n",
      "Epoch 18/60\n",
      "426/426 [==============================] - 0s 67us/step - loss: 0.0813 - acc: 0.9836\n",
      "Epoch 19/60\n",
      "426/426 [==============================] - 0s 58us/step - loss: 0.0782 - acc: 0.9836\n",
      "Epoch 20/60\n",
      "426/426 [==============================] - 0s 54us/step - loss: 0.0745 - acc: 0.9859\n",
      "Epoch 21/60\n",
      "426/426 [==============================] - 0s 74us/step - loss: 0.0719 - acc: 0.9859\n",
      "Epoch 22/60\n",
      "426/426 [==============================] - 0s 53us/step - loss: 0.0692 - acc: 0.9883\n",
      "Epoch 23/60\n",
      "426/426 [==============================] - 0s 56us/step - loss: 0.0670 - acc: 0.9883\n",
      "Epoch 24/60\n",
      "426/426 [==============================] - 0s 59us/step - loss: 0.0653 - acc: 0.9883\n",
      "Epoch 25/60\n",
      "426/426 [==============================] - 0s 54us/step - loss: 0.0634 - acc: 0.9906\n",
      "Epoch 26/60\n",
      "426/426 [==============================] - 0s 82us/step - loss: 0.0618 - acc: 0.9906\n",
      "Epoch 27/60\n",
      "426/426 [==============================] - 0s 65us/step - loss: 0.0607 - acc: 0.9906\n",
      "Epoch 28/60\n",
      "426/426 [==============================] - 0s 78us/step - loss: 0.0597 - acc: 0.9906\n",
      "Epoch 29/60\n",
      "426/426 [==============================] - 0s 66us/step - loss: 0.0586 - acc: 0.9906\n",
      "Epoch 30/60\n",
      "426/426 [==============================] - 0s 77us/step - loss: 0.0573 - acc: 0.9906\n",
      "Epoch 31/60\n",
      "426/426 [==============================] - 0s 81us/step - loss: 0.0565 - acc: 0.9906\n",
      "Epoch 32/60\n",
      "426/426 [==============================] - ETA: 0s - loss: 0.0354 - acc: 1.000 - 0s 63us/step - loss: 0.0562 - acc: 0.9906\n",
      "Epoch 33/60\n",
      "426/426 [==============================] - 0s 69us/step - loss: 0.0546 - acc: 0.9906\n",
      "Epoch 34/60\n",
      "426/426 [==============================] - 0s 80us/step - loss: 0.0540 - acc: 0.9906\n",
      "Epoch 35/60\n",
      "426/426 [==============================] - 0s 63us/step - loss: 0.0535 - acc: 0.9906\n",
      "Epoch 36/60\n",
      "426/426 [==============================] - 0s 80us/step - loss: 0.0525 - acc: 0.9906\n",
      "Epoch 37/60\n",
      "426/426 [==============================] - 0s 74us/step - loss: 0.0520 - acc: 0.9883\n",
      "Epoch 38/60\n",
      "426/426 [==============================] - 0s 61us/step - loss: 0.0512 - acc: 0.9906\n",
      "Epoch 39/60\n",
      "426/426 [==============================] - 0s 77us/step - loss: 0.0507 - acc: 0.9906\n",
      "Epoch 40/60\n",
      "426/426 [==============================] - 0s 66us/step - loss: 0.0501 - acc: 0.9906\n",
      "Epoch 41/60\n",
      "426/426 [==============================] - 0s 83us/step - loss: 0.0493 - acc: 0.9906\n",
      "Epoch 42/60\n",
      "426/426 [==============================] - 0s 77us/step - loss: 0.0496 - acc: 0.9883\n",
      "Epoch 43/60\n",
      "426/426 [==============================] - 0s 67us/step - loss: 0.0485 - acc: 0.9883\n",
      "Epoch 44/60\n",
      "426/426 [==============================] - 0s 80us/step - loss: 0.0482 - acc: 0.9906\n",
      "Epoch 45/60\n",
      "426/426 [==============================] - 0s 69us/step - loss: 0.0478 - acc: 0.9906\n",
      "Epoch 46/60\n",
      "426/426 [==============================] - 0s 82us/step - loss: 0.0475 - acc: 0.9906\n",
      "Epoch 47/60\n",
      "426/426 [==============================] - 0s 76us/step - loss: 0.0469 - acc: 0.9906\n",
      "Epoch 48/60\n",
      "426/426 [==============================] - 0s 89us/step - loss: 0.0473 - acc: 0.9906\n",
      "Epoch 49/60\n",
      "426/426 [==============================] - 0s 80us/step - loss: 0.0462 - acc: 0.9906\n",
      "Epoch 50/60\n",
      "426/426 [==============================] - 0s 73us/step - loss: 0.0463 - acc: 0.9906\n",
      "Epoch 51/60\n",
      "426/426 [==============================] - 0s 79us/step - loss: 0.0458 - acc: 0.9906\n",
      "Epoch 52/60\n",
      "426/426 [==============================] - 0s 62us/step - loss: 0.0454 - acc: 0.9906\n",
      "Epoch 53/60\n",
      "426/426 [==============================] - 0s 82us/step - loss: 0.0452 - acc: 0.9906\n",
      "Epoch 54/60\n",
      "426/426 [==============================] - 0s 65us/step - loss: 0.0452 - acc: 0.9883\n",
      "Epoch 55/60\n",
      "426/426 [==============================] - 0s 67us/step - loss: 0.0447 - acc: 0.9906\n",
      "Epoch 56/60\n",
      "426/426 [==============================] - 0s 71us/step - loss: 0.0443 - acc: 0.9906\n",
      "Epoch 57/60\n",
      "426/426 [==============================] - 0s 75us/step - loss: 0.0443 - acc: 0.9883\n",
      "Epoch 58/60\n",
      "426/426 [==============================] - 0s 56us/step - loss: 0.0440 - acc: 0.9906\n",
      "Epoch 59/60\n",
      "426/426 [==============================] - 0s 79us/step - loss: 0.0436 - acc: 0.9906\n",
      "Epoch 60/60\n",
      "426/426 [==============================] - 0s 71us/step - loss: 0.0431 - acc: 0.9906\n"
     ]
    }
   ],
   "source": [
    "# Compile and fit the model\n",
    "model.compile(optimizer='adam',\n",
    "              loss='categorical_crossentropy',\n",
    "              metrics=['accuracy'])\n",
    "clf_5 = model.fit(\n",
    "    X_train_scaled,\n",
    "    y_train_categorical,\n",
    "    epochs=60,\n",
    "    shuffle=True,\n",
    "    verbose=1\n",
    ")"
   ]
  },
  {
   "cell_type": "code",
   "execution_count": 16,
   "metadata": {},
   "outputs": [
    {
     "name": "stdout",
     "output_type": "stream",
     "text": [
      "Normal Neural Network - Loss: 0.08163074134210763, Accuracy: 0.972027972027972\n"
     ]
    }
   ],
   "source": [
    "# Quantify our Trained Model\n",
    "model_loss, model_accuracy = model.evaluate(\n",
    "    X_test_scaled, y_test_categorical, verbose=2)\n",
    "print(\n",
    "    f\"Normal Neural Network - Loss: {model_loss}, Accuracy: {model_accuracy}\")"
   ]
  },
  {
   "cell_type": "markdown",
   "metadata": {},
   "source": [
    "# Deep Learning Methodology_#Linear"
   ]
  },
  {
   "cell_type": "code",
   "execution_count": 17,
   "metadata": {
    "collapsed": true
   },
   "outputs": [],
   "source": [
    "# Create model and add layers\n",
    "model = Sequential()\n",
    "model.add(Dense(units=50, activation='linear', input_dim=30))\n",
    "model.add(Dense(units=50, activation='linear'))\n",
    "model.add(Dense(units=2, activation='softmax'))"
   ]
  },
  {
   "cell_type": "code",
   "execution_count": 18,
   "metadata": {
    "collapsed": true
   },
   "outputs": [],
   "source": [
    "# Compile and fit the model\n",
    "model.compile(optimizer='adam',\n",
    "              loss='categorical_crossentropy',\n",
    "              metrics=['accuracy'])\n",
    "clf_6 = model.fit(\n",
    "    X_train_scaled,\n",
    "    y_train_categorical,\n",
    "    epochs=60,\n",
    "    shuffle=True,\n",
    "    verbose=0\n",
    ")"
   ]
  },
  {
   "cell_type": "code",
   "execution_count": 19,
   "metadata": {},
   "outputs": [
    {
     "name": "stdout",
     "output_type": "stream",
     "text": [
      "Normal Neural Network - Loss: 0.1406843937159853, Accuracy: 0.965034965034965\n"
     ]
    }
   ],
   "source": [
    "# Quantify our Trained Model\n",
    "model_loss, model_accuracy = model.evaluate(\n",
    "    X_test_scaled, y_test_categorical, verbose=2)\n",
    "print(\n",
    "    f\"Normal Neural Network - Loss: {model_loss}, Accuracy: {model_accuracy}\")"
   ]
  },
  {
   "cell_type": "markdown",
   "metadata": {},
   "source": [
    "# Deep Learning Methodology_#Tanh"
   ]
  },
  {
   "cell_type": "code",
   "execution_count": 20,
   "metadata": {},
   "outputs": [],
   "source": [
    "# Create model and add layers\n",
    "model = Sequential()\n",
    "model.add(Dense(units=50, activation='tanh', input_dim=30))\n",
    "model.add(Dense(units=50, activation='tanh'))\n",
    "model.add(Dense(units=2, activation='softmax'))"
   ]
  },
  {
   "cell_type": "code",
   "execution_count": 21,
   "metadata": {},
   "outputs": [
    {
     "name": "stdout",
     "output_type": "stream",
     "text": [
      "Epoch 1/60\n",
      "426/426 [==============================] - 0s 835us/step - loss: 0.4295 - acc: 0.8005\n",
      "Epoch 2/60\n",
      "426/426 [==============================] - 0s 74us/step - loss: 0.1514 - acc: 0.9648\n",
      "Epoch 3/60\n",
      "426/426 [==============================] - 0s 73us/step - loss: 0.1022 - acc: 0.9765\n",
      "Epoch 4/60\n",
      "426/426 [==============================] - 0s 72us/step - loss: 0.0816 - acc: 0.9859\n",
      "Epoch 5/60\n",
      "426/426 [==============================] - 0s 58us/step - loss: 0.0712 - acc: 0.9906\n",
      "Epoch 6/60\n",
      "426/426 [==============================] - 0s 56us/step - loss: 0.0645 - acc: 0.9906\n",
      "Epoch 7/60\n",
      "426/426 [==============================] - 0s 91us/step - loss: 0.0595 - acc: 0.9906\n",
      "Epoch 8/60\n",
      "426/426 [==============================] - 0s 78us/step - loss: 0.0560 - acc: 0.9906\n",
      "Epoch 9/60\n",
      "426/426 [==============================] - 0s 74us/step - loss: 0.0530 - acc: 0.9930\n",
      "Epoch 10/60\n",
      "426/426 [==============================] - 0s 79us/step - loss: 0.0514 - acc: 0.9930\n",
      "Epoch 11/60\n",
      "426/426 [==============================] - 0s 71us/step - loss: 0.0483 - acc: 0.9930\n",
      "Epoch 12/60\n",
      "426/426 [==============================] - 0s 74us/step - loss: 0.0463 - acc: 0.9930\n",
      "Epoch 13/60\n",
      "426/426 [==============================] - 0s 76us/step - loss: 0.0448 - acc: 0.9930\n",
      "Epoch 14/60\n",
      "426/426 [==============================] - 0s 86us/step - loss: 0.0436 - acc: 0.9930\n",
      "Epoch 15/60\n",
      "426/426 [==============================] - 0s 80us/step - loss: 0.0449 - acc: 0.9930\n",
      "Epoch 16/60\n",
      "426/426 [==============================] - 0s 70us/step - loss: 0.0413 - acc: 0.9930\n",
      "Epoch 17/60\n",
      "426/426 [==============================] - 0s 73us/step - loss: 0.0411 - acc: 0.9930\n",
      "Epoch 18/60\n",
      "426/426 [==============================] - 0s 82us/step - loss: 0.0396 - acc: 0.9930\n",
      "Epoch 19/60\n",
      "426/426 [==============================] - 0s 73us/step - loss: 0.0385 - acc: 0.9930\n",
      "Epoch 20/60\n",
      "426/426 [==============================] - 0s 66us/step - loss: 0.0367 - acc: 0.9930\n",
      "Epoch 21/60\n",
      "426/426 [==============================] - 0s 74us/step - loss: 0.0353 - acc: 0.9930\n",
      "Epoch 22/60\n",
      "426/426 [==============================] - 0s 81us/step - loss: 0.0343 - acc: 0.9930\n",
      "Epoch 23/60\n",
      "426/426 [==============================] - 0s 82us/step - loss: 0.0332 - acc: 0.9930\n",
      "Epoch 24/60\n",
      "426/426 [==============================] - 0s 72us/step - loss: 0.0328 - acc: 0.9930\n",
      "Epoch 25/60\n",
      "426/426 [==============================] - 0s 83us/step - loss: 0.0327 - acc: 0.9930\n",
      "Epoch 26/60\n",
      "426/426 [==============================] - 0s 81us/step - loss: 0.0317 - acc: 0.9930\n",
      "Epoch 27/60\n",
      "426/426 [==============================] - 0s 66us/step - loss: 0.0298 - acc: 0.9930\n",
      "Epoch 28/60\n",
      "426/426 [==============================] - 0s 83us/step - loss: 0.0285 - acc: 0.9930\n",
      "Epoch 29/60\n",
      "426/426 [==============================] - 0s 79us/step - loss: 0.0276 - acc: 0.9930\n",
      "Epoch 30/60\n",
      "426/426 [==============================] - 0s 77us/step - loss: 0.0272 - acc: 0.9930\n",
      "Epoch 31/60\n",
      "426/426 [==============================] - 0s 66us/step - loss: 0.0267 - acc: 0.9930\n",
      "Epoch 32/60\n",
      "426/426 [==============================] - 0s 83us/step - loss: 0.0241 - acc: 0.9930\n",
      "Epoch 33/60\n",
      "426/426 [==============================] - 0s 79us/step - loss: 0.0243 - acc: 0.9953\n",
      "Epoch 34/60\n",
      "426/426 [==============================] - 0s 70us/step - loss: 0.0227 - acc: 0.9930\n",
      "Epoch 35/60\n",
      "426/426 [==============================] - 0s 86us/step - loss: 0.0220 - acc: 0.9930\n",
      "Epoch 36/60\n",
      "426/426 [==============================] - 0s 76us/step - loss: 0.0221 - acc: 0.9930\n",
      "Epoch 37/60\n",
      "426/426 [==============================] - 0s 66us/step - loss: 0.0195 - acc: 0.9953\n",
      "Epoch 38/60\n",
      "426/426 [==============================] - 0s 81us/step - loss: 0.0196 - acc: 0.9930\n",
      "Epoch 39/60\n",
      "426/426 [==============================] - 0s 74us/step - loss: 0.0189 - acc: 0.9930\n",
      "Epoch 40/60\n",
      "426/426 [==============================] - 0s 69us/step - loss: 0.0188 - acc: 0.9930\n",
      "Epoch 41/60\n",
      "426/426 [==============================] - 0s 77us/step - loss: 0.0192 - acc: 0.9930\n",
      "Epoch 42/60\n",
      "426/426 [==============================] - 0s 61us/step - loss: 0.0167 - acc: 0.9953\n",
      "Epoch 43/60\n",
      "426/426 [==============================] - 0s 70us/step - loss: 0.0157 - acc: 0.9953\n",
      "Epoch 44/60\n",
      "426/426 [==============================] - 0s 81us/step - loss: 0.0145 - acc: 0.9953\n",
      "Epoch 45/60\n",
      "426/426 [==============================] - 0s 72us/step - loss: 0.0141 - acc: 0.9953\n",
      "Epoch 46/60\n",
      "426/426 [==============================] - 0s 78us/step - loss: 0.0135 - acc: 0.9953\n",
      "Epoch 47/60\n",
      "426/426 [==============================] - 0s 67us/step - loss: 0.0136 - acc: 0.9930\n",
      "Epoch 48/60\n",
      "426/426 [==============================] - 0s 92us/step - loss: 0.0148 - acc: 0.9953\n",
      "Epoch 49/60\n",
      "426/426 [==============================] - 0s 82us/step - loss: 0.0124 - acc: 0.9953\n",
      "Epoch 50/60\n",
      "426/426 [==============================] - 0s 71us/step - loss: 0.0121 - acc: 0.9953\n",
      "Epoch 51/60\n",
      "426/426 [==============================] - 0s 85us/step - loss: 0.0105 - acc: 0.9977\n",
      "Epoch 52/60\n",
      "426/426 [==============================] - 0s 82us/step - loss: 0.0099 - acc: 0.9977\n",
      "Epoch 53/60\n",
      "426/426 [==============================] - 0s 71us/step - loss: 0.0096 - acc: 0.9977\n",
      "Epoch 54/60\n",
      "426/426 [==============================] - 0s 85us/step - loss: 0.0095 - acc: 0.9953\n",
      "Epoch 55/60\n",
      "426/426 [==============================] - 0s 68us/step - loss: 0.0089 - acc: 0.9977\n",
      "Epoch 56/60\n",
      "426/426 [==============================] - 0s 79us/step - loss: 0.0086 - acc: 1.0000\n",
      "Epoch 57/60\n",
      "426/426 [==============================] - 0s 63us/step - loss: 0.0084 - acc: 1.0000\n",
      "Epoch 58/60\n",
      "426/426 [==============================] - 0s 88us/step - loss: 0.0080 - acc: 0.9977\n",
      "Epoch 59/60\n",
      "426/426 [==============================] - 0s 63us/step - loss: 0.0072 - acc: 0.9977\n",
      "Epoch 60/60\n",
      "426/426 [==============================] - 0s 80us/step - loss: 0.0074 - acc: 0.9977\n"
     ]
    }
   ],
   "source": [
    "# Compile and fit the model\n",
    "model.compile(optimizer='adam',\n",
    "              loss='categorical_crossentropy',\n",
    "              metrics=['accuracy'])\n",
    "clf_7 = model.fit(\n",
    "    X_train_scaled,\n",
    "    y_train_categorical,\n",
    "    epochs=60,\n",
    "    shuffle=True,\n",
    "    verbose=1\n",
    ")"
   ]
  },
  {
   "cell_type": "code",
   "execution_count": 22,
   "metadata": {},
   "outputs": [
    {
     "name": "stdout",
     "output_type": "stream",
     "text": [
      "Normal Neural Network - Loss: 0.12822808828710625, Accuracy: 0.965034965034965\n"
     ]
    }
   ],
   "source": [
    "# Quantify our Trained Model\n",
    "model_loss, model_accuracy = model.evaluate(\n",
    "    X_test_scaled, y_test_categorical, verbose=2)\n",
    "print(\n",
    "    f\"Normal Neural Network - Loss: {model_loss}, Accuracy: {model_accuracy}\")"
   ]
  },
  {
   "cell_type": "markdown",
   "metadata": {},
   "source": [
    "# Decision Tree (C4.5)"
   ]
  },
  {
   "cell_type": "code",
   "execution_count": 23,
   "metadata": {},
   "outputs": [
    {
     "data": {
      "text/plain": [
       "0.88811188811188813"
      ]
     },
     "execution_count": 23,
     "metadata": {},
     "output_type": "execute_result"
    }
   ],
   "source": [
    "#Ref: 21-2-4\n",
    "from sklearn import tree\n",
    "clf = tree.DecisionTreeClassifier()\n",
    "clf = clf.fit(X_train, y_train)\n",
    "clf.score(X_test, y_test)"
   ]
  },
  {
   "cell_type": "code",
   "execution_count": 24,
   "metadata": {},
   "outputs": [],
   "source": [
    "# WARNING! BOILERPLATE CODE HERE! \n",
    "# Use this to visualize the tree\n",
    "import graphviz \n",
    "target_names = [\"Benign\", \"Malignant\"]\n",
    "feature_names = data.columns\n",
    "dot_data = tree.export_graphviz(\n",
    "    clf, out_file=None, \n",
    "    feature_names=feature_names,  \n",
    "    class_names=target_names,  \n",
    "    filled=True, rounded=True,  \n",
    "    special_characters=True)  \n",
    "\n",
    "# import pydotplus\n",
    "# graph = pydotplus.graph_from_dot_data(dot_data)\n",
    "# graph.write_png('tree.png')\n",
    "\n",
    "# graph = graphviz.Source(dot_data)  \n",
    "# graph"
   ]
  },
  {
   "cell_type": "markdown",
   "metadata": {},
   "source": [
    "# Naive Bayes (NB) "
   ]
  },
  {
   "cell_type": "code",
   "execution_count": 25,
   "metadata": {
    "collapsed": true
   },
   "outputs": [],
   "source": [
    "from pyspark.sql import SparkSession"
   ]
  },
  {
   "cell_type": "code",
   "execution_count": 26,
   "metadata": {},
   "outputs": [
    {
     "data": {
      "text/plain": [
       "GaussianNB(priors=None)"
      ]
     },
     "execution_count": 26,
     "metadata": {},
     "output_type": "execute_result"
    }
   ],
   "source": [
    "#Import Library of Gaussian Naive Bayes model\n",
    "from sklearn.naive_bayes import GaussianNB\n",
    "model = GaussianNB()\n",
    "model.fit(\n",
    "    X_train,\n",
    "    y_train\n",
    ")"
   ]
  },
  {
   "cell_type": "code",
   "execution_count": 27,
   "metadata": {},
   "outputs": [
    {
     "name": "stdout",
     "output_type": "stream",
     "text": [
      "Training Data Score: 0.9389671361502347\n",
      "Testing Data Score: 0.951048951048951\n"
     ]
    }
   ],
   "source": [
    "print(f\"Training Data Score: {model.score(X_train, y_train)}\")\n",
    "print(f\"Testing Data Score: {model.score(X_test, y_test)}\")"
   ]
  },
  {
   "cell_type": "markdown",
   "metadata": {},
   "source": [
    "# Feature Selection"
   ]
  },
  {
   "cell_type": "code",
   "execution_count": 28,
   "metadata": {},
   "outputs": [
    {
     "name": "stdout",
     "output_type": "stream",
     "text": [
      "Optimal number of features : 16\n",
      "Best features : Index(['texture_mean', 'area_mean', 'concave points_mean', 'radius_se',\n",
      "       'perimeter_se', 'area_se', 'concavity_se', 'radius_worst',\n",
      "       'texture_worst', 'perimeter_worst', 'area_worst', 'smoothness_worst',\n",
      "       'compactness_worst', 'concavity_worst', 'concave points_worst',\n",
      "       'symmetry_worst'],\n",
      "      dtype='object')\n"
     ]
    }
   ],
   "source": [
    "from sklearn.ensemble import RandomForestClassifier\n",
    "from sklearn.feature_selection import RFECV\n",
    "\n",
    "# The \"accuracy\" scoring is proportional to the number of correct classifications\n",
    "clf_2 = RandomForestClassifier() \n",
    "rfecv = RFECV(estimator=clf_2, step=1, cv=4,scoring='accuracy') #5-fold cross-validation\n",
    "rfecv = rfecv.fit(X_train, y_train)\n",
    "\n",
    "print('Optimal number of features :', rfecv.n_features_)\n",
    "print('Best features :', X_train.columns[rfecv.support_])\n"
   ]
  },
  {
   "cell_type": "code",
   "execution_count": 29,
   "metadata": {},
   "outputs": [
    {
     "data": {
      "text/plain": [
       "Index(['diagnosis', 'radius_mean', 'texture_mean', 'perimeter_mean',\n",
       "       'area_mean', 'smoothness_mean', 'compactness_mean', 'concavity_mean',\n",
       "       'concave points_mean', 'symmetry_mean', 'fractal_dimension_mean',\n",
       "       'radius_se', 'texture_se', 'perimeter_se', 'area_se', 'smoothness_se',\n",
       "       'compactness_se', 'concavity_se', 'concave points_se', 'symmetry_se',\n",
       "       'fractal_dimension_se', 'radius_worst', 'texture_worst',\n",
       "       'perimeter_worst', 'area_worst', 'smoothness_worst',\n",
       "       'compactness_worst', 'concavity_worst', 'concave points_worst',\n",
       "       'symmetry_worst', 'fractal_dimension_worst'],\n",
       "      dtype='object')"
      ]
     },
     "execution_count": 29,
     "metadata": {},
     "output_type": "execute_result"
    }
   ],
   "source": [
    "cancer.columns"
   ]
  },
  {
   "cell_type": "code",
   "execution_count": 46,
   "metadata": {},
   "outputs": [
    {
     "data": {
      "text/plain": [
       "<matplotlib.figure.Figure at 0x1a2d8558d0>"
      ]
     },
     "metadata": {},
     "output_type": "display_data"
    },
    {
     "data": {
      "image/png": "[encoded data removed]",
      "text/plain": [
       "<matplotlib.figure.Figure at 0x1a2d8554a8>"
      ]
     },
     "metadata": {},
     "output_type": "display_data"
    }
   ],
   "source": [
    "# Plot number of features VS. cross-validation scores\n",
    "import matplotlib.pyplot as plt\n",
    "plt.style.use('Solarize_Light2')\n",
    "plt.figure(figsize = (6,4))\n",
    "plt.figure()\n",
    "plt.xlabel(\"No. of features selected\", color=\"royalblue\")\n",
    "plt.ylabel(\"Cross validation score of selected features\", color=\"royalblue\")\n",
    "plt.tick_params(axis='x', colors='royalblue')\n",
    "plt.tick_params(axis='y', colors='royalblue')\n",
    "plt.plot(range(1, len(rfecv.grid_scores_) + 1), rfecv.grid_scores_, 'violet')\n",
    "plt.title(f\"{rfecv.n_features_} Features Achieve Highest Accuracy\", color = \"darkblue\")\n",
    "\n",
    "\n",
    "\n",
    "plt.savefig('Feature_Selection.png')\n",
    "plt.show()"
   ]
  },
  {
   "cell_type": "markdown",
   "metadata": {
    "collapsed": true
   },
   "source": [
    "# 22 Features were selected"
   ]
  },
  {
   "cell_type": "code",
   "execution_count": 31,
   "metadata": {
    "collapsed": true
   },
   "outputs": [],
   "source": [
    "cancer_features= cancer.drop(cancer.columns[[9, 10, 13, 15, 16, 17, 25, 30 ]], axis=1)  "
   ]
  },
  {
   "cell_type": "code",
   "execution_count": 32,
   "metadata": {},
   "outputs": [
    {
     "name": "stdout",
     "output_type": "stream",
     "text": [
      "(569, 22) (569,)\n"
     ]
    }
   ],
   "source": [
    "X = cancer_features.drop(\"diagnosis\", axis=1)\n",
    "y = cancer[\"diagnosis\"]\n",
    "print(X.shape, y.shape)"
   ]
  },
  {
   "cell_type": "code",
   "execution_count": 33,
   "metadata": {
    "collapsed": true
   },
   "outputs": [],
   "source": [
    "# Data Pre-processing\n",
    "from sklearn.model_selection import train_test_split\n",
    "from sklearn.preprocessing import LabelEncoder, StandardScaler\n",
    "from keras.utils import to_categorical\n",
    "\n",
    "X_train, X_test, y_train, y_test = train_test_split(\n",
    "    X, y, random_state=1, stratify=y)\n",
    "X_scaler = StandardScaler().fit(X_train)\n",
    "X_train_scaled = X_scaler.transform(X_train)\n",
    "X_test_scaled = X_scaler.transform(X_test)\n",
    "\n",
    "\n",
    "# Step 1: Label-encode data set\n",
    "label_encoder = LabelEncoder()\n",
    "label_encoder.fit(y_train)\n",
    "encoded_y_train = label_encoder.transform(y_train)\n",
    "encoded_y_test = label_encoder.transform(y_test)\n",
    "\n",
    "# Step 2: Convert encoded labels to one-hot-encoding\n",
    "y_train_categorical = to_categorical(encoded_y_train)\n",
    "y_test_categorical = to_categorical(encoded_y_test)"
   ]
  },
  {
   "cell_type": "code",
   "execution_count": 34,
   "metadata": {
    "collapsed": true
   },
   "outputs": [],
   "source": [
    "# Create model and add layers\n",
    "model = Sequential()\n",
    "model.add(Dense(units=50, activation='relu', input_dim=22))\n",
    "model.add(Dense(units=50, activation='relu'))\n",
    "model.add(Dense(units=2, activation='softmax'))"
   ]
  },
  {
   "cell_type": "code",
   "execution_count": 35,
   "metadata": {},
   "outputs": [
    {
     "name": "stdout",
     "output_type": "stream",
     "text": [
      "Epoch 1/60\n",
      "426/426 [==============================] - 0s 896us/step - loss: 0.5301 - acc: 0.7981\n",
      "Epoch 2/60\n",
      "426/426 [==============================] - 0s 76us/step - loss: 0.2560 - acc: 0.9178\n",
      "Epoch 3/60\n",
      "426/426 [==============================] - 0s 78us/step - loss: 0.1612 - acc: 0.9413\n",
      "Epoch 4/60\n",
      "426/426 [==============================] - 0s 90us/step - loss: 0.1234 - acc: 0.9577\n",
      "Epoch 5/60\n",
      "426/426 [==============================] - 0s 80us/step - loss: 0.1016 - acc: 0.9789\n",
      "Epoch 6/60\n",
      "426/426 [==============================] - 0s 79us/step - loss: 0.0896 - acc: 0.9812\n",
      "Epoch 7/60\n",
      "426/426 [==============================] - 0s 65us/step - loss: 0.0815 - acc: 0.9812\n",
      "Epoch 8/60\n",
      "426/426 [==============================] - 0s 73us/step - loss: 0.0745 - acc: 0.9812\n",
      "Epoch 9/60\n",
      "426/426 [==============================] - 0s 68us/step - loss: 0.0685 - acc: 0.9836\n",
      "Epoch 10/60\n",
      "426/426 [==============================] - 0s 60us/step - loss: 0.0639 - acc: 0.9836\n",
      "Epoch 11/60\n",
      "426/426 [==============================] - 0s 79us/step - loss: 0.0596 - acc: 0.9836\n",
      "Epoch 12/60\n",
      "426/426 [==============================] - 0s 79us/step - loss: 0.0561 - acc: 0.9859\n",
      "Epoch 13/60\n",
      "426/426 [==============================] - 0s 80us/step - loss: 0.0522 - acc: 0.9883\n",
      "Epoch 14/60\n",
      "426/426 [==============================] - 0s 65us/step - loss: 0.0494 - acc: 0.9883\n",
      "Epoch 15/60\n",
      "426/426 [==============================] - 0s 83us/step - loss: 0.0461 - acc: 0.9883\n",
      "Epoch 16/60\n",
      "426/426 [==============================] - 0s 81us/step - loss: 0.0433 - acc: 0.9883\n",
      "Epoch 17/60\n",
      "426/426 [==============================] - 0s 70us/step - loss: 0.0409 - acc: 0.9883\n",
      "Epoch 18/60\n",
      "426/426 [==============================] - 0s 79us/step - loss: 0.0383 - acc: 0.9883\n",
      "Epoch 19/60\n",
      "426/426 [==============================] - 0s 76us/step - loss: 0.0365 - acc: 0.9906\n",
      "Epoch 20/60\n",
      "426/426 [==============================] - 0s 77us/step - loss: 0.0339 - acc: 0.9930\n",
      "Epoch 21/60\n",
      "426/426 [==============================] - 0s 72us/step - loss: 0.0320 - acc: 0.9930\n",
      "Epoch 22/60\n",
      "426/426 [==============================] - 0s 78us/step - loss: 0.0303 - acc: 0.9930\n",
      "Epoch 23/60\n",
      "426/426 [==============================] - 0s 82us/step - loss: 0.0287 - acc: 0.9930\n",
      "Epoch 24/60\n",
      "426/426 [==============================] - 0s 61us/step - loss: 0.0279 - acc: 0.9930\n",
      "Epoch 25/60\n",
      "426/426 [==============================] - 0s 81us/step - loss: 0.0261 - acc: 0.9930\n",
      "Epoch 26/60\n",
      "426/426 [==============================] - 0s 81us/step - loss: 0.0247 - acc: 0.9930\n",
      "Epoch 27/60\n",
      "426/426 [==============================] - 0s 80us/step - loss: 0.0232 - acc: 0.9930\n",
      "Epoch 28/60\n",
      "426/426 [==============================] - 0s 71us/step - loss: 0.0222 - acc: 0.9953\n",
      "Epoch 29/60\n",
      "426/426 [==============================] - 0s 76us/step - loss: 0.0209 - acc: 0.9953\n",
      "Epoch 30/60\n",
      "426/426 [==============================] - 0s 63us/step - loss: 0.0202 - acc: 0.9930\n",
      "Epoch 31/60\n",
      "426/426 [==============================] - 0s 80us/step - loss: 0.0187 - acc: 0.9953\n",
      "Epoch 32/60\n",
      "426/426 [==============================] - 0s 84us/step - loss: 0.0179 - acc: 0.9953\n",
      "Epoch 33/60\n",
      "426/426 [==============================] - 0s 68us/step - loss: 0.0170 - acc: 0.9953\n",
      "Epoch 34/60\n",
      "426/426 [==============================] - 0s 70us/step - loss: 0.0165 - acc: 0.9953\n",
      "Epoch 35/60\n",
      "426/426 [==============================] - 0s 80us/step - loss: 0.0159 - acc: 0.9953\n",
      "Epoch 36/60\n",
      "426/426 [==============================] - 0s 70us/step - loss: 0.0145 - acc: 0.9977\n",
      "Epoch 37/60\n",
      "426/426 [==============================] - 0s 77us/step - loss: 0.0140 - acc: 0.9977\n",
      "Epoch 38/60\n",
      "426/426 [==============================] - 0s 77us/step - loss: 0.0135 - acc: 0.9977\n",
      "Epoch 39/60\n",
      "426/426 [==============================] - 0s 65us/step - loss: 0.0126 - acc: 0.9977\n",
      "Epoch 40/60\n",
      "426/426 [==============================] - 0s 62us/step - loss: 0.0122 - acc: 0.9977\n",
      "Epoch 41/60\n",
      "426/426 [==============================] - 0s 84us/step - loss: 0.0115 - acc: 0.9977\n",
      "Epoch 42/60\n",
      "426/426 [==============================] - 0s 72us/step - loss: 0.0109 - acc: 0.9977\n",
      "Epoch 43/60\n",
      "426/426 [==============================] - ETA: 0s - loss: 0.0104 - acc: 1.000 - 0s 66us/step - loss: 0.0105 - acc: 0.9977\n",
      "Epoch 44/60\n",
      "426/426 [==============================] - 0s 75us/step - loss: 0.0099 - acc: 0.9977\n",
      "Epoch 45/60\n",
      "426/426 [==============================] - 0s 65us/step - loss: 0.0095 - acc: 0.9977\n",
      "Epoch 46/60\n",
      "426/426 [==============================] - 0s 68us/step - loss: 0.0093 - acc: 0.9977\n",
      "Epoch 47/60\n",
      "426/426 [==============================] - 0s 72us/step - loss: 0.0088 - acc: 0.9977\n",
      "Epoch 48/60\n",
      "426/426 [==============================] - 0s 69us/step - loss: 0.0087 - acc: 0.9977\n",
      "Epoch 49/60\n",
      "426/426 [==============================] - 0s 77us/step - loss: 0.0081 - acc: 0.9977\n",
      "Epoch 50/60\n",
      "426/426 [==============================] - 0s 78us/step - loss: 0.0081 - acc: 0.9977\n",
      "Epoch 51/60\n",
      "426/426 [==============================] - 0s 62us/step - loss: 0.0074 - acc: 0.9977\n",
      "Epoch 52/60\n",
      "426/426 [==============================] - 0s 57us/step - loss: 0.0068 - acc: 0.9977\n",
      "Epoch 53/60\n",
      "426/426 [==============================] - 0s 93us/step - loss: 0.0065 - acc: 0.9977\n",
      "Epoch 54/60\n",
      "426/426 [==============================] - 0s 62us/step - loss: 0.0064 - acc: 0.9977\n",
      "Epoch 55/60\n",
      "426/426 [==============================] - 0s 94us/step - loss: 0.0062 - acc: 0.9977\n",
      "Epoch 56/60\n",
      "426/426 [==============================] - 0s 85us/step - loss: 0.0065 - acc: 0.9977\n",
      "Epoch 57/60\n",
      "426/426 [==============================] - 0s 83us/step - loss: 0.0057 - acc: 0.9977\n",
      "Epoch 58/60\n",
      "426/426 [==============================] - 0s 91us/step - loss: 0.0055 - acc: 1.0000\n",
      "Epoch 59/60\n",
      "426/426 [==============================] - 0s 79us/step - loss: 0.0049 - acc: 0.9977\n",
      "Epoch 60/60\n",
      "426/426 [==============================] - 0s 79us/step - loss: 0.0050 - acc: 0.9977\n"
     ]
    },
    {
     "data": {
      "text/plain": [
       "<keras.callbacks.History at 0x1a2d65ec18>"
      ]
     },
     "execution_count": 35,
     "metadata": {},
     "output_type": "execute_result"
    }
   ],
   "source": [
    "# Compile and fit the model\n",
    "model.compile(optimizer='adam',\n",
    "              loss='categorical_crossentropy',\n",
    "              metrics=['accuracy'])\n",
    "model.fit(\n",
    "    X_train_scaled,\n",
    "    y_train_categorical,\n",
    "    epochs=60,\n",
    "    shuffle=True,\n",
    "    verbose=1\n",
    ")"
   ]
  },
  {
   "cell_type": "code",
   "execution_count": 36,
   "metadata": {},
   "outputs": [
    {
     "name": "stdout",
     "output_type": "stream",
     "text": [
      "Normal Neural Network - Loss: 0.07799593816543693, Accuracy: 0.986013986013986\n"
     ]
    }
   ],
   "source": [
    "# Quantify our Trained Model\n",
    "model_loss, model_accuracy = model.evaluate(\n",
    "    X_test_scaled, y_test_categorical, verbose=2)\n",
    "print(\n",
    "    f\"Normal Neural Network - Loss: {model_loss}, Accuracy: {model_accuracy}\")\n"
   ]
  },
  {
   "cell_type": "markdown",
   "metadata": {},
   "source": [
    "# Deep Learning #Sigmoid"
   ]
  },
  {
   "cell_type": "code",
   "execution_count": 37,
   "metadata": {
    "collapsed": true
   },
   "outputs": [],
   "source": [
    "# Create model and add layers\n",
    "model = Sequential()\n",
    "model.add(Dense(units=50, activation='sigmoid', input_dim=22))\n",
    "model.add(Dense(units=50, activation='sigmoid'))\n",
    "model.add(Dense(units=2, activation='softmax'))"
   ]
  },
  {
   "cell_type": "code",
   "execution_count": 38,
   "metadata": {},
   "outputs": [
    {
     "name": "stdout",
     "output_type": "stream",
     "text": [
      "Epoch 1/60\n",
      "426/426 [==============================] - 0s 1ms/step - loss: 0.7321 - acc: 0.6268\n",
      "Epoch 2/60\n",
      "426/426 [==============================] - 0s 85us/step - loss: 0.6090 - acc: 0.7089\n",
      "Epoch 3/60\n",
      "426/426 [==============================] - 0s 84us/step - loss: 0.5318 - acc: 0.7817\n",
      "Epoch 4/60\n",
      "426/426 [==============================] - 0s 82us/step - loss: 0.4557 - acc: 0.8474\n",
      "Epoch 5/60\n",
      "426/426 [==============================] - 0s 86us/step - loss: 0.3809 - acc: 0.9108\n",
      "Epoch 6/60\n",
      "426/426 [==============================] - 0s 79us/step - loss: 0.3130 - acc: 0.9249\n",
      "Epoch 7/60\n",
      "426/426 [==============================] - 0s 76us/step - loss: 0.2555 - acc: 0.9437\n",
      "Epoch 8/60\n",
      "426/426 [==============================] - 0s 88us/step - loss: 0.2119 - acc: 0.9413\n",
      "Epoch 9/60\n",
      "426/426 [==============================] - 0s 107us/step - loss: 0.1803 - acc: 0.9484\n",
      "Epoch 10/60\n",
      "426/426 [==============================] - 0s 92us/step - loss: 0.1567 - acc: 0.9554\n",
      "Epoch 11/60\n",
      "426/426 [==============================] - 0s 74us/step - loss: 0.1388 - acc: 0.9648\n",
      "Epoch 12/60\n",
      "426/426 [==============================] - 0s 89us/step - loss: 0.1249 - acc: 0.9742\n",
      "Epoch 13/60\n",
      "426/426 [==============================] - 0s 85us/step - loss: 0.1131 - acc: 0.9789\n",
      "Epoch 14/60\n",
      "426/426 [==============================] - 0s 86us/step - loss: 0.1048 - acc: 0.9789\n",
      "Epoch 15/60\n",
      "426/426 [==============================] - 0s 84us/step - loss: 0.0972 - acc: 0.9812\n",
      "Epoch 16/60\n",
      "426/426 [==============================] - 0s 87us/step - loss: 0.0912 - acc: 0.9812\n",
      "Epoch 17/60\n",
      "426/426 [==============================] - 0s 89us/step - loss: 0.0866 - acc: 0.9765\n",
      "Epoch 18/60\n",
      "426/426 [==============================] - 0s 68us/step - loss: 0.0832 - acc: 0.9812\n",
      "Epoch 19/60\n",
      "426/426 [==============================] - 0s 91us/step - loss: 0.0805 - acc: 0.9812\n",
      "Epoch 20/60\n",
      "426/426 [==============================] - 0s 84us/step - loss: 0.0766 - acc: 0.9812\n",
      "Epoch 21/60\n",
      "426/426 [==============================] - ETA: 0s - loss: 0.0833 - acc: 0.968 - 0s 79us/step - loss: 0.0751 - acc: 0.9836\n",
      "Epoch 22/60\n",
      "426/426 [==============================] - 0s 72us/step - loss: 0.0733 - acc: 0.9836\n",
      "Epoch 23/60\n",
      "426/426 [==============================] - 0s 84us/step - loss: 0.0717 - acc: 0.9836\n",
      "Epoch 24/60\n",
      "426/426 [==============================] - 0s 68us/step - loss: 0.0697 - acc: 0.9836\n",
      "Epoch 25/60\n",
      "426/426 [==============================] - 0s 88us/step - loss: 0.0689 - acc: 0.9836\n",
      "Epoch 26/60\n",
      "426/426 [==============================] - 0s 80us/step - loss: 0.0669 - acc: 0.9836\n",
      "Epoch 27/60\n",
      "426/426 [==============================] - 0s 71us/step - loss: 0.0659 - acc: 0.9836\n",
      "Epoch 28/60\n",
      "426/426 [==============================] - 0s 86us/step - loss: 0.0650 - acc: 0.9836\n",
      "Epoch 29/60\n",
      "426/426 [==============================] - 0s 79us/step - loss: 0.0640 - acc: 0.9836\n",
      "Epoch 30/60\n",
      "426/426 [==============================] - 0s 76us/step - loss: 0.0632 - acc: 0.9836\n",
      "Epoch 31/60\n",
      "426/426 [==============================] - 0s 87us/step - loss: 0.0623 - acc: 0.9836\n",
      "Epoch 32/60\n",
      "426/426 [==============================] - 0s 85us/step - loss: 0.0614 - acc: 0.9836\n",
      "Epoch 33/60\n",
      "426/426 [==============================] - 0s 81us/step - loss: 0.0611 - acc: 0.9836\n",
      "Epoch 34/60\n",
      "426/426 [==============================] - 0s 68us/step - loss: 0.0606 - acc: 0.9836\n",
      "Epoch 35/60\n",
      "426/426 [==============================] - 0s 83us/step - loss: 0.0598 - acc: 0.9836\n",
      "Epoch 36/60\n",
      "426/426 [==============================] - 0s 74us/step - loss: 0.0590 - acc: 0.9859\n",
      "Epoch 37/60\n",
      "426/426 [==============================] - 0s 70us/step - loss: 0.0586 - acc: 0.9859\n",
      "Epoch 38/60\n",
      "426/426 [==============================] - 0s 74us/step - loss: 0.0587 - acc: 0.9836\n",
      "Epoch 39/60\n",
      "426/426 [==============================] - 0s 71us/step - loss: 0.0569 - acc: 0.9836\n",
      "Epoch 40/60\n",
      "426/426 [==============================] - 0s 84us/step - loss: 0.0568 - acc: 0.9859\n",
      "Epoch 41/60\n",
      "426/426 [==============================] - 0s 78us/step - loss: 0.0576 - acc: 0.9859\n",
      "Epoch 42/60\n",
      "426/426 [==============================] - 0s 71us/step - loss: 0.0563 - acc: 0.9859\n",
      "Epoch 43/60\n",
      "426/426 [==============================] - 0s 82us/step - loss: 0.0562 - acc: 0.9859\n",
      "Epoch 44/60\n",
      "426/426 [==============================] - 0s 74us/step - loss: 0.0565 - acc: 0.9836\n",
      "Epoch 45/60\n",
      "426/426 [==============================] - 0s 76us/step - loss: 0.0554 - acc: 0.9859\n",
      "Epoch 46/60\n",
      "426/426 [==============================] - 0s 86us/step - loss: 0.0550 - acc: 0.9859\n",
      "Epoch 47/60\n",
      "426/426 [==============================] - 0s 76us/step - loss: 0.0554 - acc: 0.9859\n",
      "Epoch 48/60\n",
      "426/426 [==============================] - 0s 79us/step - loss: 0.0540 - acc: 0.9859\n",
      "Epoch 49/60\n",
      "426/426 [==============================] - 0s 72us/step - loss: 0.0538 - acc: 0.9859\n",
      "Epoch 50/60\n",
      "426/426 [==============================] - 0s 81us/step - loss: 0.0536 - acc: 0.9859\n",
      "Epoch 51/60\n",
      "426/426 [==============================] - 0s 73us/step - loss: 0.0548 - acc: 0.9836\n",
      "Epoch 52/60\n",
      "426/426 [==============================] - 0s 91us/step - loss: 0.0536 - acc: 0.9859\n",
      "Epoch 53/60\n",
      "426/426 [==============================] - 0s 61us/step - loss: 0.0534 - acc: 0.9859\n",
      "Epoch 54/60\n",
      "426/426 [==============================] - 0s 72us/step - loss: 0.0524 - acc: 0.9859\n",
      "Epoch 55/60\n",
      "426/426 [==============================] - 0s 61us/step - loss: 0.0529 - acc: 0.9883\n",
      "Epoch 56/60\n",
      "426/426 [==============================] - 0s 63us/step - loss: 0.0523 - acc: 0.9859\n",
      "Epoch 57/60\n",
      "426/426 [==============================] - 0s 97us/step - loss: 0.0519 - acc: 0.9859\n",
      "Epoch 58/60\n",
      "426/426 [==============================] - 0s 66us/step - loss: 0.0516 - acc: 0.9859\n",
      "Epoch 59/60\n",
      "426/426 [==============================] - 0s 87us/step - loss: 0.0520 - acc: 0.9859\n",
      "Epoch 60/60\n",
      "426/426 [==============================] - 0s 89us/step - loss: 0.0514 - acc: 0.9859\n"
     ]
    }
   ],
   "source": [
    "# Compile and fit the model\n",
    "model.compile(optimizer='adam',\n",
    "              loss='categorical_crossentropy',\n",
    "              metrics=['accuracy'])\n",
    "clf_3 = model.fit(\n",
    "    X_train_scaled,\n",
    "    y_train_categorical,\n",
    "    epochs=60,\n",
    "    shuffle=True,\n",
    "    verbose=1\n",
    ")\n"
   ]
  },
  {
   "cell_type": "code",
   "execution_count": 39,
   "metadata": {},
   "outputs": [
    {
     "name": "stdout",
     "output_type": "stream",
     "text": [
      "Normal Neural Network - Loss: 0.07176871120871103, Accuracy: 0.972027972027972\n"
     ]
    }
   ],
   "source": [
    "# Quantify our Trained Model\n",
    "model_loss, model_accuracy = model.evaluate(\n",
    "    X_test_scaled, y_test_categorical, verbose=2)\n",
    "print(\n",
    "    f\"Normal Neural Network - Loss: {model_loss}, Accuracy: {model_accuracy}\")"
   ]
  },
  {
   "cell_type": "markdown",
   "metadata": {},
   "source": [
    "# Visualization Neural Network"
   ]
  },
  {
   "cell_type": "code",
   "execution_count": 40,
   "metadata": {
    "collapsed": true
   },
   "outputs": [],
   "source": [
    "loss_hist_relu = clf_4.history['loss'] \n",
    "acc_hist_relu = clf_4.history['acc'] \n",
    "loss_hist_sigmoid = clf_5.history['loss'] \n",
    "acc_hist_sigmoid = clf_5.history['acc'] \n",
    "loss_hist_linear = clf_6.history['loss'] \n",
    "acc_hist_linear = clf_6.history['acc'] \n",
    "loss_hist_tanh = clf_6.history['loss'] \n",
    "acc_hist_tanh = clf_6.history['acc'] "
   ]
  },
  {
   "cell_type": "code",
   "execution_count": 41,
   "metadata": {
    "collapsed": true
   },
   "outputs": [],
   "source": [
    "x_axis = list(range(1, 61))"
   ]
  },
  {
   "cell_type": "code",
   "execution_count": 59,
   "metadata": {},
   "outputs": [
    {
     "data": {
      "text/plain": [
       "<matplotlib.figure.Figure at 0x1a2f1982e8>"
      ]
     },
     "metadata": {},
     "output_type": "display_data"
    },
    {
     "data": {
      "image/png": "[encoded data removed]",
      "text/plain": [
       "<matplotlib.figure.Figure at 0x1a2f1981d0>"
      ]
     },
     "metadata": {},
     "output_type": "display_data"
    }
   ],
   "source": [
    "import matplotlib.pyplot as plt\n",
    "\n",
    "plt.style.use('Solarize_Light2')\n",
    "plt.figure(figsize = (6,4))\n",
    "fig, ax1 = plt.subplots()\n",
    "plt.xlabel(\"Epochs\")\n",
    "plt.ylabel(\"Loss & Accuracy\")\n",
    "lns1= ax1.plot(x_axis, loss_hist_relu, \"r-\", label=\"Loss_Relu\", alpha= 0.25)\n",
    "ax2 = ax1.twinx()\n",
    "lns2= ax2.plot(x_axis, acc_hist_relu, \"r-\", label=\"Accuracy_Relu\", alpha= 1)\n",
    "ax1.set_ylabel(\"Loss\", color=\"red\")\n",
    "ax2.set_ylabel(\"Accuracy\", color=\"blue\")\n",
    "ax1.tick_params(axis='y', colors='red')\n",
    "ax2.tick_params(axis='y', colors='blue')\n",
    "\n",
    "\n",
    "ax3 = ax1.twinx()\n",
    "lns3= ax3.plot(x_axis, loss_hist_sigmoid, \"blue\", label=\"Loss_Sigmoid\", alpha= 0.25)\n",
    "# ax3.tick_params(axis='y', colors='white')\n",
    "ax3.axis('off')\n",
    "\n",
    "ax4 = ax1.twinx()\n",
    "lns4= ax4.plot(x_axis, acc_hist_sigmoid,\"blue\", label=\"Accuracy_Sigmoid\", alpha= 1)\n",
    "ax4.axis('off')\n",
    "\n",
    "ax5 = ax1.twinx()\n",
    "lns5= ax5.plot(x_axis, loss_hist_linear, \"orange\", label=\"Loss_Linear\", alpha= 0.25)\n",
    "ax5.axis('off')\n",
    "\n",
    "ax6 = ax1.twinx()\n",
    "lns6= ax6.plot(x_axis, acc_hist_sigmoid,\"orange\", label=\"Accuracy_Linear\", alpha= 1)\n",
    "ax6.axis('off')\n",
    "\n",
    "ax7 = ax1.twinx()\n",
    "lns7= ax7.plot(x_axis, loss_hist_tanh, \"green\", label=\"Loss_Tanh\", alpha= 0.25)\n",
    "ax7.axis('off')\n",
    "\n",
    "ax8 = ax1.twinx()\n",
    "lns8= ax8.plot(x_axis, acc_hist_tanh,\"green\", label=\"Accuracy_Tanh\", alpha= 1)\n",
    "ax8.axis('off')\n",
    "\n",
    "\n",
    "plt.title(\"Sigmoid Achieves The Highest Accuracy in Neural Network\", color = \"darkblue\")\n",
    "\n",
    "# added these three lines for all legends in one box \n",
    "lns = lns1+lns2+lns3+lns4+lns5+lns6+lns7+lns8\n",
    "labs = [l.get_label() for l in lns]\n",
    "ax1.legend(lns, labs, loc='center right')\n",
    "\n",
    "plt.savefig('Neural_Network.png')\n",
    "plt.show()"
   ]
  },
  {
   "cell_type": "code",
   "execution_count": null,
   "metadata": {
    "collapsed": true
   },
   "outputs": [],
   "source": []
  },
  {
   "cell_type": "code",
   "execution_count": null,
   "metadata": {
    "collapsed": true
   },
   "outputs": [],
   "source": []
  },
  {
   "cell_type": "markdown",
   "metadata": {},
   "source": [
    "# Visualiztion False Positive & Flase Negative"
   ]
  },
  {
   "cell_type": "code",
   "execution_count": 44,
   "metadata": {},
   "outputs": [
    {
     "ename": "AttributeError",
     "evalue": "'History' object has no attribute 'predict'",
     "output_type": "error",
     "traceback": [
      "\u001b[0;31m---------------------------------------------------------------------------\u001b[0m",
      "\u001b[0;31mAttributeError\u001b[0m                            Traceback (most recent call last)",
      "\u001b[0;32m<ipython-input-44-58cd3c2e7c9a>\u001b[0m in \u001b[0;36m<module>\u001b[0;34m()\u001b[0m\n\u001b[1;32m      2\u001b[0m \u001b[0;32mfrom\u001b[0m \u001b[0msklearn\u001b[0m\u001b[0;34m.\u001b[0m\u001b[0mmetrics\u001b[0m \u001b[0;32mimport\u001b[0m \u001b[0maccuracy_score\u001b[0m\u001b[0;34m\u001b[0m\u001b[0m\n\u001b[1;32m      3\u001b[0m \u001b[0;32mimport\u001b[0m \u001b[0mseaborn\u001b[0m \u001b[0;32mas\u001b[0m \u001b[0msns\u001b[0m\u001b[0;34m\u001b[0m\u001b[0m\n\u001b[0;32m----> 4\u001b[0;31m \u001b[0mcm\u001b[0m \u001b[0;34m=\u001b[0m \u001b[0mconfusion_matrix\u001b[0m\u001b[0;34m(\u001b[0m\u001b[0my_test\u001b[0m\u001b[0;34m,\u001b[0m\u001b[0mclf_3\u001b[0m\u001b[0;34m.\u001b[0m\u001b[0mpredict\u001b[0m\u001b[0;34m(\u001b[0m\u001b[0mX_test\u001b[0m\u001b[0;34m)\u001b[0m\u001b[0;34m)\u001b[0m\u001b[0;34m\u001b[0m\u001b[0m\n\u001b[0m\u001b[1;32m      5\u001b[0m \u001b[0msns\u001b[0m\u001b[0;34m.\u001b[0m\u001b[0mheatmap\u001b[0m\u001b[0;34m(\u001b[0m\u001b[0mcm\u001b[0m\u001b[0;34m,\u001b[0m\u001b[0mannot\u001b[0m\u001b[0;34m=\u001b[0m\u001b[0;32mTrue\u001b[0m\u001b[0;34m,\u001b[0m\u001b[0mfmt\u001b[0m\u001b[0;34m=\u001b[0m\u001b[0;34m\"d\"\u001b[0m\u001b[0;34m)\u001b[0m\u001b[0;34m\u001b[0m\u001b[0m\n",
      "\u001b[0;31mAttributeError\u001b[0m: 'History' object has no attribute 'predict'"
     ]
    }
   ],
   "source": [
    "from sklearn.metrics import f1_score,confusion_matrix\n",
    "from sklearn.metrics import accuracy_score\n",
    "import seaborn as sns\n",
    "cm = confusion_matrix(y_test,clf_3.predict(X_test))\n",
    "sns.heatmap(cm,annot=True,fmt=\"d\")"
   ]
  },
  {
   "cell_type": "code",
   "execution_count": null,
   "metadata": {
    "collapsed": true
   },
   "outputs": [],
   "source": [
    "from sklearn.model_selection import train_test_split\n",
    "from sklearn.ensemble import RandomForestClassifier\n",
    "from sklearn.metrics import f1_score,confusion_matrix\n",
    "from sklearn.metrics import accuracy_score\n",
    "\n",
    "# split data train 70 % and test 30 %\n",
    "x_train, x_test, y_train, y_test = train_test_split(x_1, y, test_size=0.3, random_state=42)\n",
    "\n",
    "#random forest classifier with n_estimators=10 (default)\n",
    "clf_rf = RandomForestClassifier(random_state=43)      \n",
    "clr_rf = clf_rf.fit(x_train,y_train)\n",
    "\n",
    "ac = accuracy_score(y_test,clf_rf.predict(x_test))\n",
    "print('Accuracy is: ',ac)\n",
    "cm = confusion_matrix(y_test,clf_rf.predict(x_test))\n",
    "sns.heatmap(cm,annot=True,fmt=\"d\")"
   ]
  }
 ],
 "metadata": {
  "kernelspec": {
   "display_name": "Python 3",
   "language": "python",
   "name": "python3"
  },
  "language_info": {
   "codemirror_mode": {
    "name": "ipython",
    "version": 3
   },
   "file_extension": ".py",
   "mimetype": "text/x-python",
   "name": "python",
   "nbconvert_exporter": "python",
   "pygments_lexer": "ipython3",
   "version": "3.6.3"
  }
 },
 "nbformat": 4,
 "nbformat_minor": 2
}
