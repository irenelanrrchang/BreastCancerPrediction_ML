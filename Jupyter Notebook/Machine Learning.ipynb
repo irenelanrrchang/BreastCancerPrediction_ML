{
 "cells": [
  {
   "cell_type": "code",
   "execution_count": 1,
   "metadata": {
    "collapsed": true
   },
   "outputs": [],
   "source": [
    "import numpy as np\n",
    "import pandas as pd\n",
    "import os\n",
    "import matplotlib.pyplot as plt\n",
    "from sklearn.datasets import load_iris\n",
    "from sklearn.model_selection import train_test_split\n",
    "from sklearn.neighbors import KNeighborsClassifier"
   ]
  },
  {
   "cell_type": "code",
   "execution_count": 2,
   "metadata": {},
   "outputs": [
    {
     "data": {
      "text/html": [
       "<div>\n",
       "<style>\n",
       "    .dataframe thead tr:only-child th {\n",
       "        text-align: right;\n",
       "    }\n",
       "\n",
       "    .dataframe thead th {\n",
       "        text-align: left;\n",
       "    }\n",
       "\n",
       "    .dataframe tbody tr th {\n",
       "        vertical-align: top;\n",
       "    }\n",
       "</style>\n",
       "<table border=\"1\" class=\"dataframe\">\n",
       "  <thead>\n",
       "    <tr style=\"text-align: right;\">\n",
       "      <th></th>\n",
       "      <th>id</th>\n",
       "      <th>diagnosis</th>\n",
       "      <th>radius_mean</th>\n",
       "      <th>texture_mean</th>\n",
       "      <th>perimeter_mean</th>\n",
       "      <th>area_mean</th>\n",
       "      <th>smoothness_mean</th>\n",
       "      <th>compactness_mean</th>\n",
       "      <th>concavity_mean</th>\n",
       "      <th>concave points_mean</th>\n",
       "      <th>...</th>\n",
       "      <th>texture_worst</th>\n",
       "      <th>perimeter_worst</th>\n",
       "      <th>area_worst</th>\n",
       "      <th>smoothness_worst</th>\n",
       "      <th>compactness_worst</th>\n",
       "      <th>concavity_worst</th>\n",
       "      <th>concave points_worst</th>\n",
       "      <th>symmetry_worst</th>\n",
       "      <th>fractal_dimension_worst</th>\n",
       "      <th>Unnamed: 32</th>\n",
       "    </tr>\n",
       "  </thead>\n",
       "  <tbody>\n",
       "    <tr>\n",
       "      <th>0</th>\n",
       "      <td>842302</td>\n",
       "      <td>M</td>\n",
       "      <td>17.99</td>\n",
       "      <td>10.38</td>\n",
       "      <td>122.80</td>\n",
       "      <td>1001.0</td>\n",
       "      <td>0.11840</td>\n",
       "      <td>0.27760</td>\n",
       "      <td>0.3001</td>\n",
       "      <td>0.14710</td>\n",
       "      <td>...</td>\n",
       "      <td>17.33</td>\n",
       "      <td>184.60</td>\n",
       "      <td>2019.0</td>\n",
       "      <td>0.1622</td>\n",
       "      <td>0.6656</td>\n",
       "      <td>0.7119</td>\n",
       "      <td>0.2654</td>\n",
       "      <td>0.4601</td>\n",
       "      <td>0.11890</td>\n",
       "      <td>NaN</td>\n",
       "    </tr>\n",
       "    <tr>\n",
       "      <th>1</th>\n",
       "      <td>842517</td>\n",
       "      <td>M</td>\n",
       "      <td>20.57</td>\n",
       "      <td>17.77</td>\n",
       "      <td>132.90</td>\n",
       "      <td>1326.0</td>\n",
       "      <td>0.08474</td>\n",
       "      <td>0.07864</td>\n",
       "      <td>0.0869</td>\n",
       "      <td>0.07017</td>\n",
       "      <td>...</td>\n",
       "      <td>23.41</td>\n",
       "      <td>158.80</td>\n",
       "      <td>1956.0</td>\n",
       "      <td>0.1238</td>\n",
       "      <td>0.1866</td>\n",
       "      <td>0.2416</td>\n",
       "      <td>0.1860</td>\n",
       "      <td>0.2750</td>\n",
       "      <td>0.08902</td>\n",
       "      <td>NaN</td>\n",
       "    </tr>\n",
       "    <tr>\n",
       "      <th>2</th>\n",
       "      <td>84300903</td>\n",
       "      <td>M</td>\n",
       "      <td>19.69</td>\n",
       "      <td>21.25</td>\n",
       "      <td>130.00</td>\n",
       "      <td>1203.0</td>\n",
       "      <td>0.10960</td>\n",
       "      <td>0.15990</td>\n",
       "      <td>0.1974</td>\n",
       "      <td>0.12790</td>\n",
       "      <td>...</td>\n",
       "      <td>25.53</td>\n",
       "      <td>152.50</td>\n",
       "      <td>1709.0</td>\n",
       "      <td>0.1444</td>\n",
       "      <td>0.4245</td>\n",
       "      <td>0.4504</td>\n",
       "      <td>0.2430</td>\n",
       "      <td>0.3613</td>\n",
       "      <td>0.08758</td>\n",
       "      <td>NaN</td>\n",
       "    </tr>\n",
       "    <tr>\n",
       "      <th>3</th>\n",
       "      <td>84348301</td>\n",
       "      <td>M</td>\n",
       "      <td>11.42</td>\n",
       "      <td>20.38</td>\n",
       "      <td>77.58</td>\n",
       "      <td>386.1</td>\n",
       "      <td>0.14250</td>\n",
       "      <td>0.28390</td>\n",
       "      <td>0.2414</td>\n",
       "      <td>0.10520</td>\n",
       "      <td>...</td>\n",
       "      <td>26.50</td>\n",
       "      <td>98.87</td>\n",
       "      <td>567.7</td>\n",
       "      <td>0.2098</td>\n",
       "      <td>0.8663</td>\n",
       "      <td>0.6869</td>\n",
       "      <td>0.2575</td>\n",
       "      <td>0.6638</td>\n",
       "      <td>0.17300</td>\n",
       "      <td>NaN</td>\n",
       "    </tr>\n",
       "    <tr>\n",
       "      <th>4</th>\n",
       "      <td>84358402</td>\n",
       "      <td>M</td>\n",
       "      <td>20.29</td>\n",
       "      <td>14.34</td>\n",
       "      <td>135.10</td>\n",
       "      <td>1297.0</td>\n",
       "      <td>0.10030</td>\n",
       "      <td>0.13280</td>\n",
       "      <td>0.1980</td>\n",
       "      <td>0.10430</td>\n",
       "      <td>...</td>\n",
       "      <td>16.67</td>\n",
       "      <td>152.20</td>\n",
       "      <td>1575.0</td>\n",
       "      <td>0.1374</td>\n",
       "      <td>0.2050</td>\n",
       "      <td>0.4000</td>\n",
       "      <td>0.1625</td>\n",
       "      <td>0.2364</td>\n",
       "      <td>0.07678</td>\n",
       "      <td>NaN</td>\n",
       "    </tr>\n",
       "  </tbody>\n",
       "</table>\n",
       "<p>5 rows × 33 columns</p>\n",
       "</div>"
      ],
      "text/plain": [
       "         id diagnosis  radius_mean  texture_mean  perimeter_mean  area_mean  \\\n",
       "0    842302         M        17.99         10.38          122.80     1001.0   \n",
       "1    842517         M        20.57         17.77          132.90     1326.0   \n",
       "2  84300903         M        19.69         21.25          130.00     1203.0   \n",
       "3  84348301         M        11.42         20.38           77.58      386.1   \n",
       "4  84358402         M        20.29         14.34          135.10     1297.0   \n",
       "\n",
       "   smoothness_mean  compactness_mean  concavity_mean  concave points_mean  \\\n",
       "0          0.11840           0.27760          0.3001              0.14710   \n",
       "1          0.08474           0.07864          0.0869              0.07017   \n",
       "2          0.10960           0.15990          0.1974              0.12790   \n",
       "3          0.14250           0.28390          0.2414              0.10520   \n",
       "4          0.10030           0.13280          0.1980              0.10430   \n",
       "\n",
       "      ...       texture_worst  perimeter_worst  area_worst  smoothness_worst  \\\n",
       "0     ...               17.33           184.60      2019.0            0.1622   \n",
       "1     ...               23.41           158.80      1956.0            0.1238   \n",
       "2     ...               25.53           152.50      1709.0            0.1444   \n",
       "3     ...               26.50            98.87       567.7            0.2098   \n",
       "4     ...               16.67           152.20      1575.0            0.1374   \n",
       "\n",
       "   compactness_worst  concavity_worst  concave points_worst  symmetry_worst  \\\n",
       "0             0.6656           0.7119                0.2654          0.4601   \n",
       "1             0.1866           0.2416                0.1860          0.2750   \n",
       "2             0.4245           0.4504                0.2430          0.3613   \n",
       "3             0.8663           0.6869                0.2575          0.6638   \n",
       "4             0.2050           0.4000                0.1625          0.2364   \n",
       "\n",
       "   fractal_dimension_worst  Unnamed: 32  \n",
       "0                  0.11890          NaN  \n",
       "1                  0.08902          NaN  \n",
       "2                  0.08758          NaN  \n",
       "3                  0.17300          NaN  \n",
       "4                  0.07678          NaN  \n",
       "\n",
       "[5 rows x 33 columns]"
      ]
     },
     "execution_count": 2,
     "metadata": {},
     "output_type": "execute_result"
    }
   ],
   "source": [
    "# Read and check the data\n",
    "cancer = pd.read_csv('../Resources/data.csv')\n",
    "cancer.head()"
   ]
  },
  {
   "cell_type": "code",
   "execution_count": 3,
   "metadata": {
    "scrolled": true
   },
   "outputs": [
    {
     "data": {
      "text/html": [
       "<div>\n",
       "<style>\n",
       "    .dataframe thead tr:only-child th {\n",
       "        text-align: right;\n",
       "    }\n",
       "\n",
       "    .dataframe thead th {\n",
       "        text-align: left;\n",
       "    }\n",
       "\n",
       "    .dataframe tbody tr th {\n",
       "        vertical-align: top;\n",
       "    }\n",
       "</style>\n",
       "<table border=\"1\" class=\"dataframe\">\n",
       "  <thead>\n",
       "    <tr style=\"text-align: right;\">\n",
       "      <th></th>\n",
       "      <th>diagnosis</th>\n",
       "      <th>radius_mean</th>\n",
       "      <th>texture_mean</th>\n",
       "      <th>perimeter_mean</th>\n",
       "      <th>area_mean</th>\n",
       "      <th>smoothness_mean</th>\n",
       "      <th>compactness_mean</th>\n",
       "      <th>concavity_mean</th>\n",
       "      <th>concave points_mean</th>\n",
       "      <th>symmetry_mean</th>\n",
       "      <th>...</th>\n",
       "      <th>radius_worst</th>\n",
       "      <th>texture_worst</th>\n",
       "      <th>perimeter_worst</th>\n",
       "      <th>area_worst</th>\n",
       "      <th>smoothness_worst</th>\n",
       "      <th>compactness_worst</th>\n",
       "      <th>concavity_worst</th>\n",
       "      <th>concave points_worst</th>\n",
       "      <th>symmetry_worst</th>\n",
       "      <th>fractal_dimension_worst</th>\n",
       "    </tr>\n",
       "  </thead>\n",
       "  <tbody>\n",
       "    <tr>\n",
       "      <th>0</th>\n",
       "      <td>M</td>\n",
       "      <td>17.99</td>\n",
       "      <td>10.38</td>\n",
       "      <td>122.80</td>\n",
       "      <td>1001.0</td>\n",
       "      <td>0.11840</td>\n",
       "      <td>0.27760</td>\n",
       "      <td>0.3001</td>\n",
       "      <td>0.14710</td>\n",
       "      <td>0.2419</td>\n",
       "      <td>...</td>\n",
       "      <td>25.38</td>\n",
       "      <td>17.33</td>\n",
       "      <td>184.60</td>\n",
       "      <td>2019.0</td>\n",
       "      <td>0.1622</td>\n",
       "      <td>0.6656</td>\n",
       "      <td>0.7119</td>\n",
       "      <td>0.2654</td>\n",
       "      <td>0.4601</td>\n",
       "      <td>0.11890</td>\n",
       "    </tr>\n",
       "    <tr>\n",
       "      <th>1</th>\n",
       "      <td>M</td>\n",
       "      <td>20.57</td>\n",
       "      <td>17.77</td>\n",
       "      <td>132.90</td>\n",
       "      <td>1326.0</td>\n",
       "      <td>0.08474</td>\n",
       "      <td>0.07864</td>\n",
       "      <td>0.0869</td>\n",
       "      <td>0.07017</td>\n",
       "      <td>0.1812</td>\n",
       "      <td>...</td>\n",
       "      <td>24.99</td>\n",
       "      <td>23.41</td>\n",
       "      <td>158.80</td>\n",
       "      <td>1956.0</td>\n",
       "      <td>0.1238</td>\n",
       "      <td>0.1866</td>\n",
       "      <td>0.2416</td>\n",
       "      <td>0.1860</td>\n",
       "      <td>0.2750</td>\n",
       "      <td>0.08902</td>\n",
       "    </tr>\n",
       "    <tr>\n",
       "      <th>2</th>\n",
       "      <td>M</td>\n",
       "      <td>19.69</td>\n",
       "      <td>21.25</td>\n",
       "      <td>130.00</td>\n",
       "      <td>1203.0</td>\n",
       "      <td>0.10960</td>\n",
       "      <td>0.15990</td>\n",
       "      <td>0.1974</td>\n",
       "      <td>0.12790</td>\n",
       "      <td>0.2069</td>\n",
       "      <td>...</td>\n",
       "      <td>23.57</td>\n",
       "      <td>25.53</td>\n",
       "      <td>152.50</td>\n",
       "      <td>1709.0</td>\n",
       "      <td>0.1444</td>\n",
       "      <td>0.4245</td>\n",
       "      <td>0.4504</td>\n",
       "      <td>0.2430</td>\n",
       "      <td>0.3613</td>\n",
       "      <td>0.08758</td>\n",
       "    </tr>\n",
       "    <tr>\n",
       "      <th>3</th>\n",
       "      <td>M</td>\n",
       "      <td>11.42</td>\n",
       "      <td>20.38</td>\n",
       "      <td>77.58</td>\n",
       "      <td>386.1</td>\n",
       "      <td>0.14250</td>\n",
       "      <td>0.28390</td>\n",
       "      <td>0.2414</td>\n",
       "      <td>0.10520</td>\n",
       "      <td>0.2597</td>\n",
       "      <td>...</td>\n",
       "      <td>14.91</td>\n",
       "      <td>26.50</td>\n",
       "      <td>98.87</td>\n",
       "      <td>567.7</td>\n",
       "      <td>0.2098</td>\n",
       "      <td>0.8663</td>\n",
       "      <td>0.6869</td>\n",
       "      <td>0.2575</td>\n",
       "      <td>0.6638</td>\n",
       "      <td>0.17300</td>\n",
       "    </tr>\n",
       "    <tr>\n",
       "      <th>4</th>\n",
       "      <td>M</td>\n",
       "      <td>20.29</td>\n",
       "      <td>14.34</td>\n",
       "      <td>135.10</td>\n",
       "      <td>1297.0</td>\n",
       "      <td>0.10030</td>\n",
       "      <td>0.13280</td>\n",
       "      <td>0.1980</td>\n",
       "      <td>0.10430</td>\n",
       "      <td>0.1809</td>\n",
       "      <td>...</td>\n",
       "      <td>22.54</td>\n",
       "      <td>16.67</td>\n",
       "      <td>152.20</td>\n",
       "      <td>1575.0</td>\n",
       "      <td>0.1374</td>\n",
       "      <td>0.2050</td>\n",
       "      <td>0.4000</td>\n",
       "      <td>0.1625</td>\n",
       "      <td>0.2364</td>\n",
       "      <td>0.07678</td>\n",
       "    </tr>\n",
       "  </tbody>\n",
       "</table>\n",
       "<p>5 rows × 31 columns</p>\n",
       "</div>"
      ],
      "text/plain": [
       "  diagnosis  radius_mean  texture_mean  perimeter_mean  area_mean  \\\n",
       "0         M        17.99         10.38          122.80     1001.0   \n",
       "1         M        20.57         17.77          132.90     1326.0   \n",
       "2         M        19.69         21.25          130.00     1203.0   \n",
       "3         M        11.42         20.38           77.58      386.1   \n",
       "4         M        20.29         14.34          135.10     1297.0   \n",
       "\n",
       "   smoothness_mean  compactness_mean  concavity_mean  concave points_mean  \\\n",
       "0          0.11840           0.27760          0.3001              0.14710   \n",
       "1          0.08474           0.07864          0.0869              0.07017   \n",
       "2          0.10960           0.15990          0.1974              0.12790   \n",
       "3          0.14250           0.28390          0.2414              0.10520   \n",
       "4          0.10030           0.13280          0.1980              0.10430   \n",
       "\n",
       "   symmetry_mean           ...             radius_worst  texture_worst  \\\n",
       "0         0.2419           ...                    25.38          17.33   \n",
       "1         0.1812           ...                    24.99          23.41   \n",
       "2         0.2069           ...                    23.57          25.53   \n",
       "3         0.2597           ...                    14.91          26.50   \n",
       "4         0.1809           ...                    22.54          16.67   \n",
       "\n",
       "   perimeter_worst  area_worst  smoothness_worst  compactness_worst  \\\n",
       "0           184.60      2019.0            0.1622             0.6656   \n",
       "1           158.80      1956.0            0.1238             0.1866   \n",
       "2           152.50      1709.0            0.1444             0.4245   \n",
       "3            98.87       567.7            0.2098             0.8663   \n",
       "4           152.20      1575.0            0.1374             0.2050   \n",
       "\n",
       "   concavity_worst  concave points_worst  symmetry_worst  \\\n",
       "0           0.7119                0.2654          0.4601   \n",
       "1           0.2416                0.1860          0.2750   \n",
       "2           0.4504                0.2430          0.3613   \n",
       "3           0.6869                0.2575          0.6638   \n",
       "4           0.4000                0.1625          0.2364   \n",
       "\n",
       "   fractal_dimension_worst  \n",
       "0                  0.11890  \n",
       "1                  0.08902  \n",
       "2                  0.08758  \n",
       "3                  0.17300  \n",
       "4                  0.07678  \n",
       "\n",
       "[5 rows x 31 columns]"
      ]
     },
     "execution_count": 3,
     "metadata": {},
     "output_type": "execute_result"
    }
   ],
   "source": [
    "# Clean data\n",
    "cancer = cancer.iloc[:,:-1]\n",
    "cancer = cancer.drop(cancer.columns[[0]], axis=1) \n",
    "cancer.head()"
   ]
  },
  {
   "cell_type": "markdown",
   "metadata": {},
   "source": [
    "# K Nearest Neighbors methodology"
   ]
  },
  {
   "cell_type": "code",
   "execution_count": 4,
   "metadata": {},
   "outputs": [
    {
     "name": "stderr",
     "output_type": "stream",
     "text": [
      "Using TensorFlow backend.\n"
     ]
    },
    {
     "data": {
      "text/html": [
       "<div>\n",
       "<style>\n",
       "    .dataframe thead tr:only-child th {\n",
       "        text-align: right;\n",
       "    }\n",
       "\n",
       "    .dataframe thead th {\n",
       "        text-align: left;\n",
       "    }\n",
       "\n",
       "    .dataframe tbody tr th {\n",
       "        vertical-align: top;\n",
       "    }\n",
       "</style>\n",
       "<table border=\"1\" class=\"dataframe\">\n",
       "  <thead>\n",
       "    <tr style=\"text-align: right;\">\n",
       "      <th></th>\n",
       "      <th>radius_mean</th>\n",
       "      <th>texture_mean</th>\n",
       "      <th>perimeter_mean</th>\n",
       "      <th>area_mean</th>\n",
       "      <th>smoothness_mean</th>\n",
       "      <th>compactness_mean</th>\n",
       "      <th>concavity_mean</th>\n",
       "      <th>concave points_mean</th>\n",
       "      <th>symmetry_mean</th>\n",
       "      <th>fractal_dimension_mean</th>\n",
       "      <th>...</th>\n",
       "      <th>radius_worst</th>\n",
       "      <th>texture_worst</th>\n",
       "      <th>perimeter_worst</th>\n",
       "      <th>area_worst</th>\n",
       "      <th>smoothness_worst</th>\n",
       "      <th>compactness_worst</th>\n",
       "      <th>concavity_worst</th>\n",
       "      <th>concave points_worst</th>\n",
       "      <th>symmetry_worst</th>\n",
       "      <th>fractal_dimension_worst</th>\n",
       "    </tr>\n",
       "  </thead>\n",
       "  <tbody>\n",
       "    <tr>\n",
       "      <th>0</th>\n",
       "      <td>17.99</td>\n",
       "      <td>10.38</td>\n",
       "      <td>122.80</td>\n",
       "      <td>1001.0</td>\n",
       "      <td>0.11840</td>\n",
       "      <td>0.27760</td>\n",
       "      <td>0.3001</td>\n",
       "      <td>0.14710</td>\n",
       "      <td>0.2419</td>\n",
       "      <td>0.07871</td>\n",
       "      <td>...</td>\n",
       "      <td>25.38</td>\n",
       "      <td>17.33</td>\n",
       "      <td>184.60</td>\n",
       "      <td>2019.0</td>\n",
       "      <td>0.1622</td>\n",
       "      <td>0.6656</td>\n",
       "      <td>0.7119</td>\n",
       "      <td>0.2654</td>\n",
       "      <td>0.4601</td>\n",
       "      <td>0.11890</td>\n",
       "    </tr>\n",
       "    <tr>\n",
       "      <th>1</th>\n",
       "      <td>20.57</td>\n",
       "      <td>17.77</td>\n",
       "      <td>132.90</td>\n",
       "      <td>1326.0</td>\n",
       "      <td>0.08474</td>\n",
       "      <td>0.07864</td>\n",
       "      <td>0.0869</td>\n",
       "      <td>0.07017</td>\n",
       "      <td>0.1812</td>\n",
       "      <td>0.05667</td>\n",
       "      <td>...</td>\n",
       "      <td>24.99</td>\n",
       "      <td>23.41</td>\n",
       "      <td>158.80</td>\n",
       "      <td>1956.0</td>\n",
       "      <td>0.1238</td>\n",
       "      <td>0.1866</td>\n",
       "      <td>0.2416</td>\n",
       "      <td>0.1860</td>\n",
       "      <td>0.2750</td>\n",
       "      <td>0.08902</td>\n",
       "    </tr>\n",
       "    <tr>\n",
       "      <th>2</th>\n",
       "      <td>19.69</td>\n",
       "      <td>21.25</td>\n",
       "      <td>130.00</td>\n",
       "      <td>1203.0</td>\n",
       "      <td>0.10960</td>\n",
       "      <td>0.15990</td>\n",
       "      <td>0.1974</td>\n",
       "      <td>0.12790</td>\n",
       "      <td>0.2069</td>\n",
       "      <td>0.05999</td>\n",
       "      <td>...</td>\n",
       "      <td>23.57</td>\n",
       "      <td>25.53</td>\n",
       "      <td>152.50</td>\n",
       "      <td>1709.0</td>\n",
       "      <td>0.1444</td>\n",
       "      <td>0.4245</td>\n",
       "      <td>0.4504</td>\n",
       "      <td>0.2430</td>\n",
       "      <td>0.3613</td>\n",
       "      <td>0.08758</td>\n",
       "    </tr>\n",
       "    <tr>\n",
       "      <th>3</th>\n",
       "      <td>11.42</td>\n",
       "      <td>20.38</td>\n",
       "      <td>77.58</td>\n",
       "      <td>386.1</td>\n",
       "      <td>0.14250</td>\n",
       "      <td>0.28390</td>\n",
       "      <td>0.2414</td>\n",
       "      <td>0.10520</td>\n",
       "      <td>0.2597</td>\n",
       "      <td>0.09744</td>\n",
       "      <td>...</td>\n",
       "      <td>14.91</td>\n",
       "      <td>26.50</td>\n",
       "      <td>98.87</td>\n",
       "      <td>567.7</td>\n",
       "      <td>0.2098</td>\n",
       "      <td>0.8663</td>\n",
       "      <td>0.6869</td>\n",
       "      <td>0.2575</td>\n",
       "      <td>0.6638</td>\n",
       "      <td>0.17300</td>\n",
       "    </tr>\n",
       "    <tr>\n",
       "      <th>4</th>\n",
       "      <td>20.29</td>\n",
       "      <td>14.34</td>\n",
       "      <td>135.10</td>\n",
       "      <td>1297.0</td>\n",
       "      <td>0.10030</td>\n",
       "      <td>0.13280</td>\n",
       "      <td>0.1980</td>\n",
       "      <td>0.10430</td>\n",
       "      <td>0.1809</td>\n",
       "      <td>0.05883</td>\n",
       "      <td>...</td>\n",
       "      <td>22.54</td>\n",
       "      <td>16.67</td>\n",
       "      <td>152.20</td>\n",
       "      <td>1575.0</td>\n",
       "      <td>0.1374</td>\n",
       "      <td>0.2050</td>\n",
       "      <td>0.4000</td>\n",
       "      <td>0.1625</td>\n",
       "      <td>0.2364</td>\n",
       "      <td>0.07678</td>\n",
       "    </tr>\n",
       "  </tbody>\n",
       "</table>\n",
       "<p>5 rows × 30 columns</p>\n",
       "</div>"
      ],
      "text/plain": [
       "   radius_mean  texture_mean  perimeter_mean  area_mean  smoothness_mean  \\\n",
       "0        17.99         10.38          122.80     1001.0          0.11840   \n",
       "1        20.57         17.77          132.90     1326.0          0.08474   \n",
       "2        19.69         21.25          130.00     1203.0          0.10960   \n",
       "3        11.42         20.38           77.58      386.1          0.14250   \n",
       "4        20.29         14.34          135.10     1297.0          0.10030   \n",
       "\n",
       "   compactness_mean  concavity_mean  concave points_mean  symmetry_mean  \\\n",
       "0           0.27760          0.3001              0.14710         0.2419   \n",
       "1           0.07864          0.0869              0.07017         0.1812   \n",
       "2           0.15990          0.1974              0.12790         0.2069   \n",
       "3           0.28390          0.2414              0.10520         0.2597   \n",
       "4           0.13280          0.1980              0.10430         0.1809   \n",
       "\n",
       "   fractal_dimension_mean           ...             radius_worst  \\\n",
       "0                 0.07871           ...                    25.38   \n",
       "1                 0.05667           ...                    24.99   \n",
       "2                 0.05999           ...                    23.57   \n",
       "3                 0.09744           ...                    14.91   \n",
       "4                 0.05883           ...                    22.54   \n",
       "\n",
       "   texture_worst  perimeter_worst  area_worst  smoothness_worst  \\\n",
       "0          17.33           184.60      2019.0            0.1622   \n",
       "1          23.41           158.80      1956.0            0.1238   \n",
       "2          25.53           152.50      1709.0            0.1444   \n",
       "3          26.50            98.87       567.7            0.2098   \n",
       "4          16.67           152.20      1575.0            0.1374   \n",
       "\n",
       "   compactness_worst  concavity_worst  concave points_worst  symmetry_worst  \\\n",
       "0             0.6656           0.7119                0.2654          0.4601   \n",
       "1             0.1866           0.2416                0.1860          0.2750   \n",
       "2             0.4245           0.4504                0.2430          0.3613   \n",
       "3             0.8663           0.6869                0.2575          0.6638   \n",
       "4             0.2050           0.4000                0.1625          0.2364   \n",
       "\n",
       "   fractal_dimension_worst  \n",
       "0                  0.11890  \n",
       "1                  0.08902  \n",
       "2                  0.08758  \n",
       "3                  0.17300  \n",
       "4                  0.07678  \n",
       "\n",
       "[5 rows x 30 columns]"
      ]
     },
     "execution_count": 4,
     "metadata": {},
     "output_type": "execute_result"
    }
   ],
   "source": [
    "# Ref: 21-2-6\n",
    "# Data Pre Processing\n",
    "from sklearn.model_selection import train_test_split\n",
    "from sklearn.preprocessing import LabelEncoder, StandardScaler\n",
    "from keras.utils import to_categorical\n",
    "target = cancer[\"diagnosis\"]\n",
    "data = cancer.drop(\"diagnosis\", axis=1)\n",
    "feature_names = data.columns\n",
    "data.head()"
   ]
  },
  {
   "cell_type": "code",
   "execution_count": 5,
   "metadata": {
    "collapsed": true
   },
   "outputs": [],
   "source": [
    "from sklearn.model_selection import train_test_split\n",
    "X_train, X_test, y_train, y_test = train_test_split(data, target, random_state=42)"
   ]
  },
  {
   "cell_type": "code",
   "execution_count": 6,
   "metadata": {},
   "outputs": [
    {
     "name": "stdout",
     "output_type": "stream",
     "text": [
      "k: 1, Train/Test Score: 1.000/0.930\n",
      "k: 3, Train/Test Score: 0.951/0.930\n",
      "k: 5, Train/Test Score: 0.934/0.965\n",
      "k: 7, Train/Test Score: 0.937/0.958\n",
      "k: 9, Train/Test Score: 0.934/0.958\n",
      "k: 11, Train/Test Score: 0.934/0.979\n",
      "k: 13, Train/Test Score: 0.925/0.972\n",
      "k: 15, Train/Test Score: 0.923/0.965\n",
      "k: 17, Train/Test Score: 0.925/0.965\n",
      "k: 19, Train/Test Score: 0.920/0.965\n",
      "k: 21, Train/Test Score: 0.918/0.965\n",
      "k: 23, Train/Test Score: 0.918/0.965\n",
      "k: 25, Train/Test Score: 0.915/0.951\n",
      "k: 27, Train/Test Score: 0.918/0.951\n",
      "k: 29, Train/Test Score: 0.915/0.951\n",
      "k: 31, Train/Test Score: 0.915/0.951\n",
      "k: 33, Train/Test Score: 0.913/0.944\n",
      "k: 35, Train/Test Score: 0.915/0.944\n",
      "k: 37, Train/Test Score: 0.918/0.944\n",
      "k: 39, Train/Test Score: 0.913/0.951\n",
      "k: 41, Train/Test Score: 0.911/0.951\n",
      "k: 43, Train/Test Score: 0.911/0.944\n",
      "k: 45, Train/Test Score: 0.911/0.951\n",
      "k: 47, Train/Test Score: 0.911/0.951\n",
      "k: 49, Train/Test Score: 0.904/0.944\n"
     ]
    },
    {
     "data": {
      "image/png": "[encoded data removed]",
      "text/plain": [
       "<matplotlib.figure.Figure at 0x111d8cf60>"
      ]
     },
     "metadata": {},
     "output_type": "display_data"
    }
   ],
   "source": [
    "# Loop through different k values to see which has the highest accuracy\n",
    "# Note: We only use odd numbers because we don't want any ties\n",
    "train_scores = []\n",
    "test_scores = []\n",
    "for k in range(1, 50, 2):\n",
    "    knn = KNeighborsClassifier(n_neighbors=k)\n",
    "    knn.fit(X_train, y_train)\n",
    "    train_score = knn.score(X_train, y_train)\n",
    "    test_score = knn.score(X_test, y_test)\n",
    "    train_scores.append(train_score)\n",
    "    test_scores.append(test_score)\n",
    "    print(f\"k: {k}, Train/Test Score: {train_score:.3f}/{test_score:.3f}\")\n",
    "    \n",
    "    \n",
    "plt.plot(range(1, 50, 2), train_scores, marker='o')\n",
    "plt.plot(range(1, 50, 2), test_scores, marker=\"x\")\n",
    "plt.xlabel(\"k neighbors\")\n",
    "plt.ylabel(\"Testing accuracy Score\")\n",
    "plt.show()"
   ]
  },
  {
   "cell_type": "code",
   "execution_count": 7,
   "metadata": {},
   "outputs": [
    {
     "name": "stdout",
     "output_type": "stream",
     "text": [
      "k=7 Test Acc: 0.958\n"
     ]
    }
   ],
   "source": [
    "# Note that k: 11 seems to be the best choice for this dataset\n",
    "knn = KNeighborsClassifier(n_neighbors=7)\n",
    "knn.fit(X_train, y_train)\n",
    "print('k=7 Test Acc: %.3f' % knn.score(X_test, y_test))"
   ]
  },
  {
   "cell_type": "markdown",
   "metadata": {},
   "source": [
    "# Deep Learning Methodology_#Relu"
   ]
  },
  {
   "cell_type": "code",
   "execution_count": 8,
   "metadata": {},
   "outputs": [
    {
     "name": "stdout",
     "output_type": "stream",
     "text": [
      "(569, 30) (569,)\n"
     ]
    }
   ],
   "source": [
    "X = cancer.drop(\"diagnosis\", axis=1)\n",
    "y = cancer[\"diagnosis\"]\n",
    "print(X.shape, y.shape)"
   ]
  },
  {
   "cell_type": "code",
   "execution_count": 56,
   "metadata": {
    "collapsed": true
   },
   "outputs": [],
   "source": [
    "# Create a Deep Learning Model\n",
    "from keras.models import Sequential\n",
    "from keras.layers import Dense"
   ]
  },
  {
   "cell_type": "code",
   "execution_count": 57,
   "metadata": {
    "collapsed": true
   },
   "outputs": [],
   "source": [
    "# Data Pre-processing\n",
    "from sklearn.model_selection import train_test_split\n",
    "from sklearn.preprocessing import LabelEncoder, StandardScaler\n",
    "from keras.utils import to_categorical\n",
    "\n",
    "X_train, X_test, y_train, y_test = train_test_split(\n",
    "    X, y, random_state=1, stratify=y)\n",
    "X_scaler = StandardScaler().fit(X_train)\n",
    "X_train_scaled = X_scaler.transform(X_train)\n",
    "X_test_scaled = X_scaler.transform(X_test)\n",
    "\n",
    "\n",
    "# Step 1: Label-encode data set\n",
    "label_encoder = LabelEncoder()\n",
    "label_encoder.fit(y_train)\n",
    "encoded_y_train = label_encoder.transform(y_train)\n",
    "encoded_y_test = label_encoder.transform(y_test)\n",
    "\n",
    "# Step 2: Convert encoded labels to one-hot-encoding\n",
    "y_train_categorical = to_categorical(encoded_y_train)\n",
    "y_test_categorical = to_categorical(encoded_y_test)"
   ]
  },
  {
   "cell_type": "code",
   "execution_count": 58,
   "metadata": {
    "collapsed": true
   },
   "outputs": [],
   "source": [
    "# Create model and add layers\n",
    "model = Sequential()\n",
    "model.add(Dense(units=50, activation='relu', input_dim=30))\n",
    "model.add(Dense(units=50, activation='relu'))\n",
    "model.add(Dense(units=2, activation='softmax'))"
   ]
  },
  {
   "cell_type": "code",
   "execution_count": 14,
   "metadata": {},
   "outputs": [
    {
     "name": "stdout",
     "output_type": "stream",
     "text": [
      "Epoch 1/60\n",
      " - 0s - loss: 0.5541 - acc: 0.7066\n",
      "Epoch 2/60\n",
      " - 0s - loss: 0.2582 - acc: 0.9343\n",
      "Epoch 3/60\n",
      " - 0s - loss: 0.1568 - acc: 0.9648\n",
      "Epoch 4/60\n",
      " - 0s - loss: 0.1131 - acc: 0.9789\n",
      "Epoch 5/60\n",
      " - 0s - loss: 0.0883 - acc: 0.9836\n",
      "Epoch 6/60\n",
      " - 0s - loss: 0.0751 - acc: 0.9859\n",
      "Epoch 7/60\n",
      " - 0s - loss: 0.0660 - acc: 0.9883\n",
      "Epoch 8/60\n",
      " - 0s - loss: 0.0594 - acc: 0.9883\n",
      "Epoch 9/60\n",
      " - 0s - loss: 0.0538 - acc: 0.9883\n",
      "Epoch 10/60\n",
      " - 0s - loss: 0.0496 - acc: 0.9930\n",
      "Epoch 11/60\n",
      " - 0s - loss: 0.0459 - acc: 0.9930\n",
      "Epoch 12/60\n",
      " - 0s - loss: 0.0424 - acc: 0.9930\n",
      "Epoch 13/60\n",
      " - 0s - loss: 0.0397 - acc: 0.9930\n",
      "Epoch 14/60\n",
      " - 0s - loss: 0.0367 - acc: 0.9930\n",
      "Epoch 15/60\n",
      " - 0s - loss: 0.0344 - acc: 0.9930\n",
      "Epoch 16/60\n",
      " - 0s - loss: 0.0304 - acc: 0.9930\n",
      "Epoch 17/60\n",
      " - 0s - loss: 0.0296 - acc: 0.9930\n",
      "Epoch 18/60\n",
      " - 0s - loss: 0.0269 - acc: 0.9930\n",
      "Epoch 19/60\n",
      " - 0s - loss: 0.0249 - acc: 0.9930\n",
      "Epoch 20/60\n",
      " - 0s - loss: 0.0233 - acc: 0.9953\n",
      "Epoch 21/60\n",
      " - 0s - loss: 0.0215 - acc: 0.9953\n",
      "Epoch 22/60\n",
      " - 0s - loss: 0.0199 - acc: 0.9953\n",
      "Epoch 23/60\n",
      " - 0s - loss: 0.0185 - acc: 0.9953\n",
      "Epoch 24/60\n",
      " - 0s - loss: 0.0173 - acc: 0.9953\n",
      "Epoch 25/60\n",
      " - 0s - loss: 0.0159 - acc: 0.9953\n",
      "Epoch 26/60\n",
      " - 0s - loss: 0.0145 - acc: 0.9953\n",
      "Epoch 27/60\n",
      " - 0s - loss: 0.0133 - acc: 0.9953\n",
      "Epoch 28/60\n",
      " - 0s - loss: 0.0123 - acc: 0.9953\n",
      "Epoch 29/60\n",
      " - 0s - loss: 0.0113 - acc: 0.9953\n",
      "Epoch 30/60\n",
      " - 0s - loss: 0.0108 - acc: 0.9953\n",
      "Epoch 31/60\n",
      " - 0s - loss: 0.0100 - acc: 0.9977\n",
      "Epoch 32/60\n",
      " - 0s - loss: 0.0092 - acc: 0.9977\n",
      "Epoch 33/60\n",
      " - 0s - loss: 0.0083 - acc: 0.9977\n",
      "Epoch 34/60\n",
      " - 0s - loss: 0.0076 - acc: 0.9977\n",
      "Epoch 35/60\n",
      " - 0s - loss: 0.0073 - acc: 0.9977\n",
      "Epoch 36/60\n",
      " - 0s - loss: 0.0070 - acc: 0.9977\n",
      "Epoch 37/60\n",
      " - 0s - loss: 0.0063 - acc: 1.0000\n",
      "Epoch 38/60\n",
      " - 0s - loss: 0.0059 - acc: 1.0000\n",
      "Epoch 39/60\n",
      " - 0s - loss: 0.0057 - acc: 0.9977\n",
      "Epoch 40/60\n",
      " - 0s - loss: 0.0051 - acc: 1.0000\n",
      "Epoch 41/60\n",
      " - 0s - loss: 0.0049 - acc: 1.0000\n",
      "Epoch 42/60\n",
      " - 0s - loss: 0.0045 - acc: 1.0000\n",
      "Epoch 43/60\n",
      " - 0s - loss: 0.0041 - acc: 1.0000\n",
      "Epoch 44/60\n",
      " - 0s - loss: 0.0039 - acc: 1.0000\n",
      "Epoch 45/60\n",
      " - 0s - loss: 0.0036 - acc: 1.0000\n",
      "Epoch 46/60\n",
      " - 0s - loss: 0.0035 - acc: 1.0000\n",
      "Epoch 47/60\n",
      " - 0s - loss: 0.0033 - acc: 1.0000\n",
      "Epoch 48/60\n",
      " - 0s - loss: 0.0031 - acc: 1.0000\n",
      "Epoch 49/60\n",
      " - 0s - loss: 0.0029 - acc: 1.0000\n",
      "Epoch 50/60\n",
      " - 0s - loss: 0.0029 - acc: 1.0000\n",
      "Epoch 51/60\n",
      " - 0s - loss: 0.0026 - acc: 1.0000\n",
      "Epoch 52/60\n",
      " - 0s - loss: 0.0025 - acc: 1.0000\n",
      "Epoch 53/60\n",
      " - 0s - loss: 0.0024 - acc: 1.0000\n",
      "Epoch 54/60\n",
      " - 0s - loss: 0.0022 - acc: 1.0000\n",
      "Epoch 55/60\n",
      " - 0s - loss: 0.0022 - acc: 1.0000\n",
      "Epoch 56/60\n",
      " - 0s - loss: 0.0020 - acc: 1.0000\n",
      "Epoch 57/60\n",
      " - 0s - loss: 0.0020 - acc: 1.0000\n",
      "Epoch 58/60\n",
      " - 0s - loss: 0.0018 - acc: 1.0000\n",
      "Epoch 59/60\n",
      " - 0s - loss: 0.0018 - acc: 1.0000\n",
      "Epoch 60/60\n",
      " - 0s - loss: 0.0016 - acc: 1.0000\n"
     ]
    },
    {
     "data": {
      "text/plain": [
       "<keras.callbacks.History at 0x114bf1fd0>"
      ]
     },
     "execution_count": 14,
     "metadata": {},
     "output_type": "execute_result"
    }
   ],
   "source": [
    "# Compile and fit the model\n",
    "model.compile(optimizer='adam',\n",
    "              loss='categorical_crossentropy',\n",
    "              metrics=['accuracy'])\n",
    "model.fit(\n",
    "    X_train_scaled,\n",
    "    y_train_categorical,\n",
    "    epochs=60,\n",
    "    shuffle=True,\n",
    "    verbose=2\n",
    ")"
   ]
  },
  {
   "cell_type": "code",
   "execution_count": 15,
   "metadata": {},
   "outputs": [
    {
     "name": "stdout",
     "output_type": "stream",
     "text": [
      "Normal Neural Network - Loss: 0.12330031737144748, Accuracy: 0.972027972027972\n"
     ]
    }
   ],
   "source": [
    "# Quantify our Trained Model\n",
    "model_loss, model_accuracy = model.evaluate(\n",
    "    X_test_scaled, y_test_categorical, verbose=2)\n",
    "print(\n",
    "    f\"Normal Neural Network - Loss: {model_loss}, Accuracy: {model_accuracy}\")"
   ]
  },
  {
   "cell_type": "markdown",
   "metadata": {},
   "source": [
    "# Deep Learning Methodology_#Sigmoid\n"
   ]
  },
  {
   "cell_type": "code",
   "execution_count": 18,
   "metadata": {
    "collapsed": true
   },
   "outputs": [],
   "source": [
    "# Create model and add layers\n",
    "model = Sequential()\n",
    "model.add(Dense(units=50, activation='sigmoid', input_dim=30))\n",
    "model.add(Dense(units=50, activation='sigmoid'))\n",
    "model.add(Dense(units=2, activation='softmax'))"
   ]
  },
  {
   "cell_type": "code",
   "execution_count": 19,
   "metadata": {},
   "outputs": [
    {
     "name": "stdout",
     "output_type": "stream",
     "text": [
      "Epoch 1/60\n",
      "426/426 [==============================] - 0s 768us/step - loss: 0.6366 - acc: 0.6338\n",
      "Epoch 2/60\n",
      "426/426 [==============================] - 0s 79us/step - loss: 0.5346 - acc: 0.6761\n",
      "Epoch 3/60\n",
      "426/426 [==============================] - 0s 83us/step - loss: 0.4346 - acc: 0.8826\n",
      "Epoch 4/60\n",
      "426/426 [==============================] - 0s 86us/step - loss: 0.3484 - acc: 0.9202\n",
      "Epoch 5/60\n",
      "426/426 [==============================] - 0s 91us/step - loss: 0.2771 - acc: 0.9272\n",
      "Epoch 6/60\n",
      "426/426 [==============================] - 0s 87us/step - loss: 0.2252 - acc: 0.9413\n",
      "Epoch 7/60\n",
      "426/426 [==============================] - 0s 85us/step - loss: 0.1861 - acc: 0.9460\n",
      "Epoch 8/60\n",
      "426/426 [==============================] - 0s 77us/step - loss: 0.1589 - acc: 0.9531\n",
      "Epoch 9/60\n",
      "426/426 [==============================] - 0s 89us/step - loss: 0.1383 - acc: 0.9601\n",
      "Epoch 10/60\n",
      "426/426 [==============================] - 0s 68us/step - loss: 0.1228 - acc: 0.9695\n",
      "Epoch 11/60\n",
      "426/426 [==============================] - 0s 84us/step - loss: 0.1086 - acc: 0.9812\n",
      "Epoch 12/60\n",
      "426/426 [==============================] - 0s 83us/step - loss: 0.1003 - acc: 0.9836\n",
      "Epoch 13/60\n",
      "426/426 [==============================] - 0s 75us/step - loss: 0.0921 - acc: 0.9836\n",
      "Epoch 14/60\n",
      "426/426 [==============================] - 0s 76us/step - loss: 0.0859 - acc: 0.9836\n",
      "Epoch 15/60\n",
      "426/426 [==============================] - 0s 80us/step - loss: 0.0805 - acc: 0.9883\n",
      "Epoch 16/60\n",
      "426/426 [==============================] - 0s 86us/step - loss: 0.0767 - acc: 0.9883\n",
      "Epoch 17/60\n",
      "426/426 [==============================] - 0s 74us/step - loss: 0.0728 - acc: 0.9906\n",
      "Epoch 18/60\n",
      "426/426 [==============================] - 0s 71us/step - loss: 0.0695 - acc: 0.9906\n",
      "Epoch 19/60\n",
      "426/426 [==============================] - 0s 84us/step - loss: 0.0671 - acc: 0.9906\n",
      "Epoch 20/60\n",
      "426/426 [==============================] - 0s 64us/step - loss: 0.0651 - acc: 0.9906\n",
      "Epoch 21/60\n",
      "426/426 [==============================] - 0s 75us/step - loss: 0.0627 - acc: 0.9906\n",
      "Epoch 22/60\n",
      "426/426 [==============================] - 0s 65us/step - loss: 0.0620 - acc: 0.9906\n",
      "Epoch 23/60\n",
      "426/426 [==============================] - 0s 69us/step - loss: 0.0600 - acc: 0.9906\n",
      "Epoch 24/60\n",
      "426/426 [==============================] - 0s 78us/step - loss: 0.0585 - acc: 0.9906\n",
      "Epoch 25/60\n",
      "426/426 [==============================] - 0s 78us/step - loss: 0.0576 - acc: 0.9906\n",
      "Epoch 26/60\n",
      "426/426 [==============================] - 0s 82us/step - loss: 0.0564 - acc: 0.9906\n",
      "Epoch 27/60\n",
      "426/426 [==============================] - 0s 73us/step - loss: 0.0553 - acc: 0.9906\n",
      "Epoch 28/60\n",
      "426/426 [==============================] - 0s 76us/step - loss: 0.0545 - acc: 0.9906\n",
      "Epoch 29/60\n",
      "426/426 [==============================] - 0s 79us/step - loss: 0.0538 - acc: 0.9906\n",
      "Epoch 30/60\n",
      "426/426 [==============================] - 0s 83us/step - loss: 0.0528 - acc: 0.9906\n",
      "Epoch 31/60\n",
      "426/426 [==============================] - 0s 74us/step - loss: 0.0520 - acc: 0.9906\n",
      "Epoch 32/60\n",
      "426/426 [==============================] - 0s 78us/step - loss: 0.0515 - acc: 0.9906\n",
      "Epoch 33/60\n",
      "426/426 [==============================] - 0s 81us/step - loss: 0.0508 - acc: 0.9906\n",
      "Epoch 34/60\n",
      "426/426 [==============================] - 0s 74us/step - loss: 0.0505 - acc: 0.9883\n",
      "Epoch 35/60\n",
      "426/426 [==============================] - 0s 68us/step - loss: 0.0497 - acc: 0.9906\n",
      "Epoch 36/60\n",
      "426/426 [==============================] - 0s 77us/step - loss: 0.0492 - acc: 0.9906\n",
      "Epoch 37/60\n",
      "426/426 [==============================] - 0s 70us/step - loss: 0.0486 - acc: 0.9906\n",
      "Epoch 38/60\n",
      "426/426 [==============================] - 0s 61us/step - loss: 0.0498 - acc: 0.9883\n",
      "Epoch 39/60\n",
      "426/426 [==============================] - 0s 64us/step - loss: 0.0478 - acc: 0.9906\n",
      "Epoch 40/60\n",
      "426/426 [==============================] - 0s 58us/step - loss: 0.0473 - acc: 0.9883\n",
      "Epoch 41/60\n",
      "426/426 [==============================] - 0s 60us/step - loss: 0.0468 - acc: 0.9906\n",
      "Epoch 42/60\n",
      "426/426 [==============================] - 0s 70us/step - loss: 0.0463 - acc: 0.9906\n",
      "Epoch 43/60\n",
      "426/426 [==============================] - 0s 88us/step - loss: 0.0460 - acc: 0.9906\n",
      "Epoch 44/60\n",
      "426/426 [==============================] - 0s 72us/step - loss: 0.0459 - acc: 0.9906\n",
      "Epoch 45/60\n",
      "426/426 [==============================] - 0s 76us/step - loss: 0.0454 - acc: 0.9906\n",
      "Epoch 46/60\n",
      "426/426 [==============================] - 0s 66us/step - loss: 0.0450 - acc: 0.9906\n",
      "Epoch 47/60\n",
      "426/426 [==============================] - 0s 87us/step - loss: 0.0453 - acc: 0.9883\n",
      "Epoch 48/60\n",
      "426/426 [==============================] - 0s 74us/step - loss: 0.0449 - acc: 0.9906\n",
      "Epoch 49/60\n",
      "426/426 [==============================] - 0s 83us/step - loss: 0.0453 - acc: 0.9906\n",
      "Epoch 50/60\n",
      "426/426 [==============================] - 0s 74us/step - loss: 0.0437 - acc: 0.9930\n",
      "Epoch 51/60\n",
      "426/426 [==============================] - 0s 88us/step - loss: 0.0436 - acc: 0.9883\n",
      "Epoch 52/60\n",
      "426/426 [==============================] - 0s 82us/step - loss: 0.0437 - acc: 0.9883\n",
      "Epoch 53/60\n",
      "426/426 [==============================] - 0s 64us/step - loss: 0.0431 - acc: 0.9883\n",
      "Epoch 54/60\n",
      "426/426 [==============================] - 0s 96us/step - loss: 0.0431 - acc: 0.9883\n",
      "Epoch 55/60\n",
      "426/426 [==============================] - 0s 74us/step - loss: 0.0425 - acc: 0.9883\n",
      "Epoch 56/60\n",
      "426/426 [==============================] - 0s 89us/step - loss: 0.0437 - acc: 0.9883\n",
      "Epoch 57/60\n",
      "426/426 [==============================] - 0s 79us/step - loss: 0.0421 - acc: 0.9883\n",
      "Epoch 58/60\n",
      "426/426 [==============================] - 0s 78us/step - loss: 0.0419 - acc: 0.9883\n",
      "Epoch 59/60\n",
      "426/426 [==============================] - 0s 88us/step - loss: 0.0417 - acc: 0.9930\n",
      "Epoch 60/60\n",
      "426/426 [==============================] - 0s 94us/step - loss: 0.0409 - acc: 0.9906\n"
     ]
    },
    {
     "data": {
      "text/plain": [
       "<keras.callbacks.History at 0x114c220f0>"
      ]
     },
     "execution_count": 19,
     "metadata": {},
     "output_type": "execute_result"
    }
   ],
   "source": [
    "# Compile and fit the model\n",
    "model.compile(optimizer='adam',\n",
    "              loss='categorical_crossentropy',\n",
    "              metrics=['accuracy'])\n",
    "model.fit(\n",
    "    X_train_scaled,\n",
    "    y_train_categorical,\n",
    "    epochs=60,\n",
    "    shuffle=True,\n",
    "    verbose=1\n",
    ")"
   ]
  },
  {
   "cell_type": "code",
   "execution_count": 20,
   "metadata": {},
   "outputs": [
    {
     "name": "stdout",
     "output_type": "stream",
     "text": [
      "Normal Neural Network - Loss: 0.07555320741725968, Accuracy: 0.9790209790209791\n"
     ]
    }
   ],
   "source": [
    "# Quantify our Trained Model\n",
    "model_loss, model_accuracy = model.evaluate(\n",
    "    X_test_scaled, y_test_categorical, verbose=2)\n",
    "print(\n",
    "    f\"Normal Neural Network - Loss: {model_loss}, Accuracy: {model_accuracy}, Testing: {model}\")"
   ]
  },
  {
   "cell_type": "markdown",
   "metadata": {},
   "source": [
    "# Deep Learning Methodology_#Linear"
   ]
  },
  {
   "cell_type": "code",
   "execution_count": 23,
   "metadata": {
    "collapsed": true
   },
   "outputs": [],
   "source": [
    "# Create model and add layers\n",
    "model = Sequential()\n",
    "model.add(Dense(units=50, activation='linear', input_dim=30))\n",
    "model.add(Dense(units=50, activation='linear'))\n",
    "model.add(Dense(units=2, activation='softmax'))"
   ]
  },
  {
   "cell_type": "code",
   "execution_count": 24,
   "metadata": {},
   "outputs": [
    {
     "data": {
      "text/plain": [
       "<keras.callbacks.History at 0x10e6349b0>"
      ]
     },
     "execution_count": 24,
     "metadata": {},
     "output_type": "execute_result"
    }
   ],
   "source": [
    "# Compile and fit the model\n",
    "model.compile(optimizer='adam',\n",
    "              loss='categorical_crossentropy',\n",
    "              metrics=['accuracy'])\n",
    "model.fit(\n",
    "    X_train_scaled,\n",
    "    y_train_categorical,\n",
    "    epochs=60,\n",
    "    shuffle=True,\n",
    "    verbose=0\n",
    ")"
   ]
  },
  {
   "cell_type": "code",
   "execution_count": 25,
   "metadata": {},
   "outputs": [
    {
     "name": "stdout",
     "output_type": "stream",
     "text": [
      "Normal Neural Network - Loss: 0.18896039310931081, Accuracy: 0.958041958041958\n"
     ]
    }
   ],
   "source": [
    "# Quantify our Trained Model\n",
    "model_loss, model_accuracy = model.evaluate(\n",
    "    X_test_scaled, y_test_categorical, verbose=2)\n",
    "print(\n",
    "    f\"Normal Neural Network - Loss: {model_loss}, Accuracy: {model_accuracy}\")"
   ]
  },
  {
   "cell_type": "markdown",
   "metadata": {},
   "source": [
    "# Deep Learning Methodology_#Tanh"
   ]
  },
  {
   "cell_type": "code",
   "execution_count": 27,
   "metadata": {
    "collapsed": true
   },
   "outputs": [],
   "source": [
    "# Create model and add layers\n",
    "model = Sequential()\n",
    "model.add(Dense(units=50, activation='tanh', input_dim=30))\n",
    "model.add(Dense(units=50, activation='tanh'))\n",
    "model.add(Dense(units=2, activation='softmax'))"
   ]
  },
  {
   "cell_type": "code",
   "execution_count": 28,
   "metadata": {},
   "outputs": [
    {
     "name": "stdout",
     "output_type": "stream",
     "text": [
      "Epoch 1/60\n",
      "426/426 [==============================] - 0s 919us/step - loss: 0.5362 - acc: 0.7207\n",
      "Epoch 2/60\n",
      "426/426 [==============================] - 0s 85us/step - loss: 0.1833 - acc: 0.9507\n",
      "Epoch 3/60\n",
      "426/426 [==============================] - 0s 84us/step - loss: 0.1163 - acc: 0.9718\n",
      "Epoch 4/60\n",
      "426/426 [==============================] - 0s 84us/step - loss: 0.0927 - acc: 0.9789\n",
      "Epoch 5/60\n",
      "426/426 [==============================] - 0s 87us/step - loss: 0.0785 - acc: 0.9836\n",
      "Epoch 6/60\n",
      "426/426 [==============================] - 0s 85us/step - loss: 0.0713 - acc: 0.9836\n",
      "Epoch 7/60\n",
      "426/426 [==============================] - 0s 79us/step - loss: 0.0653 - acc: 0.9859\n",
      "Epoch 8/60\n",
      "426/426 [==============================] - 0s 70us/step - loss: 0.0616 - acc: 0.9859\n",
      "Epoch 9/60\n",
      "426/426 [==============================] - 0s 69us/step - loss: 0.0579 - acc: 0.9883\n",
      "Epoch 10/60\n",
      "426/426 [==============================] - 0s 62us/step - loss: 0.0555 - acc: 0.9883\n",
      "Epoch 11/60\n",
      "426/426 [==============================] - ETA: 0s - loss: 0.0290 - acc: 0.968 - 0s 72us/step - loss: 0.0541 - acc: 0.9883\n",
      "Epoch 12/60\n",
      "426/426 [==============================] - 0s 72us/step - loss: 0.0506 - acc: 0.9906\n",
      "Epoch 13/60\n",
      "426/426 [==============================] - 0s 70us/step - loss: 0.0498 - acc: 0.9906\n",
      "Epoch 14/60\n",
      "426/426 [==============================] - 0s 64us/step - loss: 0.0485 - acc: 0.9906\n",
      "Epoch 15/60\n",
      "426/426 [==============================] - 0s 68us/step - loss: 0.0470 - acc: 0.9906\n",
      "Epoch 16/60\n",
      "426/426 [==============================] - 0s 76us/step - loss: 0.0461 - acc: 0.9906\n",
      "Epoch 17/60\n",
      "426/426 [==============================] - 0s 66us/step - loss: 0.0442 - acc: 0.9883\n",
      "Epoch 18/60\n",
      "426/426 [==============================] - 0s 60us/step - loss: 0.0445 - acc: 0.9906\n",
      "Epoch 19/60\n",
      "426/426 [==============================] - 0s 83us/step - loss: 0.0419 - acc: 0.9906\n",
      "Epoch 20/60\n",
      "426/426 [==============================] - 0s 75us/step - loss: 0.0412 - acc: 0.9930\n",
      "Epoch 21/60\n",
      "426/426 [==============================] - 0s 91us/step - loss: 0.0401 - acc: 0.9930\n",
      "Epoch 22/60\n",
      "426/426 [==============================] - 0s 80us/step - loss: 0.0387 - acc: 0.9906\n",
      "Epoch 23/60\n",
      "426/426 [==============================] - 0s 81us/step - loss: 0.0369 - acc: 0.9906\n",
      "Epoch 24/60\n",
      "426/426 [==============================] - 0s 83us/step - loss: 0.0373 - acc: 0.9930\n",
      "Epoch 25/60\n",
      "426/426 [==============================] - 0s 85us/step - loss: 0.0363 - acc: 0.9930\n",
      "Epoch 26/60\n",
      "426/426 [==============================] - 0s 89us/step - loss: 0.0360 - acc: 0.9930\n",
      "Epoch 27/60\n",
      "426/426 [==============================] - ETA: 0s - loss: 0.0100 - acc: 1.000 - 0s 85us/step - loss: 0.0343 - acc: 0.9930\n",
      "Epoch 28/60\n",
      "426/426 [==============================] - 0s 80us/step - loss: 0.0332 - acc: 0.9930\n",
      "Epoch 29/60\n",
      "426/426 [==============================] - 0s 80us/step - loss: 0.0322 - acc: 0.9930\n",
      "Epoch 30/60\n",
      "426/426 [==============================] - 0s 84us/step - loss: 0.0309 - acc: 0.9930\n",
      "Epoch 31/60\n",
      "426/426 [==============================] - 0s 92us/step - loss: 0.0300 - acc: 0.9930\n",
      "Epoch 32/60\n",
      "426/426 [==============================] - 0s 88us/step - loss: 0.0286 - acc: 0.9930\n",
      "Epoch 33/60\n",
      "426/426 [==============================] - 0s 113us/step - loss: 0.0281 - acc: 0.9930\n",
      "Epoch 34/60\n",
      "426/426 [==============================] - 0s 86us/step - loss: 0.0275 - acc: 0.9930\n",
      "Epoch 35/60\n",
      "426/426 [==============================] - 0s 78us/step - loss: 0.0263 - acc: 0.9930\n",
      "Epoch 36/60\n",
      "426/426 [==============================] - 0s 87us/step - loss: 0.0252 - acc: 0.9930\n",
      "Epoch 37/60\n",
      "426/426 [==============================] - 0s 78us/step - loss: 0.0239 - acc: 0.9930\n",
      "Epoch 38/60\n",
      "426/426 [==============================] - 0s 74us/step - loss: 0.0237 - acc: 0.9930\n",
      "Epoch 39/60\n",
      "426/426 [==============================] - 0s 77us/step - loss: 0.0217 - acc: 0.9930\n",
      "Epoch 40/60\n",
      "426/426 [==============================] - 0s 87us/step - loss: 0.0211 - acc: 0.9953\n",
      "Epoch 41/60\n",
      "426/426 [==============================] - 0s 88us/step - loss: 0.0200 - acc: 0.9953\n",
      "Epoch 42/60\n",
      "426/426 [==============================] - 0s 88us/step - loss: 0.0194 - acc: 0.9953\n",
      "Epoch 43/60\n",
      "426/426 [==============================] - 0s 71us/step - loss: 0.0182 - acc: 0.9953\n",
      "Epoch 44/60\n",
      "426/426 [==============================] - 0s 80us/step - loss: 0.0176 - acc: 0.9953\n",
      "Epoch 45/60\n",
      "426/426 [==============================] - 0s 80us/step - loss: 0.0167 - acc: 0.9953\n",
      "Epoch 46/60\n",
      "426/426 [==============================] - 0s 84us/step - loss: 0.0157 - acc: 0.9953\n",
      "Epoch 47/60\n",
      "426/426 [==============================] - 0s 89us/step - loss: 0.0151 - acc: 0.9953\n",
      "Epoch 48/60\n",
      "426/426 [==============================] - 0s 79us/step - loss: 0.0147 - acc: 0.9953\n",
      "Epoch 49/60\n",
      "426/426 [==============================] - 0s 104us/step - loss: 0.0140 - acc: 0.9953\n",
      "Epoch 50/60\n",
      "426/426 [==============================] - 0s 68us/step - loss: 0.0139 - acc: 0.9953\n",
      "Epoch 51/60\n",
      "426/426 [==============================] - 0s 78us/step - loss: 0.0123 - acc: 0.9953\n",
      "Epoch 52/60\n",
      "426/426 [==============================] - 0s 77us/step - loss: 0.0118 - acc: 0.9953\n",
      "Epoch 53/60\n",
      "426/426 [==============================] - 0s 101us/step - loss: 0.0112 - acc: 0.9953\n",
      "Epoch 54/60\n",
      "426/426 [==============================] - 0s 77us/step - loss: 0.0108 - acc: 0.9953\n",
      "Epoch 55/60\n",
      "426/426 [==============================] - 0s 91us/step - loss: 0.0100 - acc: 0.9953\n",
      "Epoch 56/60\n",
      "426/426 [==============================] - 0s 92us/step - loss: 0.0095 - acc: 1.0000\n",
      "Epoch 57/60\n",
      "426/426 [==============================] - 0s 84us/step - loss: 0.0088 - acc: 0.9977\n",
      "Epoch 58/60\n",
      "426/426 [==============================] - 0s 97us/step - loss: 0.0086 - acc: 0.9977\n",
      "Epoch 59/60\n",
      "426/426 [==============================] - 0s 85us/step - loss: 0.0083 - acc: 0.9977\n",
      "Epoch 60/60\n",
      "426/426 [==============================] - 0s 78us/step - loss: 0.0083 - acc: 1.0000\n"
     ]
    },
    {
     "data": {
      "text/plain": [
       "<keras.callbacks.History at 0x10e6343c8>"
      ]
     },
     "execution_count": 28,
     "metadata": {},
     "output_type": "execute_result"
    }
   ],
   "source": [
    "# Compile and fit the model\n",
    "model.compile(optimizer='adam',\n",
    "              loss='categorical_crossentropy',\n",
    "              metrics=['accuracy'])\n",
    "model.fit(\n",
    "    X_train_scaled,\n",
    "    y_train_categorical,\n",
    "    epochs=60,\n",
    "    shuffle=True,\n",
    "    verbose=1\n",
    ")"
   ]
  },
  {
   "cell_type": "code",
   "execution_count": 29,
   "metadata": {},
   "outputs": [
    {
     "name": "stdout",
     "output_type": "stream",
     "text": [
      "Normal Neural Network - Loss: 0.09968050138452343, Accuracy: 0.972027972027972\n"
     ]
    }
   ],
   "source": [
    "# Quantify our Trained Model\n",
    "model_loss, model_accuracy = model.evaluate(\n",
    "    X_test_scaled, y_test_categorical, verbose=2)\n",
    "print(\n",
    "    f\"Normal Neural Network - Loss: {model_loss}, Accuracy: {model_accuracy}\")"
   ]
  },
  {
   "cell_type": "markdown",
   "metadata": {},
   "source": [
    "# Decision Tree (C4.5)"
   ]
  },
  {
   "cell_type": "code",
   "execution_count": 30,
   "metadata": {},
   "outputs": [
    {
     "data": {
      "text/plain": [
       "0.90209790209790208"
      ]
     },
     "execution_count": 30,
     "metadata": {},
     "output_type": "execute_result"
    }
   ],
   "source": [
    "#Ref: 21-2-4\n",
    "from sklearn import tree\n",
    "clf = tree.DecisionTreeClassifier()\n",
    "clf = clf.fit(X_train, y_train)\n",
    "clf.score(X_test, y_test)"
   ]
  },
  {
   "cell_type": "code",
   "execution_count": 31,
   "metadata": {},
   "outputs": [
    {
     "ename": "InvocationException",
     "evalue": "GraphViz's executables not found",
     "output_type": "error",
     "traceback": [
      "\u001b[0;31m---------------------------------------------------------------------------\u001b[0m",
      "\u001b[0;31mInvocationException\u001b[0m                       Traceback (most recent call last)",
      "\u001b[0;32m<ipython-input-31-e21fb9ffcc05>\u001b[0m in \u001b[0;36m<module>\u001b[0;34m()\u001b[0m\n\u001b[1;32m     13\u001b[0m \u001b[0;32mimport\u001b[0m \u001b[0mpydotplus\u001b[0m\u001b[0;34m\u001b[0m\u001b[0m\n\u001b[1;32m     14\u001b[0m \u001b[0mgraph\u001b[0m \u001b[0;34m=\u001b[0m \u001b[0mpydotplus\u001b[0m\u001b[0;34m.\u001b[0m\u001b[0mgraph_from_dot_data\u001b[0m\u001b[0;34m(\u001b[0m\u001b[0mdot_data\u001b[0m\u001b[0;34m)\u001b[0m\u001b[0;34m\u001b[0m\u001b[0m\n\u001b[0;32m---> 15\u001b[0;31m \u001b[0mgraph\u001b[0m\u001b[0;34m.\u001b[0m\u001b[0mwrite_png\u001b[0m\u001b[0;34m(\u001b[0m\u001b[0;34m'tree.png'\u001b[0m\u001b[0;34m)\u001b[0m\u001b[0;34m\u001b[0m\u001b[0m\n\u001b[0m\u001b[1;32m     16\u001b[0m \u001b[0;34m\u001b[0m\u001b[0m\n\u001b[1;32m     17\u001b[0m \u001b[0mgraph\u001b[0m \u001b[0;34m=\u001b[0m \u001b[0mgraphviz\u001b[0m\u001b[0;34m.\u001b[0m\u001b[0mSource\u001b[0m\u001b[0;34m(\u001b[0m\u001b[0mdot_data\u001b[0m\u001b[0;34m)\u001b[0m\u001b[0;34m\u001b[0m\u001b[0m\n",
      "\u001b[0;32m~/anaconda3/lib/python3.6/site-packages/pydotplus/graphviz.py\u001b[0m in \u001b[0;36m<lambda>\u001b[0;34m(path, f, prog)\u001b[0m\n\u001b[1;32m   1808\u001b[0m                 \u001b[0;32mlambda\u001b[0m \u001b[0mpath\u001b[0m\u001b[0;34m,\u001b[0m\u001b[0;34m\u001b[0m\u001b[0m\n\u001b[1;32m   1809\u001b[0m                 \u001b[0mf\u001b[0m\u001b[0;34m=\u001b[0m\u001b[0mfrmt\u001b[0m\u001b[0;34m,\u001b[0m\u001b[0;34m\u001b[0m\u001b[0m\n\u001b[0;32m-> 1810\u001b[0;31m                 \u001b[0mprog\u001b[0m\u001b[0;34m=\u001b[0m\u001b[0mself\u001b[0m\u001b[0;34m.\u001b[0m\u001b[0mprog\u001b[0m\u001b[0;34m:\u001b[0m \u001b[0mself\u001b[0m\u001b[0;34m.\u001b[0m\u001b[0mwrite\u001b[0m\u001b[0;34m(\u001b[0m\u001b[0mpath\u001b[0m\u001b[0;34m,\u001b[0m \u001b[0mformat\u001b[0m\u001b[0;34m=\u001b[0m\u001b[0mf\u001b[0m\u001b[0;34m,\u001b[0m \u001b[0mprog\u001b[0m\u001b[0;34m=\u001b[0m\u001b[0mprog\u001b[0m\u001b[0;34m)\u001b[0m\u001b[0;34m\u001b[0m\u001b[0m\n\u001b[0m\u001b[1;32m   1811\u001b[0m             )\n\u001b[1;32m   1812\u001b[0m \u001b[0;34m\u001b[0m\u001b[0m\n",
      "\u001b[0;32m~/anaconda3/lib/python3.6/site-packages/pydotplus/graphviz.py\u001b[0m in \u001b[0;36mwrite\u001b[0;34m(self, path, prog, format)\u001b[0m\n\u001b[1;32m   1916\u001b[0m \u001b[0;34m\u001b[0m\u001b[0m\n\u001b[1;32m   1917\u001b[0m             \u001b[0;32melse\u001b[0m\u001b[0;34m:\u001b[0m\u001b[0;34m\u001b[0m\u001b[0m\n\u001b[0;32m-> 1918\u001b[0;31m                 \u001b[0mfobj\u001b[0m\u001b[0;34m.\u001b[0m\u001b[0mwrite\u001b[0m\u001b[0;34m(\u001b[0m\u001b[0mself\u001b[0m\u001b[0;34m.\u001b[0m\u001b[0mcreate\u001b[0m\u001b[0;34m(\u001b[0m\u001b[0mprog\u001b[0m\u001b[0;34m,\u001b[0m \u001b[0mformat\u001b[0m\u001b[0;34m)\u001b[0m\u001b[0;34m)\u001b[0m\u001b[0;34m\u001b[0m\u001b[0m\n\u001b[0m\u001b[1;32m   1919\u001b[0m         \u001b[0;32mfinally\u001b[0m\u001b[0;34m:\u001b[0m\u001b[0;34m\u001b[0m\u001b[0m\n\u001b[1;32m   1920\u001b[0m             \u001b[0;32mif\u001b[0m \u001b[0mclose\u001b[0m\u001b[0;34m:\u001b[0m\u001b[0;34m\u001b[0m\u001b[0m\n",
      "\u001b[0;32m~/anaconda3/lib/python3.6/site-packages/pydotplus/graphviz.py\u001b[0m in \u001b[0;36mcreate\u001b[0;34m(self, prog, format)\u001b[0m\n\u001b[1;32m   1958\u001b[0m             \u001b[0;32mif\u001b[0m \u001b[0mself\u001b[0m\u001b[0;34m.\u001b[0m\u001b[0mprogs\u001b[0m \u001b[0;32mis\u001b[0m \u001b[0;32mNone\u001b[0m\u001b[0;34m:\u001b[0m\u001b[0;34m\u001b[0m\u001b[0m\n\u001b[1;32m   1959\u001b[0m                 raise InvocationException(\n\u001b[0;32m-> 1960\u001b[0;31m                     'GraphViz\\'s executables not found')\n\u001b[0m\u001b[1;32m   1961\u001b[0m \u001b[0;34m\u001b[0m\u001b[0m\n\u001b[1;32m   1962\u001b[0m         \u001b[0;32mif\u001b[0m \u001b[0mprog\u001b[0m \u001b[0;32mnot\u001b[0m \u001b[0;32min\u001b[0m \u001b[0mself\u001b[0m\u001b[0;34m.\u001b[0m\u001b[0mprogs\u001b[0m\u001b[0;34m:\u001b[0m\u001b[0;34m\u001b[0m\u001b[0m\n",
      "\u001b[0;31mInvocationException\u001b[0m: GraphViz's executables not found"
     ]
    }
   ],
   "source": [
    "# WARNING! BOILERPLATE CODE HERE! \n",
    "# Use this to visualize the tree\n",
    "import graphviz \n",
    "target_names = [\"Benign\", \"Malignant\"]\n",
    "feature_names = data.columns\n",
    "dot_data = tree.export_graphviz(\n",
    "    clf, out_file=None, \n",
    "    feature_names=feature_names,  \n",
    "    class_names=target_names,  \n",
    "    filled=True, rounded=True,  \n",
    "    special_characters=True)  \n",
    "\n",
    "import pydotplus\n",
    "graph = pydotplus.graph_from_dot_data(dot_data)\n",
    "graph.write_png('tree.png')\n",
    "\n",
    "graph = graphviz.Source(dot_data)  \n",
    "graph "
   ]
  },
  {
   "cell_type": "markdown",
   "metadata": {},
   "source": [
    "# Naive Bayes (NB) "
   ]
  },
  {
   "cell_type": "code",
   "execution_count": 32,
   "metadata": {
    "collapsed": true
   },
   "outputs": [],
   "source": [
    "from pyspark.sql import SparkSession"
   ]
  },
  {
   "cell_type": "code",
   "execution_count": 34,
   "metadata": {},
   "outputs": [
    {
     "data": {
      "text/plain": [
       "GaussianNB(priors=None)"
      ]
     },
     "execution_count": 34,
     "metadata": {},
     "output_type": "execute_result"
    }
   ],
   "source": [
    "#Import Library of Gaussian Naive Bayes model\n",
    "from sklearn.naive_bayes import GaussianNB\n",
    "model = GaussianNB()\n",
    "model.fit(\n",
    "    X_train,\n",
    "    y_train\n",
    ")"
   ]
  },
  {
   "cell_type": "code",
   "execution_count": 35,
   "metadata": {},
   "outputs": [
    {
     "name": "stdout",
     "output_type": "stream",
     "text": [
      "Training Data Score: 0.9389671361502347\n",
      "Testing Data Score: 0.951048951048951\n"
     ]
    }
   ],
   "source": [
    "print(f\"Training Data Score: {model.score(X_train, y_train)}\")\n",
    "print(f\"Testing Data Score: {model.score(X_test, y_test)}\")"
   ]
  },
  {
   "cell_type": "markdown",
   "metadata": {},
   "source": [
    "# Feature Selection"
   ]
  },
  {
   "cell_type": "code",
   "execution_count": 37,
   "metadata": {},
   "outputs": [
    {
     "name": "stdout",
     "output_type": "stream",
     "text": [
      "Optimal number of features : 22\n",
      "Best features : Index(['radius_mean', 'texture_mean', 'perimeter_mean', 'area_mean',\n",
      "       'smoothness_mean', 'compactness_mean', 'concavity_mean',\n",
      "       'concave points_mean', 'radius_se', 'texture_se', 'area_se',\n",
      "       'concave points_se', 'symmetry_se', 'fractal_dimension_se',\n",
      "       'radius_worst', 'texture_worst', 'perimeter_worst', 'area_worst',\n",
      "       'compactness_worst', 'concavity_worst', 'concave points_worst',\n",
      "       'symmetry_worst'],\n",
      "      dtype='object')\n"
     ]
    }
   ],
   "source": [
    "from sklearn.ensemble import RandomForestClassifier\n",
    "from sklearn.feature_selection import RFECV\n",
    "\n",
    "# The \"accuracy\" scoring is proportional to the number of correct classifications\n",
    "clf_2 = RandomForestClassifier() \n",
    "rfecv = RFECV(estimator=clf_2, step=1, cv=5,scoring='accuracy') #5-fold cross-validation\n",
    "rfecv = rfecv.fit(X_train, y_train)\n",
    "\n",
    "print('Optimal number of features :', rfecv.n_features_)\n",
    "print('Best features :', X_train.columns[rfecv.support_])\n"
   ]
  },
  {
   "cell_type": "code",
   "execution_count": 38,
   "metadata": {},
   "outputs": [
    {
     "data": {
      "text/plain": [
       "Index(['diagnosis', 'radius_mean', 'texture_mean', 'perimeter_mean',\n",
       "       'area_mean', 'smoothness_mean', 'compactness_mean', 'concavity_mean',\n",
       "       'concave points_mean', 'symmetry_mean', 'fractal_dimension_mean',\n",
       "       'radius_se', 'texture_se', 'perimeter_se', 'area_se', 'smoothness_se',\n",
       "       'compactness_se', 'concavity_se', 'concave points_se', 'symmetry_se',\n",
       "       'fractal_dimension_se', 'radius_worst', 'texture_worst',\n",
       "       'perimeter_worst', 'area_worst', 'smoothness_worst',\n",
       "       'compactness_worst', 'concavity_worst', 'concave points_worst',\n",
       "       'symmetry_worst', 'fractal_dimension_worst'],\n",
       "      dtype='object')"
      ]
     },
     "execution_count": 38,
     "metadata": {},
     "output_type": "execute_result"
    }
   ],
   "source": [
    "cancer.columns"
   ]
  },
  {
   "cell_type": "code",
   "execution_count": 54,
   "metadata": {},
   "outputs": [
    {
     "data": {
      "image/png": "[encoded data removed]",
      "text/plain": [
       "<matplotlib.figure.Figure at 0x1a2638da20>"
      ]
     },
     "metadata": {},
     "output_type": "display_data"
    }
   ],
   "source": [
    "# Plot number of features VS. cross-validation scores\n",
    "import matplotlib.pyplot as plt\n",
    "plt.figure()\n",
    "plt.xlabel(\"Number of features selected\")\n",
    "plt.ylabel(\"Cross validation score of number of selected features\")\n",
    "plt.plot(range(1, len(rfecv.grid_scores_) + 1), rfecv.grid_scores_)\n",
    "plt.show()"
   ]
  },
  {
   "cell_type": "markdown",
   "metadata": {
    "collapsed": true
   },
   "source": [
    "# 22 Features were selected"
   ]
  },
  {
   "cell_type": "code",
   "execution_count": 41,
   "metadata": {},
   "outputs": [],
   "source": [
    "cancer_features= cancer.drop(cancer.columns[[9, 10, 13, 15, 16, 17, 25, 30 ]], axis=1)  "
   ]
  },
  {
   "cell_type": "code",
   "execution_count": 42,
   "metadata": {},
   "outputs": [
    {
     "name": "stdout",
     "output_type": "stream",
     "text": [
      "(569, 22) (569,)\n"
     ]
    }
   ],
   "source": [
    "X = cancer_features.drop(\"diagnosis\", axis=1)\n",
    "y = cancer[\"diagnosis\"]\n",
    "print(X.shape, y.shape)"
   ]
  },
  {
   "cell_type": "code",
   "execution_count": 43,
   "metadata": {
    "collapsed": true
   },
   "outputs": [],
   "source": [
    "# Data Pre-processing\n",
    "from sklearn.model_selection import train_test_split\n",
    "from sklearn.preprocessing import LabelEncoder, StandardScaler\n",
    "from keras.utils import to_categorical\n",
    "\n",
    "X_train, X_test, y_train, y_test = train_test_split(\n",
    "    X, y, random_state=1, stratify=y)\n",
    "X_scaler = StandardScaler().fit(X_train)\n",
    "X_train_scaled = X_scaler.transform(X_train)\n",
    "X_test_scaled = X_scaler.transform(X_test)\n",
    "\n",
    "\n",
    "# Step 1: Label-encode data set\n",
    "label_encoder = LabelEncoder()\n",
    "label_encoder.fit(y_train)\n",
    "encoded_y_train = label_encoder.transform(y_train)\n",
    "encoded_y_test = label_encoder.transform(y_test)\n",
    "\n",
    "# Step 2: Convert encoded labels to one-hot-encoding\n",
    "y_train_categorical = to_categorical(encoded_y_train)\n",
    "y_test_categorical = to_categorical(encoded_y_test)"
   ]
  },
  {
   "cell_type": "code",
   "execution_count": 46,
   "metadata": {
    "collapsed": true
   },
   "outputs": [],
   "source": [
    "# Create model and add layers\n",
    "model = Sequential()\n",
    "model.add(Dense(units=50, activation='relu', input_dim=22))\n",
    "model.add(Dense(units=50, activation='relu'))\n",
    "model.add(Dense(units=2, activation='softmax'))"
   ]
  },
  {
   "cell_type": "code",
   "execution_count": 47,
   "metadata": {},
   "outputs": [
    {
     "name": "stdout",
     "output_type": "stream",
     "text": [
      "Epoch 1/60\n",
      "426/426 [==============================] - 0s 1ms/step - loss: 0.4559 - acc: 0.8052\n",
      "Epoch 2/60\n",
      "426/426 [==============================] - 0s 84us/step - loss: 0.2253 - acc: 0.9554\n",
      "Epoch 3/60\n",
      "426/426 [==============================] - 0s 79us/step - loss: 0.1506 - acc: 0.9624\n",
      "Epoch 4/60\n",
      "426/426 [==============================] - 0s 77us/step - loss: 0.1140 - acc: 0.9765\n",
      "Epoch 5/60\n",
      "426/426 [==============================] - 0s 86us/step - loss: 0.0933 - acc: 0.9812\n",
      "Epoch 6/60\n",
      "426/426 [==============================] - 0s 86us/step - loss: 0.0790 - acc: 0.9859\n",
      "Epoch 7/60\n",
      "426/426 [==============================] - 0s 77us/step - loss: 0.0694 - acc: 0.9883\n",
      "Epoch 8/60\n",
      "426/426 [==============================] - 0s 104us/step - loss: 0.0619 - acc: 0.9859\n",
      "Epoch 9/60\n",
      "426/426 [==============================] - 0s 81us/step - loss: 0.0560 - acc: 0.9859\n",
      "Epoch 10/60\n",
      "426/426 [==============================] - ETA: 0s - loss: 0.0448 - acc: 1.000 - 0s 78us/step - loss: 0.0506 - acc: 0.9906\n",
      "Epoch 11/60\n",
      "426/426 [==============================] - 0s 84us/step - loss: 0.0464 - acc: 0.9906\n",
      "Epoch 12/60\n",
      "426/426 [==============================] - 0s 85us/step - loss: 0.0429 - acc: 0.9906\n",
      "Epoch 13/60\n",
      "426/426 [==============================] - 0s 90us/step - loss: 0.0394 - acc: 0.9906\n",
      "Epoch 14/60\n",
      "426/426 [==============================] - 0s 83us/step - loss: 0.0373 - acc: 0.9906\n",
      "Epoch 15/60\n",
      "426/426 [==============================] - 0s 78us/step - loss: 0.0342 - acc: 0.9906\n",
      "Epoch 16/60\n",
      "426/426 [==============================] - 0s 76us/step - loss: 0.0319 - acc: 0.9906\n",
      "Epoch 17/60\n",
      "426/426 [==============================] - 0s 85us/step - loss: 0.0298 - acc: 0.9906\n",
      "Epoch 18/60\n",
      "426/426 [==============================] - 0s 85us/step - loss: 0.0276 - acc: 0.9930\n",
      "Epoch 19/60\n",
      "426/426 [==============================] - 0s 87us/step - loss: 0.0260 - acc: 0.9930\n",
      "Epoch 20/60\n",
      "426/426 [==============================] - 0s 76us/step - loss: 0.0244 - acc: 0.9930\n",
      "Epoch 21/60\n",
      "426/426 [==============================] - 0s 65us/step - loss: 0.0228 - acc: 0.9930\n",
      "Epoch 22/60\n",
      "426/426 [==============================] - 0s 77us/step - loss: 0.0209 - acc: 0.9930\n",
      "Epoch 23/60\n",
      "426/426 [==============================] - 0s 81us/step - loss: 0.0197 - acc: 0.9930\n",
      "Epoch 24/60\n",
      "426/426 [==============================] - 0s 83us/step - loss: 0.0184 - acc: 0.9930\n",
      "Epoch 25/60\n",
      "426/426 [==============================] - 0s 77us/step - loss: 0.0170 - acc: 0.9930\n",
      "Epoch 26/60\n",
      "426/426 [==============================] - 0s 84us/step - loss: 0.0155 - acc: 0.9953\n",
      "Epoch 27/60\n",
      "426/426 [==============================] - 0s 80us/step - loss: 0.0144 - acc: 0.9953\n",
      "Epoch 28/60\n",
      "426/426 [==============================] - 0s 68us/step - loss: 0.0135 - acc: 0.9977\n",
      "Epoch 29/60\n",
      "426/426 [==============================] - 0s 82us/step - loss: 0.0126 - acc: 0.9977\n",
      "Epoch 30/60\n",
      "426/426 [==============================] - 0s 86us/step - loss: 0.0120 - acc: 0.9977\n",
      "Epoch 31/60\n",
      "426/426 [==============================] - 0s 88us/step - loss: 0.0112 - acc: 0.9977\n",
      "Epoch 32/60\n",
      "426/426 [==============================] - 0s 83us/step - loss: 0.0106 - acc: 0.9977\n",
      "Epoch 33/60\n",
      "426/426 [==============================] - ETA: 0s - loss: 0.0312 - acc: 0.968 - 0s 84us/step - loss: 0.0095 - acc: 0.9977\n",
      "Epoch 34/60\n",
      "426/426 [==============================] - 0s 79us/step - loss: 0.0093 - acc: 0.9977\n",
      "Epoch 35/60\n",
      "426/426 [==============================] - 0s 70us/step - loss: 0.0085 - acc: 0.9977\n",
      "Epoch 36/60\n",
      "426/426 [==============================] - 0s 76us/step - loss: 0.0080 - acc: 0.9977\n",
      "Epoch 37/60\n",
      "426/426 [==============================] - 0s 100us/step - loss: 0.0076 - acc: 0.9977\n",
      "Epoch 38/60\n",
      "426/426 [==============================] - 0s 80us/step - loss: 0.0070 - acc: 0.9977\n",
      "Epoch 39/60\n",
      "426/426 [==============================] - 0s 85us/step - loss: 0.0069 - acc: 0.9977\n",
      "Epoch 40/60\n",
      "426/426 [==============================] - 0s 86us/step - loss: 0.0062 - acc: 1.0000\n",
      "Epoch 41/60\n",
      "426/426 [==============================] - 0s 71us/step - loss: 0.0062 - acc: 1.0000\n",
      "Epoch 42/60\n",
      "426/426 [==============================] - 0s 84us/step - loss: 0.0057 - acc: 1.0000\n",
      "Epoch 43/60\n",
      "426/426 [==============================] - 0s 85us/step - loss: 0.0056 - acc: 1.0000\n",
      "Epoch 44/60\n",
      "426/426 [==============================] - 0s 76us/step - loss: 0.0067 - acc: 1.0000\n",
      "Epoch 45/60\n",
      "426/426 [==============================] - 0s 73us/step - loss: 0.0049 - acc: 1.0000\n",
      "Epoch 46/60\n",
      "426/426 [==============================] - 0s 76us/step - loss: 0.0047 - acc: 1.0000\n",
      "Epoch 47/60\n",
      "426/426 [==============================] - 0s 81us/step - loss: 0.0043 - acc: 1.0000\n",
      "Epoch 48/60\n",
      "426/426 [==============================] - 0s 82us/step - loss: 0.0043 - acc: 1.0000\n",
      "Epoch 49/60\n",
      "426/426 [==============================] - 0s 72us/step - loss: 0.0038 - acc: 1.0000\n",
      "Epoch 50/60\n",
      "426/426 [==============================] - 0s 85us/step - loss: 0.0037 - acc: 1.0000\n",
      "Epoch 51/60\n",
      "426/426 [==============================] - 0s 86us/step - loss: 0.0034 - acc: 1.0000\n",
      "Epoch 52/60\n",
      "426/426 [==============================] - 0s 94us/step - loss: 0.0033 - acc: 1.0000\n",
      "Epoch 53/60\n",
      "426/426 [==============================] - 0s 75us/step - loss: 0.0032 - acc: 1.0000\n",
      "Epoch 54/60\n",
      "426/426 [==============================] - 0s 103us/step - loss: 0.0031 - acc: 1.0000\n",
      "Epoch 55/60\n",
      "426/426 [==============================] - 0s 92us/step - loss: 0.0028 - acc: 1.0000\n",
      "Epoch 56/60\n",
      "426/426 [==============================] - 0s 88us/step - loss: 0.0027 - acc: 1.0000\n",
      "Epoch 57/60\n",
      "426/426 [==============================] - ETA: 0s - loss: 0.0050 - acc: 1.000 - 0s 72us/step - loss: 0.0025 - acc: 1.0000\n",
      "Epoch 58/60\n",
      "426/426 [==============================] - 0s 79us/step - loss: 0.0026 - acc: 1.0000\n",
      "Epoch 59/60\n",
      "426/426 [==============================] - 0s 70us/step - loss: 0.0023 - acc: 1.0000\n",
      "Epoch 60/60\n",
      "426/426 [==============================] - 0s 89us/step - loss: 0.0023 - acc: 1.0000\n"
     ]
    },
    {
     "data": {
      "text/plain": [
       "<keras.callbacks.History at 0x1a25bc3f98>"
      ]
     },
     "execution_count": 47,
     "metadata": {},
     "output_type": "execute_result"
    }
   ],
   "source": [
    "# Compile and fit the model\n",
    "model.compile(optimizer='adam',\n",
    "              loss='categorical_crossentropy',\n",
    "              metrics=['accuracy'])\n",
    "model.fit(\n",
    "    X_train_scaled,\n",
    "    y_train_categorical,\n",
    "    epochs=60,\n",
    "    shuffle=True,\n",
    "    verbose=1\n",
    ")"
   ]
  },
  {
   "cell_type": "code",
   "execution_count": 48,
   "metadata": {},
   "outputs": [
    {
     "name": "stdout",
     "output_type": "stream",
     "text": [
      "Normal Neural Network - Loss: 0.09953111227585688, Accuracy: 0.9790209790209791\n"
     ]
    }
   ],
   "source": [
    "# Quantify our Trained Model\n",
    "model_loss, model_accuracy = model.evaluate(\n",
    "    X_test_scaled, y_test_categorical, verbose=2)\n",
    "print(\n",
    "    f\"Normal Neural Network - Loss: {model_loss}, Accuracy: {model_accuracy}\")\n"
   ]
  },
  {
   "cell_type": "markdown",
   "metadata": {},
   "source": [
    "# Deep Learning #Sigmoid"
   ]
  },
  {
   "cell_type": "code",
   "execution_count": 51,
   "metadata": {
    "collapsed": true
   },
   "outputs": [],
   "source": [
    "# Create model and add layers\n",
    "model = Sequential()\n",
    "model.add(Dense(units=50, activation='sigmoid', input_dim=22))\n",
    "model.add(Dense(units=50, activation='sigmoid'))\n",
    "model.add(Dense(units=2, activation='softmax'))"
   ]
  },
  {
   "cell_type": "code",
   "execution_count": 52,
   "metadata": {},
   "outputs": [
    {
     "name": "stdout",
     "output_type": "stream",
     "text": [
      "Epoch 1/60\n",
      "426/426 [==============================] - 0s 1ms/step - loss: 0.6100 - acc: 0.6268\n",
      "Epoch 2/60\n",
      "426/426 [==============================] - 0s 81us/step - loss: 0.4988 - acc: 0.7582\n",
      "Epoch 3/60\n",
      "426/426 [==============================] - 0s 78us/step - loss: 0.4004 - acc: 0.9178\n",
      "Epoch 4/60\n",
      "426/426 [==============================] - 0s 69us/step - loss: 0.3145 - acc: 0.9366\n",
      "Epoch 5/60\n",
      "426/426 [==============================] - 0s 76us/step - loss: 0.2461 - acc: 0.9484\n",
      "Epoch 6/60\n",
      "426/426 [==============================] - 0s 78us/step - loss: 0.1986 - acc: 0.9507\n",
      "Epoch 7/60\n",
      "426/426 [==============================] - 0s 89us/step - loss: 0.1675 - acc: 0.9624\n",
      "Epoch 8/60\n",
      "426/426 [==============================] - 0s 89us/step - loss: 0.1448 - acc: 0.9718\n",
      "Epoch 9/60\n",
      "426/426 [==============================] - 0s 98us/step - loss: 0.1298 - acc: 0.9789\n",
      "Epoch 10/60\n",
      "426/426 [==============================] - 0s 101us/step - loss: 0.1169 - acc: 0.9812\n",
      "Epoch 11/60\n",
      "426/426 [==============================] - 0s 82us/step - loss: 0.1078 - acc: 0.9765\n",
      "Epoch 12/60\n",
      "426/426 [==============================] - 0s 84us/step - loss: 0.1006 - acc: 0.9789\n",
      "Epoch 13/60\n",
      "426/426 [==============================] - 0s 68us/step - loss: 0.0950 - acc: 0.9789\n",
      "Epoch 14/60\n",
      "426/426 [==============================] - 0s 77us/step - loss: 0.0911 - acc: 0.9765\n",
      "Epoch 15/60\n",
      "426/426 [==============================] - 0s 80us/step - loss: 0.0858 - acc: 0.9765\n",
      "Epoch 16/60\n",
      "426/426 [==============================] - 0s 73us/step - loss: 0.0829 - acc: 0.9812\n",
      "Epoch 17/60\n",
      "426/426 [==============================] - 0s 85us/step - loss: 0.0811 - acc: 0.9812\n",
      "Epoch 18/60\n",
      "426/426 [==============================] - 0s 79us/step - loss: 0.0778 - acc: 0.9765\n",
      "Epoch 19/60\n",
      "426/426 [==============================] - 0s 89us/step - loss: 0.0758 - acc: 0.9765\n",
      "Epoch 20/60\n",
      "426/426 [==============================] - 0s 85us/step - loss: 0.0760 - acc: 0.9765\n",
      "Epoch 21/60\n",
      "426/426 [==============================] - 0s 82us/step - loss: 0.0727 - acc: 0.9789\n",
      "Epoch 22/60\n",
      "426/426 [==============================] - 0s 86us/step - loss: 0.0714 - acc: 0.9789\n",
      "Epoch 23/60\n",
      "426/426 [==============================] - 0s 78us/step - loss: 0.0699 - acc: 0.9789\n",
      "Epoch 24/60\n",
      "426/426 [==============================] - 0s 89us/step - loss: 0.0690 - acc: 0.9789\n",
      "Epoch 25/60\n",
      "426/426 [==============================] - 0s 88us/step - loss: 0.0679 - acc: 0.9812\n",
      "Epoch 26/60\n",
      "426/426 [==============================] - 0s 84us/step - loss: 0.0655 - acc: 0.9812\n",
      "Epoch 27/60\n",
      "426/426 [==============================] - 0s 91us/step - loss: 0.0663 - acc: 0.9789\n",
      "Epoch 28/60\n",
      "426/426 [==============================] - ETA: 0s - loss: 0.2271 - acc: 0.968 - 0s 90us/step - loss: 0.0640 - acc: 0.9812\n",
      "Epoch 29/60\n",
      "426/426 [==============================] - 0s 90us/step - loss: 0.0638 - acc: 0.9812\n",
      "Epoch 30/60\n",
      "426/426 [==============================] - 0s 88us/step - loss: 0.0629 - acc: 0.9812\n",
      "Epoch 31/60\n",
      "426/426 [==============================] - 0s 85us/step - loss: 0.0631 - acc: 0.9836\n",
      "Epoch 32/60\n",
      "426/426 [==============================] - 0s 73us/step - loss: 0.0620 - acc: 0.9859\n",
      "Epoch 33/60\n",
      "426/426 [==============================] - 0s 63us/step - loss: 0.0622 - acc: 0.9812\n",
      "Epoch 34/60\n",
      "426/426 [==============================] - 0s 76us/step - loss: 0.0611 - acc: 0.9812\n",
      "Epoch 35/60\n",
      "426/426 [==============================] - 0s 66us/step - loss: 0.0602 - acc: 0.9836\n",
      "Epoch 36/60\n",
      "426/426 [==============================] - 0s 77us/step - loss: 0.0590 - acc: 0.9859\n",
      "Epoch 37/60\n",
      "426/426 [==============================] - 0s 65us/step - loss: 0.0586 - acc: 0.9859\n",
      "Epoch 38/60\n",
      "426/426 [==============================] - 0s 95us/step - loss: 0.0582 - acc: 0.9859\n",
      "Epoch 39/60\n",
      "426/426 [==============================] - 0s 76us/step - loss: 0.0577 - acc: 0.9859\n",
      "Epoch 40/60\n",
      "426/426 [==============================] - 0s 104us/step - loss: 0.0571 - acc: 0.9859\n",
      "Epoch 41/60\n",
      "426/426 [==============================] - 0s 72us/step - loss: 0.0570 - acc: 0.9859\n",
      "Epoch 42/60\n",
      "426/426 [==============================] - 0s 80us/step - loss: 0.0566 - acc: 0.9859\n",
      "Epoch 43/60\n",
      "426/426 [==============================] - 0s 83us/step - loss: 0.0563 - acc: 0.9859\n",
      "Epoch 44/60\n",
      "426/426 [==============================] - 0s 87us/step - loss: 0.0556 - acc: 0.9859\n",
      "Epoch 45/60\n",
      "426/426 [==============================] - 0s 84us/step - loss: 0.0556 - acc: 0.9859\n",
      "Epoch 46/60\n",
      "426/426 [==============================] - 0s 89us/step - loss: 0.0550 - acc: 0.9859\n",
      "Epoch 47/60\n",
      "426/426 [==============================] - 0s 70us/step - loss: 0.0546 - acc: 0.9859\n",
      "Epoch 48/60\n",
      "426/426 [==============================] - 0s 86us/step - loss: 0.0544 - acc: 0.9859\n",
      "Epoch 49/60\n",
      "426/426 [==============================] - 0s 91us/step - loss: 0.0547 - acc: 0.9859\n",
      "Epoch 50/60\n",
      "426/426 [==============================] - 0s 76us/step - loss: 0.0539 - acc: 0.9859\n",
      "Epoch 51/60\n",
      "426/426 [==============================] - 0s 95us/step - loss: 0.0539 - acc: 0.9859\n",
      "Epoch 52/60\n",
      "426/426 [==============================] - 0s 85us/step - loss: 0.0533 - acc: 0.9859\n",
      "Epoch 53/60\n",
      "426/426 [==============================] - 0s 82us/step - loss: 0.0531 - acc: 0.9859\n",
      "Epoch 54/60\n",
      "426/426 [==============================] - 0s 92us/step - loss: 0.0533 - acc: 0.9859\n",
      "Epoch 55/60\n",
      "426/426 [==============================] - 0s 101us/step - loss: 0.0522 - acc: 0.9859\n",
      "Epoch 56/60\n",
      "426/426 [==============================] - 0s 71us/step - loss: 0.0521 - acc: 0.9859\n",
      "Epoch 57/60\n",
      "426/426 [==============================] - 0s 90us/step - loss: 0.0522 - acc: 0.9859\n",
      "Epoch 58/60\n",
      "426/426 [==============================] - 0s 69us/step - loss: 0.0516 - acc: 0.9859\n",
      "Epoch 59/60\n",
      "426/426 [==============================] - 0s 73us/step - loss: 0.0520 - acc: 0.9883\n",
      "Epoch 60/60\n",
      "426/426 [==============================] - 0s 79us/step - loss: 0.0512 - acc: 0.9883\n"
     ]
    },
    {
     "data": {
      "text/plain": [
       "<keras.callbacks.History at 0x1a25f32e10>"
      ]
     },
     "execution_count": 52,
     "metadata": {},
     "output_type": "execute_result"
    }
   ],
   "source": [
    "# Compile and fit the model\n",
    "model.compile(optimizer='adam',\n",
    "              loss='categorical_crossentropy',\n",
    "              metrics=['accuracy'])\n",
    "model.fit(\n",
    "    X_train_scaled,\n",
    "    y_train_categorical,\n",
    "    epochs=60,\n",
    "    shuffle=True,\n",
    "    verbose=1\n",
    ")"
   ]
  },
  {
   "cell_type": "code",
   "execution_count": 53,
   "metadata": {},
   "outputs": [
    {
     "name": "stdout",
     "output_type": "stream",
     "text": [
      "Normal Neural Network - Loss: 0.06917847549848884, Accuracy: 0.9790209790209791\n"
     ]
    }
   ],
   "source": [
    "# Quantify our Trained Model\n",
    "model_loss, model_accuracy = model.evaluate(\n",
    "    X_test_scaled, y_test_categorical, verbose=2)\n",
    "print(\n",
    "    f\"Normal Neural Network - Loss: {model_loss}, Accuracy: {model_accuracy}\")"
   ]
  },
  {
   "cell_type": "code",
   "execution_count": null,
   "metadata": {
    "collapsed": true
   },
   "outputs": [],
   "source": []
  }
 ],
 "metadata": {
  "kernelspec": {
   "display_name": "Python 3",
   "language": "python",
   "name": "python3"
  },
  "language_info": {
   "codemirror_mode": {
    "name": "ipython",
    "version": 3
   },
   "file_extension": ".py",
   "mimetype": "text/x-python",
   "name": "python",
   "nbconvert_exporter": "python",
   "pygments_lexer": "ipython3",
   "version": "3.6.3"
  }
 },
 "nbformat": 4,
 "nbformat_minor": 2
}
